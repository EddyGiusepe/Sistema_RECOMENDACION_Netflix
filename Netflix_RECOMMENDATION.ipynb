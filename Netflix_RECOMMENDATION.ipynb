{
  "nbformat": 4,
  "nbformat_minor": 0,
  "metadata": {
    "colab": {
      "name": "Netflix_RECOMMENDATION.ipynb",
      "provenance": [],
      "machine_shape": "hm",
      "collapsed_sections": [
        "X-S7bWUx_yxe",
        "wY-WCHq6_b8o",
        "wzu_p71oG7kB",
        "BsRPORB1Tevd",
        "2ErwgEIgpJC7",
        "9V3XDyUIxF0k",
        "1WjHEY47J8X5",
        "HmJn0xiBLE5Q",
        "0UQK4kTfVpYB",
        "wu-7T3XpYbab",
        "Dge-P0R2VEkd",
        "Fbjz9OivWgGd"
      ],
      "mount_file_id": "14xB5-uGhArjoTEX91hAcUw74bmb-g4fT",
      "authorship_tag": "ABX9TyPV5gqfF956WXyRamAQulk1",
      "include_colab_link": true
    },
    "kernelspec": {
      "name": "python3",
      "display_name": "Python 3"
    },
    "language_info": {
      "name": "python"
    },
    "accelerator": "TPU"
  },
  "cells": [
    {
      "cell_type": "markdown",
      "metadata": {
        "id": "view-in-github",
        "colab_type": "text"
      },
      "source": [
        "<a href=\"https://colab.research.google.com/github/EddyGiusepe/Sistema_RECOMENDACION_Netflix/blob/main/Netflix_RECOMMENDATION.ipynb\" target=\"_parent\"><img src=\"https://colab.research.google.com/assets/colab-badge.svg\" alt=\"Open In Colab\"/></a>"
      ]
    },
    {
      "cell_type": "markdown",
      "source": [
        "# <h2 align='center'>**Sistema de recomendação de filmes na Netflix com Python**</h2> \n",
        "\n",
        "\n",
        "**Cientista de Dados Jr.:**  Dr.Eddy Giusepe Chirinos Isidro"
      ],
      "metadata": {
        "id": "V6tSpf80O7ww"
      }
    },
    {
      "cell_type": "markdown",
      "source": [
        "## 1. Importamos as nossas bibliotecas "
      ],
      "metadata": {
        "id": "ExES-vDWQjBb"
      }
    },
    {
      "cell_type": "code",
      "source": [
        "import numpy as np # Algebra linear\n",
        "import pandas as pd # Para processar nossos Dados\n",
        "import matplotlib.pyplot as plt\n",
        "%matplotlib inline\n",
        "\n",
        "import time\n",
        "import seaborn as sns\n",
        "import re\n",
        "import math\n",
        "\n",
        "import plotly.express as px"
      ],
      "metadata": {
        "id": "6nbu82dUO4fq"
      },
      "execution_count": 1,
      "outputs": []
    },
    {
      "cell_type": "markdown",
      "source": [
        "## 2. Carregamos nossos Dados "
      ],
      "metadata": {
        "id": "x5OAtuVARewk"
      }
    },
    {
      "cell_type": "code",
      "source": [
        "df = pd.read_csv(\"/content/drive/MyDrive/4_teoria_IA_ML_DL_Eddy/Sistema_recomendacion_Netflix/netflix_titles.csv\")"
      ],
      "metadata": {
        "id": "Q5AzhzsbReSq"
      },
      "execution_count": 2,
      "outputs": []
    },
    {
      "cell_type": "code",
      "source": [
        "df.shape"
      ],
      "metadata": {
        "colab": {
          "base_uri": "https://localhost:8080/"
        },
        "id": "LLCwT2xJSHUD",
        "outputId": "2b43ae3b-656d-4166-83da-fd85b9f9c69f"
      },
      "execution_count": 3,
      "outputs": [
        {
          "output_type": "execute_result",
          "data": {
            "text/plain": [
              "(7787, 12)"
            ]
          },
          "metadata": {},
          "execution_count": 3
        }
      ]
    },
    {
      "cell_type": "code",
      "source": [
        "df.sample(10)"
      ],
      "metadata": {
        "colab": {
          "base_uri": "https://localhost:8080/",
          "height": 580
        },
        "id": "K8YHon3mSJNj",
        "outputId": "35a69fb2-dc39-4985-ad86-96ef87559d60"
      },
      "execution_count": 4,
      "outputs": [
        {
          "output_type": "execute_result",
          "data": {
            "text/html": [
              "\n",
              "  <div id=\"df-ea9324bc-d761-462b-b1bd-392c94004519\">\n",
              "    <div class=\"colab-df-container\">\n",
              "      <div>\n",
              "<style scoped>\n",
              "    .dataframe tbody tr th:only-of-type {\n",
              "        vertical-align: middle;\n",
              "    }\n",
              "\n",
              "    .dataframe tbody tr th {\n",
              "        vertical-align: top;\n",
              "    }\n",
              "\n",
              "    .dataframe thead th {\n",
              "        text-align: right;\n",
              "    }\n",
              "</style>\n",
              "<table border=\"1\" class=\"dataframe\">\n",
              "  <thead>\n",
              "    <tr style=\"text-align: right;\">\n",
              "      <th></th>\n",
              "      <th>show_id</th>\n",
              "      <th>type</th>\n",
              "      <th>title</th>\n",
              "      <th>director</th>\n",
              "      <th>cast</th>\n",
              "      <th>country</th>\n",
              "      <th>date_added</th>\n",
              "      <th>release_year</th>\n",
              "      <th>rating</th>\n",
              "      <th>duration</th>\n",
              "      <th>listed_in</th>\n",
              "      <th>description</th>\n",
              "    </tr>\n",
              "  </thead>\n",
              "  <tbody>\n",
              "    <tr>\n",
              "      <th>3872</th>\n",
              "      <td>s3873</td>\n",
              "      <td>Movie</td>\n",
              "      <td>Main Hoon Na</td>\n",
              "      <td>Farah Khan</td>\n",
              "      <td>Shah Rukh Khan, Sunil Shetty, Sushmita Sen, Za...</td>\n",
              "      <td>India</td>\n",
              "      <td>April 1, 2018</td>\n",
              "      <td>2004</td>\n",
              "      <td>TV-14</td>\n",
              "      <td>171 min</td>\n",
              "      <td>Action &amp; Adventure, Comedies, Dramas</td>\n",
              "      <td>Major Ram Prasad Sharma yearns to see project ...</td>\n",
              "    </tr>\n",
              "    <tr>\n",
              "      <th>3577</th>\n",
              "      <td>s3578</td>\n",
              "      <td>Movie</td>\n",
              "      <td>Legion</td>\n",
              "      <td>Scott Stewart</td>\n",
              "      <td>Paul Bettany, Lucas Black, Tyrese Gibson, Adri...</td>\n",
              "      <td>United States</td>\n",
              "      <td>November 1, 2019</td>\n",
              "      <td>2010</td>\n",
              "      <td>R</td>\n",
              "      <td>100 min</td>\n",
              "      <td>Action &amp; Adventure, Horror Movies, Sci-Fi &amp; Fa...</td>\n",
              "      <td>A motley crew of apocalypse survivors living a...</td>\n",
              "    </tr>\n",
              "    <tr>\n",
              "      <th>166</th>\n",
              "      <td>s167</td>\n",
              "      <td>Movie</td>\n",
              "      <td>A Dangerous Woman</td>\n",
              "      <td>Stephen Gyllenhaal</td>\n",
              "      <td>Debra Winger, Barbara Hershey, Gabriel Byrne, ...</td>\n",
              "      <td>United States</td>\n",
              "      <td>April 1, 2018</td>\n",
              "      <td>1993</td>\n",
              "      <td>R</td>\n",
              "      <td>101 min</td>\n",
              "      <td>Dramas, Romantic Movies</td>\n",
              "      <td>At the center of this engrossing melodrama is ...</td>\n",
              "    </tr>\n",
              "    <tr>\n",
              "      <th>6132</th>\n",
              "      <td>s6133</td>\n",
              "      <td>Movie</td>\n",
              "      <td>The Binding</td>\n",
              "      <td>Domenico de Feudis</td>\n",
              "      <td>Riccardo Scamarcio, Mía Maestro</td>\n",
              "      <td>Italy</td>\n",
              "      <td>October 2, 2020</td>\n",
              "      <td>2020</td>\n",
              "      <td>TV-MA</td>\n",
              "      <td>93 min</td>\n",
              "      <td>Horror Movies, International Movies, Thrillers</td>\n",
              "      <td>While visiting her fiancé's mother in southern...</td>\n",
              "    </tr>\n",
              "    <tr>\n",
              "      <th>6204</th>\n",
              "      <td>s6205</td>\n",
              "      <td>Movie</td>\n",
              "      <td>The Cell</td>\n",
              "      <td>Tarek Al Eryan</td>\n",
              "      <td>Ahmed Ezz, Mohamed Mamdouh, Samer al Masri, Am...</td>\n",
              "      <td>Egypt</td>\n",
              "      <td>June 13, 2019</td>\n",
              "      <td>2017</td>\n",
              "      <td>TV-MA</td>\n",
              "      <td>126 min</td>\n",
              "      <td>Action &amp; Adventure, Dramas, International Movies</td>\n",
              "      <td>A special operations officer vows to get reven...</td>\n",
              "    </tr>\n",
              "    <tr>\n",
              "      <th>7351</th>\n",
              "      <td>s7352</td>\n",
              "      <td>Movie</td>\n",
              "      <td>Unknown</td>\n",
              "      <td>Jaume Collet-Serra</td>\n",
              "      <td>Liam Neeson, Diane Kruger, January Jones, Aida...</td>\n",
              "      <td>United Kingdom, Germany, France, United States</td>\n",
              "      <td>January 1, 2021</td>\n",
              "      <td>2011</td>\n",
              "      <td>PG-13</td>\n",
              "      <td>113 min</td>\n",
              "      <td>Action &amp; Adventure, Thrillers</td>\n",
              "      <td>Liam Neeson stars as a man who regains conscio...</td>\n",
              "    </tr>\n",
              "    <tr>\n",
              "      <th>4440</th>\n",
              "      <td>s4441</td>\n",
              "      <td>Movie</td>\n",
              "      <td>Neal Brennan: 3 Mics</td>\n",
              "      <td>Neal Brennan</td>\n",
              "      <td>Neal Brennan</td>\n",
              "      <td>United States</td>\n",
              "      <td>January 17, 2017</td>\n",
              "      <td>2017</td>\n",
              "      <td>TV-MA</td>\n",
              "      <td>66 min</td>\n",
              "      <td>Stand-Up Comedy</td>\n",
              "      <td>Wicked one-liners and soul-baring confessions ...</td>\n",
              "    </tr>\n",
              "    <tr>\n",
              "      <th>6263</th>\n",
              "      <td>s6264</td>\n",
              "      <td>Movie</td>\n",
              "      <td>The Damned Rain</td>\n",
              "      <td>Satish Manwar</td>\n",
              "      <td>Sonali Kulkarni, Girish Kulkarni, Jyoti Subhas...</td>\n",
              "      <td>India</td>\n",
              "      <td>January 1, 2018</td>\n",
              "      <td>2009</td>\n",
              "      <td>TV-14</td>\n",
              "      <td>99 min</td>\n",
              "      <td>Dramas, International Movies</td>\n",
              "      <td>An optimistic farmer is determined to succeed ...</td>\n",
              "    </tr>\n",
              "    <tr>\n",
              "      <th>2701</th>\n",
              "      <td>s2702</td>\n",
              "      <td>TV Show</td>\n",
              "      <td>Her Mother's Killer</td>\n",
              "      <td>NaN</td>\n",
              "      <td>Carolina Gómez, Marlon Moreno, George Slebi, G...</td>\n",
              "      <td>Colombia</td>\n",
              "      <td>August 26, 2020</td>\n",
              "      <td>2020</td>\n",
              "      <td>TV-MA</td>\n",
              "      <td>1 Season</td>\n",
              "      <td>International TV Shows, Spanish-Language TV Sh...</td>\n",
              "      <td>Nearly 30 years after her mom's murder, a poli...</td>\n",
              "    </tr>\n",
              "    <tr>\n",
              "      <th>4909</th>\n",
              "      <td>s4910</td>\n",
              "      <td>Movie</td>\n",
              "      <td>Popeye</td>\n",
              "      <td>Robert Altman</td>\n",
              "      <td>Robin Williams, Shelley Duvall, Ray Walston, P...</td>\n",
              "      <td>United States</td>\n",
              "      <td>November 24, 2019</td>\n",
              "      <td>1980</td>\n",
              "      <td>PG</td>\n",
              "      <td>114 min</td>\n",
              "      <td>Action &amp; Adventure, Children &amp; Family Movies, ...</td>\n",
              "      <td>During a storm that wrecks his ship, super-str...</td>\n",
              "    </tr>\n",
              "  </tbody>\n",
              "</table>\n",
              "</div>\n",
              "      <button class=\"colab-df-convert\" onclick=\"convertToInteractive('df-ea9324bc-d761-462b-b1bd-392c94004519')\"\n",
              "              title=\"Convert this dataframe to an interactive table.\"\n",
              "              style=\"display:none;\">\n",
              "        \n",
              "  <svg xmlns=\"http://www.w3.org/2000/svg\" height=\"24px\"viewBox=\"0 0 24 24\"\n",
              "       width=\"24px\">\n",
              "    <path d=\"M0 0h24v24H0V0z\" fill=\"none\"/>\n",
              "    <path d=\"M18.56 5.44l.94 2.06.94-2.06 2.06-.94-2.06-.94-.94-2.06-.94 2.06-2.06.94zm-11 1L8.5 8.5l.94-2.06 2.06-.94-2.06-.94L8.5 2.5l-.94 2.06-2.06.94zm10 10l.94 2.06.94-2.06 2.06-.94-2.06-.94-.94-2.06-.94 2.06-2.06.94z\"/><path d=\"M17.41 7.96l-1.37-1.37c-.4-.4-.92-.59-1.43-.59-.52 0-1.04.2-1.43.59L10.3 9.45l-7.72 7.72c-.78.78-.78 2.05 0 2.83L4 21.41c.39.39.9.59 1.41.59.51 0 1.02-.2 1.41-.59l7.78-7.78 2.81-2.81c.8-.78.8-2.07 0-2.86zM5.41 20L4 18.59l7.72-7.72 1.47 1.35L5.41 20z\"/>\n",
              "  </svg>\n",
              "      </button>\n",
              "      \n",
              "  <style>\n",
              "    .colab-df-container {\n",
              "      display:flex;\n",
              "      flex-wrap:wrap;\n",
              "      gap: 12px;\n",
              "    }\n",
              "\n",
              "    .colab-df-convert {\n",
              "      background-color: #E8F0FE;\n",
              "      border: none;\n",
              "      border-radius: 50%;\n",
              "      cursor: pointer;\n",
              "      display: none;\n",
              "      fill: #1967D2;\n",
              "      height: 32px;\n",
              "      padding: 0 0 0 0;\n",
              "      width: 32px;\n",
              "    }\n",
              "\n",
              "    .colab-df-convert:hover {\n",
              "      background-color: #E2EBFA;\n",
              "      box-shadow: 0px 1px 2px rgba(60, 64, 67, 0.3), 0px 1px 3px 1px rgba(60, 64, 67, 0.15);\n",
              "      fill: #174EA6;\n",
              "    }\n",
              "\n",
              "    [theme=dark] .colab-df-convert {\n",
              "      background-color: #3B4455;\n",
              "      fill: #D2E3FC;\n",
              "    }\n",
              "\n",
              "    [theme=dark] .colab-df-convert:hover {\n",
              "      background-color: #434B5C;\n",
              "      box-shadow: 0px 1px 3px 1px rgba(0, 0, 0, 0.15);\n",
              "      filter: drop-shadow(0px 1px 2px rgba(0, 0, 0, 0.3));\n",
              "      fill: #FFFFFF;\n",
              "    }\n",
              "  </style>\n",
              "\n",
              "      <script>\n",
              "        const buttonEl =\n",
              "          document.querySelector('#df-ea9324bc-d761-462b-b1bd-392c94004519 button.colab-df-convert');\n",
              "        buttonEl.style.display =\n",
              "          google.colab.kernel.accessAllowed ? 'block' : 'none';\n",
              "\n",
              "        async function convertToInteractive(key) {\n",
              "          const element = document.querySelector('#df-ea9324bc-d761-462b-b1bd-392c94004519');\n",
              "          const dataTable =\n",
              "            await google.colab.kernel.invokeFunction('convertToInteractive',\n",
              "                                                     [key], {});\n",
              "          if (!dataTable) return;\n",
              "\n",
              "          const docLinkHtml = 'Like what you see? Visit the ' +\n",
              "            '<a target=\"_blank\" href=https://colab.research.google.com/notebooks/data_table.ipynb>data table notebook</a>'\n",
              "            + ' to learn more about interactive tables.';\n",
              "          element.innerHTML = '';\n",
              "          dataTable['output_type'] = 'display_data';\n",
              "          await google.colab.output.renderOutput(dataTable, element);\n",
              "          const docLink = document.createElement('div');\n",
              "          docLink.innerHTML = docLinkHtml;\n",
              "          element.appendChild(docLink);\n",
              "        }\n",
              "      </script>\n",
              "    </div>\n",
              "  </div>\n",
              "  "
            ],
            "text/plain": [
              "     show_id  ...                                        description\n",
              "3872   s3873  ...  Major Ram Prasad Sharma yearns to see project ...\n",
              "3577   s3578  ...  A motley crew of apocalypse survivors living a...\n",
              "166     s167  ...  At the center of this engrossing melodrama is ...\n",
              "6132   s6133  ...  While visiting her fiancé's mother in southern...\n",
              "6204   s6205  ...  A special operations officer vows to get reven...\n",
              "7351   s7352  ...  Liam Neeson stars as a man who regains conscio...\n",
              "4440   s4441  ...  Wicked one-liners and soul-baring confessions ...\n",
              "6263   s6264  ...  An optimistic farmer is determined to succeed ...\n",
              "2701   s2702  ...  Nearly 30 years after her mom's murder, a poli...\n",
              "4909   s4910  ...  During a storm that wrecks his ship, super-str...\n",
              "\n",
              "[10 rows x 12 columns]"
            ]
          },
          "metadata": {},
          "execution_count": 4
        }
      ]
    },
    {
      "cell_type": "markdown",
      "source": [
        "## 3. Análise e limpeza de nossos Dados"
      ],
      "metadata": {
        "id": "NBSuY40RYBss"
      }
    },
    {
      "cell_type": "code",
      "source": [
        "# Aqui só a coluna \"release_year\" é do tipo inteiro\n",
        "\n",
        "df.info()"
      ],
      "metadata": {
        "colab": {
          "base_uri": "https://localhost:8080/"
        },
        "id": "qT30kPfJSNXy",
        "outputId": "fad38973-6d3e-4e2a-c45d-922a7b1bdf37"
      },
      "execution_count": 5,
      "outputs": [
        {
          "output_type": "stream",
          "name": "stdout",
          "text": [
            "<class 'pandas.core.frame.DataFrame'>\n",
            "RangeIndex: 7787 entries, 0 to 7786\n",
            "Data columns (total 12 columns):\n",
            " #   Column        Non-Null Count  Dtype \n",
            "---  ------        --------------  ----- \n",
            " 0   show_id       7787 non-null   object\n",
            " 1   type          7787 non-null   object\n",
            " 2   title         7787 non-null   object\n",
            " 3   director      5398 non-null   object\n",
            " 4   cast          7069 non-null   object\n",
            " 5   country       7280 non-null   object\n",
            " 6   date_added    7777 non-null   object\n",
            " 7   release_year  7787 non-null   int64 \n",
            " 8   rating        7780 non-null   object\n",
            " 9   duration      7787 non-null   object\n",
            " 10  listed_in     7787 non-null   object\n",
            " 11  description   7787 non-null   object\n",
            "dtypes: int64(1), object(11)\n",
            "memory usage: 730.2+ KB\n"
          ]
        }
      ]
    },
    {
      "cell_type": "code",
      "source": [
        "# Aqui ver a quantidade total de valores MISSING\n",
        "# As colunas: director, cast, country, date_added e rating apresentam valores Missing. \n",
        "\n",
        "df.isna().sum()"
      ],
      "metadata": {
        "colab": {
          "base_uri": "https://localhost:8080/"
        },
        "id": "gOpQvmhxSiLC",
        "outputId": "0783425f-21ec-4a17-e523-a7e922a2ac86"
      },
      "execution_count": 6,
      "outputs": [
        {
          "output_type": "execute_result",
          "data": {
            "text/plain": [
              "show_id            0\n",
              "type               0\n",
              "title              0\n",
              "director        2389\n",
              "cast             718\n",
              "country          507\n",
              "date_added        10\n",
              "release_year       0\n",
              "rating             7\n",
              "duration           0\n",
              "listed_in          0\n",
              "description        0\n",
              "dtype: int64"
            ]
          },
          "metadata": {},
          "execution_count": 6
        }
      ]
    },
    {
      "cell_type": "code",
      "source": [
        "# Outra maneira de visualizar os valores MISSING é:\n",
        "\n",
        "df.isnull().sum()"
      ],
      "metadata": {
        "colab": {
          "base_uri": "https://localhost:8080/"
        },
        "id": "QZoHw-2XYior",
        "outputId": "bbdce979-562c-4d05-9af8-b7fc97a18fad"
      },
      "execution_count": 7,
      "outputs": [
        {
          "output_type": "execute_result",
          "data": {
            "text/plain": [
              "show_id            0\n",
              "type               0\n",
              "title              0\n",
              "director        2389\n",
              "cast             718\n",
              "country          507\n",
              "date_added        10\n",
              "release_year       0\n",
              "rating             7\n",
              "duration           0\n",
              "listed_in          0\n",
              "description        0\n",
              "dtype: int64"
            ]
          },
          "metadata": {},
          "execution_count": 7
        }
      ]
    },
    {
      "cell_type": "code",
      "source": [
        "# Aqui vamos a usar o seguinte método para visualizar os Dados MISSING\n",
        "# As colunas \"director\" e \"cast\" podem ser eliminadas, já que não podem ser completadas aleatoriamente (obvio: valores muitos versáteis)\n",
        "# Para um número mínimo de valores Missing nas colunas \"country\", \"date_added\" e \"rating\", podemos completar eles usando a MODA ou a MÉDIA.\n",
        "\n",
        "import missingno \n",
        "\n",
        "color = [\"dimgrey\",\"dimgrey\",\"dimgrey\",\"blue\",\"blue\",\"blue\",\"blue\",\"dimgrey\",\"blue\",\"dimgrey\",\"dimgrey\",\"dimgrey\"]\n",
        "missingno.bar(df, fontsize=10, color=color, figsize=(10, 5))\n",
        "plt.title(\"Valores Missing\", fontsize=20)\n",
        "plt.show()\n"
      ],
      "metadata": {
        "colab": {
          "base_uri": "https://localhost:8080/",
          "height": 415
        },
        "id": "lDIj9v2AYvdM",
        "outputId": "315ce787-4d64-45ca-d924-823398781f67"
      },
      "execution_count": 8,
      "outputs": [
        {
          "output_type": "display_data",
          "data": {
            "image/png": "[encoded data removed]",
            "text/plain": [
              "<Figure size 720x360 with 3 Axes>"
            ]
          },
          "metadata": {
            "needs_background": "light"
          }
        }
      ]
    },
    {
      "cell_type": "code",
      "source": [
        "# Ideia na coluna \"country\"\n",
        "\n",
        "df[\"country\"].value_counts()"
      ],
      "metadata": {
        "colab": {
          "base_uri": "https://localhost:8080/"
        },
        "id": "qw8i59fwadWo",
        "outputId": "54fc19bd-efa2-4f62-b364-770a4a63083a"
      },
      "execution_count": 9,
      "outputs": [
        {
          "output_type": "execute_result",
          "data": {
            "text/plain": [
              "United States                                     2555\n",
              "India                                              923\n",
              "United Kingdom                                     397\n",
              "Japan                                              226\n",
              "South Korea                                        183\n",
              "                                                  ... \n",
              "United Kingdom, Malawi                               1\n",
              "United Kingdom, United States, France, Germany       1\n",
              "India, Australia                                     1\n",
              "United Kingdom, West Germany                         1\n",
              "France, Japan                                        1\n",
              "Name: country, Length: 681, dtype: int64"
            ]
          },
          "metadata": {},
          "execution_count": 9
        }
      ]
    },
    {
      "cell_type": "code",
      "source": [
        "# Facilmente podemos observar que o valor mais comum é: \"United States\". \n",
        "# É a moda!\n",
        "\n",
        "df[\"country\"].mode()[0]"
      ],
      "metadata": {
        "colab": {
          "base_uri": "https://localhost:8080/",
          "height": 36
        },
        "id": "CoY3OUFEay8O",
        "outputId": "5c497e66-3ade-420b-8501-53fa4c53e13c"
      },
      "execution_count": 10,
      "outputs": [
        {
          "output_type": "execute_result",
          "data": {
            "application/vnd.google.colaboratory.intrinsic+json": {
              "type": "string"
            },
            "text/plain": [
              "'United States'"
            ]
          },
          "metadata": {},
          "execution_count": 10
        }
      ]
    },
    {
      "cell_type": "code",
      "source": [
        "# Ideia na coluna \"rating\"\n",
        "\n",
        "df[\"rating\"].value_counts()"
      ],
      "metadata": {
        "colab": {
          "base_uri": "https://localhost:8080/"
        },
        "id": "_M_qt2BpdUCV",
        "outputId": "deac14d1-fbbe-4f98-f021-b49bd2529441"
      },
      "execution_count": 11,
      "outputs": [
        {
          "output_type": "execute_result",
          "data": {
            "text/plain": [
              "TV-MA       2863\n",
              "TV-14       1931\n",
              "TV-PG        806\n",
              "R            665\n",
              "PG-13        386\n",
              "TV-Y         280\n",
              "TV-Y7        271\n",
              "PG           247\n",
              "TV-G         194\n",
              "NR            84\n",
              "G             39\n",
              "TV-Y7-FV       6\n",
              "UR             5\n",
              "NC-17          3\n",
              "Name: rating, dtype: int64"
            ]
          },
          "metadata": {},
          "execution_count": 11
        }
      ]
    },
    {
      "cell_type": "code",
      "source": [
        "df[\"rating\"].mode()[0]"
      ],
      "metadata": {
        "colab": {
          "base_uri": "https://localhost:8080/",
          "height": 36
        },
        "id": "Lm3oto3gdkVE",
        "outputId": "d2502b1f-684c-4d61-a95e-f642baa01d66"
      },
      "execution_count": 12,
      "outputs": [
        {
          "output_type": "execute_result",
          "data": {
            "application/vnd.google.colaboratory.intrinsic+json": {
              "type": "string"
            },
            "text/plain": [
              "'TV-MA'"
            ]
          },
          "metadata": {},
          "execution_count": 12
        }
      ]
    },
    {
      "cell_type": "code",
      "source": [
        "# Aqui vamos a tratar os campos mencioandos acima\n",
        "\n",
        "df[\"country\"] = df[\"country\"].fillna(df[\"country\"].mode()[0])\n",
        "df[\"date_added\"] = df[\"date_added\"].fillna(df[\"date_added\"].mode()[0]) \n",
        "df[\"rating\"] = df[\"rating\"].fillna(df[\"rating\"].mode()[0])\n"
      ],
      "metadata": {
        "id": "ZF4sLD1Wq-XL"
      },
      "execution_count": 13,
      "outputs": []
    },
    {
      "cell_type": "code",
      "source": [
        "# Aqui, novamente, visualizamos a quantidade total de valores MISSING \n",
        "\n",
        "df.isna().sum()"
      ],
      "metadata": {
        "colab": {
          "base_uri": "https://localhost:8080/"
        },
        "id": "wAHAAx7Bd7lq",
        "outputId": "698a700c-cd17-4f74-c3cb-555d0fe29da2"
      },
      "execution_count": 14,
      "outputs": [
        {
          "output_type": "execute_result",
          "data": {
            "text/plain": [
              "show_id            0\n",
              "type               0\n",
              "title              0\n",
              "director        2389\n",
              "cast             718\n",
              "country            0\n",
              "date_added         0\n",
              "release_year       0\n",
              "rating             0\n",
              "duration           0\n",
              "listed_in          0\n",
              "description        0\n",
              "dtype: int64"
            ]
          },
          "metadata": {},
          "execution_count": 14
        }
      ]
    },
    {
      "cell_type": "code",
      "source": [
        "# A seguir ELIMINAMOS as LINHAS em: \"cast\" e \"director\" (os motivos foi explicado acima)\n",
        "\n",
        "df = df.dropna(how=\"any\", subset=[\"cast\", \"director\"])\n"
      ],
      "metadata": {
        "id": "ExUOovXTeEEk"
      },
      "execution_count": 15,
      "outputs": []
    },
    {
      "cell_type": "code",
      "source": [
        "df.shape"
      ],
      "metadata": {
        "colab": {
          "base_uri": "https://localhost:8080/"
        },
        "id": "S7mMaWMgr8sk",
        "outputId": "00eeb48d-d62e-42e5-985d-2b47b4757c8d"
      },
      "execution_count": 16,
      "outputs": [
        {
          "output_type": "execute_result",
          "data": {
            "text/plain": [
              "(4979, 12)"
            ]
          },
          "metadata": {},
          "execution_count": 16
        }
      ]
    },
    {
      "cell_type": "code",
      "source": [
        "df.head(10)"
      ],
      "metadata": {
        "colab": {
          "base_uri": "https://localhost:8080/",
          "height": 363
        },
        "id": "YT_DYCc3sGkX",
        "outputId": "4e816a04-5943-4682-cc39-b1ae0cfab406"
      },
      "execution_count": 17,
      "outputs": [
        {
          "output_type": "execute_result",
          "data": {
            "text/html": [
              "\n",
              "  <div id=\"df-6a743d53-4c4b-4908-a291-e5984ee13614\">\n",
              "    <div class=\"colab-df-container\">\n",
              "      <div>\n",
              "<style scoped>\n",
              "    .dataframe tbody tr th:only-of-type {\n",
              "        vertical-align: middle;\n",
              "    }\n",
              "\n",
              "    .dataframe tbody tr th {\n",
              "        vertical-align: top;\n",
              "    }\n",
              "\n",
              "    .dataframe thead th {\n",
              "        text-align: right;\n",
              "    }\n",
              "</style>\n",
              "<table border=\"1\" class=\"dataframe\">\n",
              "  <thead>\n",
              "    <tr style=\"text-align: right;\">\n",
              "      <th></th>\n",
              "      <th>show_id</th>\n",
              "      <th>type</th>\n",
              "      <th>title</th>\n",
              "      <th>director</th>\n",
              "      <th>cast</th>\n",
              "      <th>country</th>\n",
              "      <th>date_added</th>\n",
              "      <th>release_year</th>\n",
              "      <th>rating</th>\n",
              "      <th>duration</th>\n",
              "      <th>listed_in</th>\n",
              "      <th>description</th>\n",
              "    </tr>\n",
              "  </thead>\n",
              "  <tbody>\n",
              "    <tr>\n",
              "      <th>1</th>\n",
              "      <td>s2</td>\n",
              "      <td>Movie</td>\n",
              "      <td>7:19</td>\n",
              "      <td>Jorge Michel Grau</td>\n",
              "      <td>Demián Bichir, Héctor Bonilla, Oscar Serrano, ...</td>\n",
              "      <td>Mexico</td>\n",
              "      <td>December 23, 2016</td>\n",
              "      <td>2016</td>\n",
              "      <td>TV-MA</td>\n",
              "      <td>93 min</td>\n",
              "      <td>Dramas, International Movies</td>\n",
              "      <td>After a devastating earthquake hits Mexico Cit...</td>\n",
              "    </tr>\n",
              "    <tr>\n",
              "      <th>2</th>\n",
              "      <td>s3</td>\n",
              "      <td>Movie</td>\n",
              "      <td>23:59</td>\n",
              "      <td>Gilbert Chan</td>\n",
              "      <td>Tedd Chan, Stella Chung, Henley Hii, Lawrence ...</td>\n",
              "      <td>Singapore</td>\n",
              "      <td>December 20, 2018</td>\n",
              "      <td>2011</td>\n",
              "      <td>R</td>\n",
              "      <td>78 min</td>\n",
              "      <td>Horror Movies, International Movies</td>\n",
              "      <td>When an army recruit is found dead, his fellow...</td>\n",
              "    </tr>\n",
              "    <tr>\n",
              "      <th>3</th>\n",
              "      <td>s4</td>\n",
              "      <td>Movie</td>\n",
              "      <td>9</td>\n",
              "      <td>Shane Acker</td>\n",
              "      <td>Elijah Wood, John C. Reilly, Jennifer Connelly...</td>\n",
              "      <td>United States</td>\n",
              "      <td>November 16, 2017</td>\n",
              "      <td>2009</td>\n",
              "      <td>PG-13</td>\n",
              "      <td>80 min</td>\n",
              "      <td>Action &amp; Adventure, Independent Movies, Sci-Fi...</td>\n",
              "      <td>In a postapocalyptic world, rag-doll robots hi...</td>\n",
              "    </tr>\n",
              "    <tr>\n",
              "      <th>4</th>\n",
              "      <td>s5</td>\n",
              "      <td>Movie</td>\n",
              "      <td>21</td>\n",
              "      <td>Robert Luketic</td>\n",
              "      <td>Jim Sturgess, Kevin Spacey, Kate Bosworth, Aar...</td>\n",
              "      <td>United States</td>\n",
              "      <td>January 1, 2020</td>\n",
              "      <td>2008</td>\n",
              "      <td>PG-13</td>\n",
              "      <td>123 min</td>\n",
              "      <td>Dramas</td>\n",
              "      <td>A brilliant group of students become card-coun...</td>\n",
              "    </tr>\n",
              "    <tr>\n",
              "      <th>5</th>\n",
              "      <td>s6</td>\n",
              "      <td>TV Show</td>\n",
              "      <td>46</td>\n",
              "      <td>Serdar Akar</td>\n",
              "      <td>Erdal Beşikçioğlu, Yasemin Allen, Melis Birkan...</td>\n",
              "      <td>Turkey</td>\n",
              "      <td>July 1, 2017</td>\n",
              "      <td>2016</td>\n",
              "      <td>TV-MA</td>\n",
              "      <td>1 Season</td>\n",
              "      <td>International TV Shows, TV Dramas, TV Mysteries</td>\n",
              "      <td>A genetics professor experiments with a treatm...</td>\n",
              "    </tr>\n",
              "    <tr>\n",
              "      <th>6</th>\n",
              "      <td>s7</td>\n",
              "      <td>Movie</td>\n",
              "      <td>122</td>\n",
              "      <td>Yasir Al Yasiri</td>\n",
              "      <td>Amina Khalil, Ahmed Dawood, Tarek Lotfy, Ahmed...</td>\n",
              "      <td>Egypt</td>\n",
              "      <td>June 1, 2020</td>\n",
              "      <td>2019</td>\n",
              "      <td>TV-MA</td>\n",
              "      <td>95 min</td>\n",
              "      <td>Horror Movies, International Movies</td>\n",
              "      <td>After an awful accident, a couple admitted to ...</td>\n",
              "    </tr>\n",
              "    <tr>\n",
              "      <th>7</th>\n",
              "      <td>s8</td>\n",
              "      <td>Movie</td>\n",
              "      <td>187</td>\n",
              "      <td>Kevin Reynolds</td>\n",
              "      <td>Samuel L. Jackson, John Heard, Kelly Rowan, Cl...</td>\n",
              "      <td>United States</td>\n",
              "      <td>November 1, 2019</td>\n",
              "      <td>1997</td>\n",
              "      <td>R</td>\n",
              "      <td>119 min</td>\n",
              "      <td>Dramas</td>\n",
              "      <td>After one of his high school students attacks ...</td>\n",
              "    </tr>\n",
              "    <tr>\n",
              "      <th>8</th>\n",
              "      <td>s9</td>\n",
              "      <td>Movie</td>\n",
              "      <td>706</td>\n",
              "      <td>Shravan Kumar</td>\n",
              "      <td>Divya Dutta, Atul Kulkarni, Mohan Agashe, Anup...</td>\n",
              "      <td>India</td>\n",
              "      <td>April 1, 2019</td>\n",
              "      <td>2019</td>\n",
              "      <td>TV-14</td>\n",
              "      <td>118 min</td>\n",
              "      <td>Horror Movies, International Movies</td>\n",
              "      <td>When a doctor goes missing, his psychiatrist w...</td>\n",
              "    </tr>\n",
              "    <tr>\n",
              "      <th>9</th>\n",
              "      <td>s10</td>\n",
              "      <td>Movie</td>\n",
              "      <td>1920</td>\n",
              "      <td>Vikram Bhatt</td>\n",
              "      <td>Rajneesh Duggal, Adah Sharma, Indraneil Sengup...</td>\n",
              "      <td>India</td>\n",
              "      <td>December 15, 2017</td>\n",
              "      <td>2008</td>\n",
              "      <td>TV-MA</td>\n",
              "      <td>143 min</td>\n",
              "      <td>Horror Movies, International Movies, Thrillers</td>\n",
              "      <td>An architect and his wife move into a castle t...</td>\n",
              "    </tr>\n",
              "    <tr>\n",
              "      <th>10</th>\n",
              "      <td>s11</td>\n",
              "      <td>Movie</td>\n",
              "      <td>1922</td>\n",
              "      <td>Zak Hilditch</td>\n",
              "      <td>Thomas Jane, Molly Parker, Dylan Schmid, Kaitl...</td>\n",
              "      <td>United States</td>\n",
              "      <td>October 20, 2017</td>\n",
              "      <td>2017</td>\n",
              "      <td>TV-MA</td>\n",
              "      <td>103 min</td>\n",
              "      <td>Dramas, Thrillers</td>\n",
              "      <td>A farmer pens a confession admitting to his wi...</td>\n",
              "    </tr>\n",
              "  </tbody>\n",
              "</table>\n",
              "</div>\n",
              "      <button class=\"colab-df-convert\" onclick=\"convertToInteractive('df-6a743d53-4c4b-4908-a291-e5984ee13614')\"\n",
              "              title=\"Convert this dataframe to an interactive table.\"\n",
              "              style=\"display:none;\">\n",
              "        \n",
              "  <svg xmlns=\"http://www.w3.org/2000/svg\" height=\"24px\"viewBox=\"0 0 24 24\"\n",
              "       width=\"24px\">\n",
              "    <path d=\"M0 0h24v24H0V0z\" fill=\"none\"/>\n",
              "    <path d=\"M18.56 5.44l.94 2.06.94-2.06 2.06-.94-2.06-.94-.94-2.06-.94 2.06-2.06.94zm-11 1L8.5 8.5l.94-2.06 2.06-.94-2.06-.94L8.5 2.5l-.94 2.06-2.06.94zm10 10l.94 2.06.94-2.06 2.06-.94-2.06-.94-.94-2.06-.94 2.06-2.06.94z\"/><path d=\"M17.41 7.96l-1.37-1.37c-.4-.4-.92-.59-1.43-.59-.52 0-1.04.2-1.43.59L10.3 9.45l-7.72 7.72c-.78.78-.78 2.05 0 2.83L4 21.41c.39.39.9.59 1.41.59.51 0 1.02-.2 1.41-.59l7.78-7.78 2.81-2.81c.8-.78.8-2.07 0-2.86zM5.41 20L4 18.59l7.72-7.72 1.47 1.35L5.41 20z\"/>\n",
              "  </svg>\n",
              "      </button>\n",
              "      \n",
              "  <style>\n",
              "    .colab-df-container {\n",
              "      display:flex;\n",
              "      flex-wrap:wrap;\n",
              "      gap: 12px;\n",
              "    }\n",
              "\n",
              "    .colab-df-convert {\n",
              "      background-color: #E8F0FE;\n",
              "      border: none;\n",
              "      border-radius: 50%;\n",
              "      cursor: pointer;\n",
              "      display: none;\n",
              "      fill: #1967D2;\n",
              "      height: 32px;\n",
              "      padding: 0 0 0 0;\n",
              "      width: 32px;\n",
              "    }\n",
              "\n",
              "    .colab-df-convert:hover {\n",
              "      background-color: #E2EBFA;\n",
              "      box-shadow: 0px 1px 2px rgba(60, 64, 67, 0.3), 0px 1px 3px 1px rgba(60, 64, 67, 0.15);\n",
              "      fill: #174EA6;\n",
              "    }\n",
              "\n",
              "    [theme=dark] .colab-df-convert {\n",
              "      background-color: #3B4455;\n",
              "      fill: #D2E3FC;\n",
              "    }\n",
              "\n",
              "    [theme=dark] .colab-df-convert:hover {\n",
              "      background-color: #434B5C;\n",
              "      box-shadow: 0px 1px 3px 1px rgba(0, 0, 0, 0.15);\n",
              "      filter: drop-shadow(0px 1px 2px rgba(0, 0, 0, 0.3));\n",
              "      fill: #FFFFFF;\n",
              "    }\n",
              "  </style>\n",
              "\n",
              "      <script>\n",
              "        const buttonEl =\n",
              "          document.querySelector('#df-6a743d53-4c4b-4908-a291-e5984ee13614 button.colab-df-convert');\n",
              "        buttonEl.style.display =\n",
              "          google.colab.kernel.accessAllowed ? 'block' : 'none';\n",
              "\n",
              "        async function convertToInteractive(key) {\n",
              "          const element = document.querySelector('#df-6a743d53-4c4b-4908-a291-e5984ee13614');\n",
              "          const dataTable =\n",
              "            await google.colab.kernel.invokeFunction('convertToInteractive',\n",
              "                                                     [key], {});\n",
              "          if (!dataTable) return;\n",
              "\n",
              "          const docLinkHtml = 'Like what you see? Visit the ' +\n",
              "            '<a target=\"_blank\" href=https://colab.research.google.com/notebooks/data_table.ipynb>data table notebook</a>'\n",
              "            + ' to learn more about interactive tables.';\n",
              "          element.innerHTML = '';\n",
              "          dataTable['output_type'] = 'display_data';\n",
              "          await google.colab.output.renderOutput(dataTable, element);\n",
              "          const docLink = document.createElement('div');\n",
              "          docLink.innerHTML = docLinkHtml;\n",
              "          element.appendChild(docLink);\n",
              "        }\n",
              "      </script>\n",
              "    </div>\n",
              "  </div>\n",
              "  "
            ],
            "text/plain": [
              "   show_id  ...                                        description\n",
              "1       s2  ...  After a devastating earthquake hits Mexico Cit...\n",
              "2       s3  ...  When an army recruit is found dead, his fellow...\n",
              "3       s4  ...  In a postapocalyptic world, rag-doll robots hi...\n",
              "4       s5  ...  A brilliant group of students become card-coun...\n",
              "5       s6  ...  A genetics professor experiments with a treatm...\n",
              "6       s7  ...  After an awful accident, a couple admitted to ...\n",
              "7       s8  ...  After one of his high school students attacks ...\n",
              "8       s9  ...  When a doctor goes missing, his psychiatrist w...\n",
              "9      s10  ...  An architect and his wife move into a castle t...\n",
              "10     s11  ...  A farmer pens a confession admitting to his wi...\n",
              "\n",
              "[10 rows x 12 columns]"
            ]
          },
          "metadata": {},
          "execution_count": 17
        }
      ]
    },
    {
      "cell_type": "code",
      "source": [
        "# Mais uma vez visualizamos nossos Dados\n",
        "# Podemos ve que já não teremos valores missing\n",
        "\n",
        "df.isna().sum()"
      ],
      "metadata": {
        "colab": {
          "base_uri": "https://localhost:8080/"
        },
        "id": "TEFv2bYLhFfL",
        "outputId": "466f5e67-e195-4c4f-c8a9-1ee3ccb86d23"
      },
      "execution_count": 18,
      "outputs": [
        {
          "output_type": "execute_result",
          "data": {
            "text/plain": [
              "show_id         0\n",
              "type            0\n",
              "title           0\n",
              "director        0\n",
              "cast            0\n",
              "country         0\n",
              "date_added      0\n",
              "release_year    0\n",
              "rating          0\n",
              "duration        0\n",
              "listed_in       0\n",
              "description     0\n",
              "dtype: int64"
            ]
          },
          "metadata": {},
          "execution_count": 18
        }
      ]
    },
    {
      "cell_type": "code",
      "source": [
        "df.shape"
      ],
      "metadata": {
        "colab": {
          "base_uri": "https://localhost:8080/"
        },
        "id": "Xs8OdpKlrgNT",
        "outputId": "ab26a94d-2f7b-4ae5-a9d0-13586e5e359b"
      },
      "execution_count": 19,
      "outputs": [
        {
          "output_type": "execute_result",
          "data": {
            "text/plain": [
              "(4979, 12)"
            ]
          },
          "metadata": {},
          "execution_count": 19
        }
      ]
    },
    {
      "cell_type": "code",
      "source": [
        "df.info()"
      ],
      "metadata": {
        "id": "47VZZGJRhQK_",
        "colab": {
          "base_uri": "https://localhost:8080/"
        },
        "outputId": "b5d68b16-f005-4ef3-ed06-7c5ec94e142f"
      },
      "execution_count": 20,
      "outputs": [
        {
          "output_type": "stream",
          "name": "stdout",
          "text": [
            "<class 'pandas.core.frame.DataFrame'>\n",
            "Int64Index: 4979 entries, 1 to 7783\n",
            "Data columns (total 12 columns):\n",
            " #   Column        Non-Null Count  Dtype \n",
            "---  ------        --------------  ----- \n",
            " 0   show_id       4979 non-null   object\n",
            " 1   type          4979 non-null   object\n",
            " 2   title         4979 non-null   object\n",
            " 3   director      4979 non-null   object\n",
            " 4   cast          4979 non-null   object\n",
            " 5   country       4979 non-null   object\n",
            " 6   date_added    4979 non-null   object\n",
            " 7   release_year  4979 non-null   int64 \n",
            " 8   rating        4979 non-null   object\n",
            " 9   duration      4979 non-null   object\n",
            " 10  listed_in     4979 non-null   object\n",
            " 11  description   4979 non-null   object\n",
            "dtypes: int64(1), object(11)\n",
            "memory usage: 505.7+ KB\n"
          ]
        }
      ]
    },
    {
      "cell_type": "code",
      "source": [
        "df.head(2)"
      ],
      "metadata": {
        "colab": {
          "base_uri": "https://localhost:8080/",
          "height": 112
        },
        "id": "wyjF5fj2kn2Z",
        "outputId": "4baef6ba-6cb8-49f8-ec3b-2268fe2c5cb6"
      },
      "execution_count": 21,
      "outputs": [
        {
          "output_type": "execute_result",
          "data": {
            "text/html": [
              "\n",
              "  <div id=\"df-2af361ce-1732-4bc9-a2a9-28e3a1698586\">\n",
              "    <div class=\"colab-df-container\">\n",
              "      <div>\n",
              "<style scoped>\n",
              "    .dataframe tbody tr th:only-of-type {\n",
              "        vertical-align: middle;\n",
              "    }\n",
              "\n",
              "    .dataframe tbody tr th {\n",
              "        vertical-align: top;\n",
              "    }\n",
              "\n",
              "    .dataframe thead th {\n",
              "        text-align: right;\n",
              "    }\n",
              "</style>\n",
              "<table border=\"1\" class=\"dataframe\">\n",
              "  <thead>\n",
              "    <tr style=\"text-align: right;\">\n",
              "      <th></th>\n",
              "      <th>show_id</th>\n",
              "      <th>type</th>\n",
              "      <th>title</th>\n",
              "      <th>director</th>\n",
              "      <th>cast</th>\n",
              "      <th>country</th>\n",
              "      <th>date_added</th>\n",
              "      <th>release_year</th>\n",
              "      <th>rating</th>\n",
              "      <th>duration</th>\n",
              "      <th>listed_in</th>\n",
              "      <th>description</th>\n",
              "    </tr>\n",
              "  </thead>\n",
              "  <tbody>\n",
              "    <tr>\n",
              "      <th>1</th>\n",
              "      <td>s2</td>\n",
              "      <td>Movie</td>\n",
              "      <td>7:19</td>\n",
              "      <td>Jorge Michel Grau</td>\n",
              "      <td>Demián Bichir, Héctor Bonilla, Oscar Serrano, ...</td>\n",
              "      <td>Mexico</td>\n",
              "      <td>December 23, 2016</td>\n",
              "      <td>2016</td>\n",
              "      <td>TV-MA</td>\n",
              "      <td>93 min</td>\n",
              "      <td>Dramas, International Movies</td>\n",
              "      <td>After a devastating earthquake hits Mexico Cit...</td>\n",
              "    </tr>\n",
              "    <tr>\n",
              "      <th>2</th>\n",
              "      <td>s3</td>\n",
              "      <td>Movie</td>\n",
              "      <td>23:59</td>\n",
              "      <td>Gilbert Chan</td>\n",
              "      <td>Tedd Chan, Stella Chung, Henley Hii, Lawrence ...</td>\n",
              "      <td>Singapore</td>\n",
              "      <td>December 20, 2018</td>\n",
              "      <td>2011</td>\n",
              "      <td>R</td>\n",
              "      <td>78 min</td>\n",
              "      <td>Horror Movies, International Movies</td>\n",
              "      <td>When an army recruit is found dead, his fellow...</td>\n",
              "    </tr>\n",
              "  </tbody>\n",
              "</table>\n",
              "</div>\n",
              "      <button class=\"colab-df-convert\" onclick=\"convertToInteractive('df-2af361ce-1732-4bc9-a2a9-28e3a1698586')\"\n",
              "              title=\"Convert this dataframe to an interactive table.\"\n",
              "              style=\"display:none;\">\n",
              "        \n",
              "  <svg xmlns=\"http://www.w3.org/2000/svg\" height=\"24px\"viewBox=\"0 0 24 24\"\n",
              "       width=\"24px\">\n",
              "    <path d=\"M0 0h24v24H0V0z\" fill=\"none\"/>\n",
              "    <path d=\"M18.56 5.44l.94 2.06.94-2.06 2.06-.94-2.06-.94-.94-2.06-.94 2.06-2.06.94zm-11 1L8.5 8.5l.94-2.06 2.06-.94-2.06-.94L8.5 2.5l-.94 2.06-2.06.94zm10 10l.94 2.06.94-2.06 2.06-.94-2.06-.94-.94-2.06-.94 2.06-2.06.94z\"/><path d=\"M17.41 7.96l-1.37-1.37c-.4-.4-.92-.59-1.43-.59-.52 0-1.04.2-1.43.59L10.3 9.45l-7.72 7.72c-.78.78-.78 2.05 0 2.83L4 21.41c.39.39.9.59 1.41.59.51 0 1.02-.2 1.41-.59l7.78-7.78 2.81-2.81c.8-.78.8-2.07 0-2.86zM5.41 20L4 18.59l7.72-7.72 1.47 1.35L5.41 20z\"/>\n",
              "  </svg>\n",
              "      </button>\n",
              "      \n",
              "  <style>\n",
              "    .colab-df-container {\n",
              "      display:flex;\n",
              "      flex-wrap:wrap;\n",
              "      gap: 12px;\n",
              "    }\n",
              "\n",
              "    .colab-df-convert {\n",
              "      background-color: #E8F0FE;\n",
              "      border: none;\n",
              "      border-radius: 50%;\n",
              "      cursor: pointer;\n",
              "      display: none;\n",
              "      fill: #1967D2;\n",
              "      height: 32px;\n",
              "      padding: 0 0 0 0;\n",
              "      width: 32px;\n",
              "    }\n",
              "\n",
              "    .colab-df-convert:hover {\n",
              "      background-color: #E2EBFA;\n",
              "      box-shadow: 0px 1px 2px rgba(60, 64, 67, 0.3), 0px 1px 3px 1px rgba(60, 64, 67, 0.15);\n",
              "      fill: #174EA6;\n",
              "    }\n",
              "\n",
              "    [theme=dark] .colab-df-convert {\n",
              "      background-color: #3B4455;\n",
              "      fill: #D2E3FC;\n",
              "    }\n",
              "\n",
              "    [theme=dark] .colab-df-convert:hover {\n",
              "      background-color: #434B5C;\n",
              "      box-shadow: 0px 1px 3px 1px rgba(0, 0, 0, 0.15);\n",
              "      filter: drop-shadow(0px 1px 2px rgba(0, 0, 0, 0.3));\n",
              "      fill: #FFFFFF;\n",
              "    }\n",
              "  </style>\n",
              "\n",
              "      <script>\n",
              "        const buttonEl =\n",
              "          document.querySelector('#df-2af361ce-1732-4bc9-a2a9-28e3a1698586 button.colab-df-convert');\n",
              "        buttonEl.style.display =\n",
              "          google.colab.kernel.accessAllowed ? 'block' : 'none';\n",
              "\n",
              "        async function convertToInteractive(key) {\n",
              "          const element = document.querySelector('#df-2af361ce-1732-4bc9-a2a9-28e3a1698586');\n",
              "          const dataTable =\n",
              "            await google.colab.kernel.invokeFunction('convertToInteractive',\n",
              "                                                     [key], {});\n",
              "          if (!dataTable) return;\n",
              "\n",
              "          const docLinkHtml = 'Like what you see? Visit the ' +\n",
              "            '<a target=\"_blank\" href=https://colab.research.google.com/notebooks/data_table.ipynb>data table notebook</a>'\n",
              "            + ' to learn more about interactive tables.';\n",
              "          element.innerHTML = '';\n",
              "          dataTable['output_type'] = 'display_data';\n",
              "          await google.colab.output.renderOutput(dataTable, element);\n",
              "          const docLink = document.createElement('div');\n",
              "          docLink.innerHTML = docLinkHtml;\n",
              "          element.appendChild(docLink);\n",
              "        }\n",
              "      </script>\n",
              "    </div>\n",
              "  </div>\n",
              "  "
            ],
            "text/plain": [
              "  show_id  ...                                        description\n",
              "1      s2  ...  After a devastating earthquake hits Mexico Cit...\n",
              "2      s3  ...  When an army recruit is found dead, his fellow...\n",
              "\n",
              "[2 rows x 12 columns]"
            ]
          },
          "metadata": {},
          "execution_count": 21
        }
      ]
    },
    {
      "cell_type": "code",
      "source": [
        "# A seguir adicionamos algumas \"novas colunas\" (na verdade trocamos de nomes)\n",
        "\n",
        "df = df.rename(columns={\"listed_in\":\"Genero\"})\n"
      ],
      "metadata": {
        "id": "nGvIGcByq9XK"
      },
      "execution_count": 22,
      "outputs": []
    },
    {
      "cell_type": "code",
      "source": [
        "df.head(5)"
      ],
      "metadata": {
        "colab": {
          "base_uri": "https://localhost:8080/",
          "height": 206
        },
        "id": "fNMNG4NzmG2V",
        "outputId": "e7b01e9f-6b2f-4c8b-a15c-d5b8ab0cfed3"
      },
      "execution_count": 23,
      "outputs": [
        {
          "output_type": "execute_result",
          "data": {
            "text/html": [
              "\n",
              "  <div id=\"df-4b97610b-8b2c-482b-ac46-7146af4be62d\">\n",
              "    <div class=\"colab-df-container\">\n",
              "      <div>\n",
              "<style scoped>\n",
              "    .dataframe tbody tr th:only-of-type {\n",
              "        vertical-align: middle;\n",
              "    }\n",
              "\n",
              "    .dataframe tbody tr th {\n",
              "        vertical-align: top;\n",
              "    }\n",
              "\n",
              "    .dataframe thead th {\n",
              "        text-align: right;\n",
              "    }\n",
              "</style>\n",
              "<table border=\"1\" class=\"dataframe\">\n",
              "  <thead>\n",
              "    <tr style=\"text-align: right;\">\n",
              "      <th></th>\n",
              "      <th>show_id</th>\n",
              "      <th>type</th>\n",
              "      <th>title</th>\n",
              "      <th>director</th>\n",
              "      <th>cast</th>\n",
              "      <th>country</th>\n",
              "      <th>date_added</th>\n",
              "      <th>release_year</th>\n",
              "      <th>rating</th>\n",
              "      <th>duration</th>\n",
              "      <th>Genero</th>\n",
              "      <th>description</th>\n",
              "    </tr>\n",
              "  </thead>\n",
              "  <tbody>\n",
              "    <tr>\n",
              "      <th>1</th>\n",
              "      <td>s2</td>\n",
              "      <td>Movie</td>\n",
              "      <td>7:19</td>\n",
              "      <td>Jorge Michel Grau</td>\n",
              "      <td>Demián Bichir, Héctor Bonilla, Oscar Serrano, ...</td>\n",
              "      <td>Mexico</td>\n",
              "      <td>December 23, 2016</td>\n",
              "      <td>2016</td>\n",
              "      <td>TV-MA</td>\n",
              "      <td>93 min</td>\n",
              "      <td>Dramas, International Movies</td>\n",
              "      <td>After a devastating earthquake hits Mexico Cit...</td>\n",
              "    </tr>\n",
              "    <tr>\n",
              "      <th>2</th>\n",
              "      <td>s3</td>\n",
              "      <td>Movie</td>\n",
              "      <td>23:59</td>\n",
              "      <td>Gilbert Chan</td>\n",
              "      <td>Tedd Chan, Stella Chung, Henley Hii, Lawrence ...</td>\n",
              "      <td>Singapore</td>\n",
              "      <td>December 20, 2018</td>\n",
              "      <td>2011</td>\n",
              "      <td>R</td>\n",
              "      <td>78 min</td>\n",
              "      <td>Horror Movies, International Movies</td>\n",
              "      <td>When an army recruit is found dead, his fellow...</td>\n",
              "    </tr>\n",
              "    <tr>\n",
              "      <th>3</th>\n",
              "      <td>s4</td>\n",
              "      <td>Movie</td>\n",
              "      <td>9</td>\n",
              "      <td>Shane Acker</td>\n",
              "      <td>Elijah Wood, John C. Reilly, Jennifer Connelly...</td>\n",
              "      <td>United States</td>\n",
              "      <td>November 16, 2017</td>\n",
              "      <td>2009</td>\n",
              "      <td>PG-13</td>\n",
              "      <td>80 min</td>\n",
              "      <td>Action &amp; Adventure, Independent Movies, Sci-Fi...</td>\n",
              "      <td>In a postapocalyptic world, rag-doll robots hi...</td>\n",
              "    </tr>\n",
              "    <tr>\n",
              "      <th>4</th>\n",
              "      <td>s5</td>\n",
              "      <td>Movie</td>\n",
              "      <td>21</td>\n",
              "      <td>Robert Luketic</td>\n",
              "      <td>Jim Sturgess, Kevin Spacey, Kate Bosworth, Aar...</td>\n",
              "      <td>United States</td>\n",
              "      <td>January 1, 2020</td>\n",
              "      <td>2008</td>\n",
              "      <td>PG-13</td>\n",
              "      <td>123 min</td>\n",
              "      <td>Dramas</td>\n",
              "      <td>A brilliant group of students become card-coun...</td>\n",
              "    </tr>\n",
              "    <tr>\n",
              "      <th>5</th>\n",
              "      <td>s6</td>\n",
              "      <td>TV Show</td>\n",
              "      <td>46</td>\n",
              "      <td>Serdar Akar</td>\n",
              "      <td>Erdal Beşikçioğlu, Yasemin Allen, Melis Birkan...</td>\n",
              "      <td>Turkey</td>\n",
              "      <td>July 1, 2017</td>\n",
              "      <td>2016</td>\n",
              "      <td>TV-MA</td>\n",
              "      <td>1 Season</td>\n",
              "      <td>International TV Shows, TV Dramas, TV Mysteries</td>\n",
              "      <td>A genetics professor experiments with a treatm...</td>\n",
              "    </tr>\n",
              "  </tbody>\n",
              "</table>\n",
              "</div>\n",
              "      <button class=\"colab-df-convert\" onclick=\"convertToInteractive('df-4b97610b-8b2c-482b-ac46-7146af4be62d')\"\n",
              "              title=\"Convert this dataframe to an interactive table.\"\n",
              "              style=\"display:none;\">\n",
              "        \n",
              "  <svg xmlns=\"http://www.w3.org/2000/svg\" height=\"24px\"viewBox=\"0 0 24 24\"\n",
              "       width=\"24px\">\n",
              "    <path d=\"M0 0h24v24H0V0z\" fill=\"none\"/>\n",
              "    <path d=\"M18.56 5.44l.94 2.06.94-2.06 2.06-.94-2.06-.94-.94-2.06-.94 2.06-2.06.94zm-11 1L8.5 8.5l.94-2.06 2.06-.94-2.06-.94L8.5 2.5l-.94 2.06-2.06.94zm10 10l.94 2.06.94-2.06 2.06-.94-2.06-.94-.94-2.06-.94 2.06-2.06.94z\"/><path d=\"M17.41 7.96l-1.37-1.37c-.4-.4-.92-.59-1.43-.59-.52 0-1.04.2-1.43.59L10.3 9.45l-7.72 7.72c-.78.78-.78 2.05 0 2.83L4 21.41c.39.39.9.59 1.41.59.51 0 1.02-.2 1.41-.59l7.78-7.78 2.81-2.81c.8-.78.8-2.07 0-2.86zM5.41 20L4 18.59l7.72-7.72 1.47 1.35L5.41 20z\"/>\n",
              "  </svg>\n",
              "      </button>\n",
              "      \n",
              "  <style>\n",
              "    .colab-df-container {\n",
              "      display:flex;\n",
              "      flex-wrap:wrap;\n",
              "      gap: 12px;\n",
              "    }\n",
              "\n",
              "    .colab-df-convert {\n",
              "      background-color: #E8F0FE;\n",
              "      border: none;\n",
              "      border-radius: 50%;\n",
              "      cursor: pointer;\n",
              "      display: none;\n",
              "      fill: #1967D2;\n",
              "      height: 32px;\n",
              "      padding: 0 0 0 0;\n",
              "      width: 32px;\n",
              "    }\n",
              "\n",
              "    .colab-df-convert:hover {\n",
              "      background-color: #E2EBFA;\n",
              "      box-shadow: 0px 1px 2px rgba(60, 64, 67, 0.3), 0px 1px 3px 1px rgba(60, 64, 67, 0.15);\n",
              "      fill: #174EA6;\n",
              "    }\n",
              "\n",
              "    [theme=dark] .colab-df-convert {\n",
              "      background-color: #3B4455;\n",
              "      fill: #D2E3FC;\n",
              "    }\n",
              "\n",
              "    [theme=dark] .colab-df-convert:hover {\n",
              "      background-color: #434B5C;\n",
              "      box-shadow: 0px 1px 3px 1px rgba(0, 0, 0, 0.15);\n",
              "      filter: drop-shadow(0px 1px 2px rgba(0, 0, 0, 0.3));\n",
              "      fill: #FFFFFF;\n",
              "    }\n",
              "  </style>\n",
              "\n",
              "      <script>\n",
              "        const buttonEl =\n",
              "          document.querySelector('#df-4b97610b-8b2c-482b-ac46-7146af4be62d button.colab-df-convert');\n",
              "        buttonEl.style.display =\n",
              "          google.colab.kernel.accessAllowed ? 'block' : 'none';\n",
              "\n",
              "        async function convertToInteractive(key) {\n",
              "          const element = document.querySelector('#df-4b97610b-8b2c-482b-ac46-7146af4be62d');\n",
              "          const dataTable =\n",
              "            await google.colab.kernel.invokeFunction('convertToInteractive',\n",
              "                                                     [key], {});\n",
              "          if (!dataTable) return;\n",
              "\n",
              "          const docLinkHtml = 'Like what you see? Visit the ' +\n",
              "            '<a target=\"_blank\" href=https://colab.research.google.com/notebooks/data_table.ipynb>data table notebook</a>'\n",
              "            + ' to learn more about interactive tables.';\n",
              "          element.innerHTML = '';\n",
              "          dataTable['output_type'] = 'display_data';\n",
              "          await google.colab.output.renderOutput(dataTable, element);\n",
              "          const docLink = document.createElement('div');\n",
              "          docLink.innerHTML = docLinkHtml;\n",
              "          element.appendChild(docLink);\n",
              "        }\n",
              "      </script>\n",
              "    </div>\n",
              "  </div>\n",
              "  "
            ],
            "text/plain": [
              "  show_id  ...                                        description\n",
              "1      s2  ...  After a devastating earthquake hits Mexico Cit...\n",
              "2      s3  ...  When an army recruit is found dead, his fellow...\n",
              "3      s4  ...  In a postapocalyptic world, rag-doll robots hi...\n",
              "4      s5  ...  A brilliant group of students become card-coun...\n",
              "5      s6  ...  A genetics professor experiments with a treatm...\n",
              "\n",
              "[5 rows x 12 columns]"
            ]
          },
          "metadata": {},
          "execution_count": 23
        }
      ]
    },
    {
      "cell_type": "code",
      "source": [
        "df[\"Genero\"] = df[\"Genero\"].apply(lambda x: x.split(\",\")[0]) "
      ],
      "metadata": {
        "id": "aYHkXD4ClW6I"
      },
      "execution_count": 24,
      "outputs": []
    },
    {
      "cell_type": "code",
      "source": [
        "# Ao aplicar a função anterior, observaremos que só pegamos a primeira frase da coluna \"Gênero\"\n",
        "\n",
        "df[\"Genero\"].head(4)"
      ],
      "metadata": {
        "colab": {
          "base_uri": "https://localhost:8080/"
        },
        "id": "QgIhYXv7msr7",
        "outputId": "7f8ddc61-6d06-43f3-b7c5-4df7b28490e2"
      },
      "execution_count": 25,
      "outputs": [
        {
          "output_type": "execute_result",
          "data": {
            "text/plain": [
              "1                Dramas\n",
              "2         Horror Movies\n",
              "3    Action & Adventure\n",
              "4                Dramas\n",
              "Name: Genero, dtype: object"
            ]
          },
          "metadata": {},
          "execution_count": 25
        }
      ]
    },
    {
      "cell_type": "code",
      "source": [
        "# Nesta coluna só teremos os anos do filme, série, etc \n",
        "\n",
        "df[\"year_add\"] = df['date_added'].apply(lambda x: x.split(\" \")[2]) # aqui pode substituir também: 2 --> -1"
      ],
      "metadata": {
        "id": "OABRNJAsm6hS"
      },
      "execution_count": 26,
      "outputs": []
    },
    {
      "cell_type": "code",
      "source": [
        "df.head(2)"
      ],
      "metadata": {
        "colab": {
          "base_uri": "https://localhost:8080/",
          "height": 112
        },
        "id": "XPEF5Ec9pBbb",
        "outputId": "8a00e43e-750f-4f64-e212-457b8f899ac5"
      },
      "execution_count": 27,
      "outputs": [
        {
          "output_type": "execute_result",
          "data": {
            "text/html": [
              "\n",
              "  <div id=\"df-5a108896-6575-4ea7-bff4-d4403306fbbd\">\n",
              "    <div class=\"colab-df-container\">\n",
              "      <div>\n",
              "<style scoped>\n",
              "    .dataframe tbody tr th:only-of-type {\n",
              "        vertical-align: middle;\n",
              "    }\n",
              "\n",
              "    .dataframe tbody tr th {\n",
              "        vertical-align: top;\n",
              "    }\n",
              "\n",
              "    .dataframe thead th {\n",
              "        text-align: right;\n",
              "    }\n",
              "</style>\n",
              "<table border=\"1\" class=\"dataframe\">\n",
              "  <thead>\n",
              "    <tr style=\"text-align: right;\">\n",
              "      <th></th>\n",
              "      <th>show_id</th>\n",
              "      <th>type</th>\n",
              "      <th>title</th>\n",
              "      <th>director</th>\n",
              "      <th>cast</th>\n",
              "      <th>country</th>\n",
              "      <th>date_added</th>\n",
              "      <th>release_year</th>\n",
              "      <th>rating</th>\n",
              "      <th>duration</th>\n",
              "      <th>Genero</th>\n",
              "      <th>description</th>\n",
              "      <th>year_add</th>\n",
              "    </tr>\n",
              "  </thead>\n",
              "  <tbody>\n",
              "    <tr>\n",
              "      <th>1</th>\n",
              "      <td>s2</td>\n",
              "      <td>Movie</td>\n",
              "      <td>7:19</td>\n",
              "      <td>Jorge Michel Grau</td>\n",
              "      <td>Demián Bichir, Héctor Bonilla, Oscar Serrano, ...</td>\n",
              "      <td>Mexico</td>\n",
              "      <td>December 23, 2016</td>\n",
              "      <td>2016</td>\n",
              "      <td>TV-MA</td>\n",
              "      <td>93 min</td>\n",
              "      <td>Dramas</td>\n",
              "      <td>After a devastating earthquake hits Mexico Cit...</td>\n",
              "      <td>2016</td>\n",
              "    </tr>\n",
              "    <tr>\n",
              "      <th>2</th>\n",
              "      <td>s3</td>\n",
              "      <td>Movie</td>\n",
              "      <td>23:59</td>\n",
              "      <td>Gilbert Chan</td>\n",
              "      <td>Tedd Chan, Stella Chung, Henley Hii, Lawrence ...</td>\n",
              "      <td>Singapore</td>\n",
              "      <td>December 20, 2018</td>\n",
              "      <td>2011</td>\n",
              "      <td>R</td>\n",
              "      <td>78 min</td>\n",
              "      <td>Horror Movies</td>\n",
              "      <td>When an army recruit is found dead, his fellow...</td>\n",
              "      <td>2018</td>\n",
              "    </tr>\n",
              "  </tbody>\n",
              "</table>\n",
              "</div>\n",
              "      <button class=\"colab-df-convert\" onclick=\"convertToInteractive('df-5a108896-6575-4ea7-bff4-d4403306fbbd')\"\n",
              "              title=\"Convert this dataframe to an interactive table.\"\n",
              "              style=\"display:none;\">\n",
              "        \n",
              "  <svg xmlns=\"http://www.w3.org/2000/svg\" height=\"24px\"viewBox=\"0 0 24 24\"\n",
              "       width=\"24px\">\n",
              "    <path d=\"M0 0h24v24H0V0z\" fill=\"none\"/>\n",
              "    <path d=\"M18.56 5.44l.94 2.06.94-2.06 2.06-.94-2.06-.94-.94-2.06-.94 2.06-2.06.94zm-11 1L8.5 8.5l.94-2.06 2.06-.94-2.06-.94L8.5 2.5l-.94 2.06-2.06.94zm10 10l.94 2.06.94-2.06 2.06-.94-2.06-.94-.94-2.06-.94 2.06-2.06.94z\"/><path d=\"M17.41 7.96l-1.37-1.37c-.4-.4-.92-.59-1.43-.59-.52 0-1.04.2-1.43.59L10.3 9.45l-7.72 7.72c-.78.78-.78 2.05 0 2.83L4 21.41c.39.39.9.59 1.41.59.51 0 1.02-.2 1.41-.59l7.78-7.78 2.81-2.81c.8-.78.8-2.07 0-2.86zM5.41 20L4 18.59l7.72-7.72 1.47 1.35L5.41 20z\"/>\n",
              "  </svg>\n",
              "      </button>\n",
              "      \n",
              "  <style>\n",
              "    .colab-df-container {\n",
              "      display:flex;\n",
              "      flex-wrap:wrap;\n",
              "      gap: 12px;\n",
              "    }\n",
              "\n",
              "    .colab-df-convert {\n",
              "      background-color: #E8F0FE;\n",
              "      border: none;\n",
              "      border-radius: 50%;\n",
              "      cursor: pointer;\n",
              "      display: none;\n",
              "      fill: #1967D2;\n",
              "      height: 32px;\n",
              "      padding: 0 0 0 0;\n",
              "      width: 32px;\n",
              "    }\n",
              "\n",
              "    .colab-df-convert:hover {\n",
              "      background-color: #E2EBFA;\n",
              "      box-shadow: 0px 1px 2px rgba(60, 64, 67, 0.3), 0px 1px 3px 1px rgba(60, 64, 67, 0.15);\n",
              "      fill: #174EA6;\n",
              "    }\n",
              "\n",
              "    [theme=dark] .colab-df-convert {\n",
              "      background-color: #3B4455;\n",
              "      fill: #D2E3FC;\n",
              "    }\n",
              "\n",
              "    [theme=dark] .colab-df-convert:hover {\n",
              "      background-color: #434B5C;\n",
              "      box-shadow: 0px 1px 3px 1px rgba(0, 0, 0, 0.15);\n",
              "      filter: drop-shadow(0px 1px 2px rgba(0, 0, 0, 0.3));\n",
              "      fill: #FFFFFF;\n",
              "    }\n",
              "  </style>\n",
              "\n",
              "      <script>\n",
              "        const buttonEl =\n",
              "          document.querySelector('#df-5a108896-6575-4ea7-bff4-d4403306fbbd button.colab-df-convert');\n",
              "        buttonEl.style.display =\n",
              "          google.colab.kernel.accessAllowed ? 'block' : 'none';\n",
              "\n",
              "        async function convertToInteractive(key) {\n",
              "          const element = document.querySelector('#df-5a108896-6575-4ea7-bff4-d4403306fbbd');\n",
              "          const dataTable =\n",
              "            await google.colab.kernel.invokeFunction('convertToInteractive',\n",
              "                                                     [key], {});\n",
              "          if (!dataTable) return;\n",
              "\n",
              "          const docLinkHtml = 'Like what you see? Visit the ' +\n",
              "            '<a target=\"_blank\" href=https://colab.research.google.com/notebooks/data_table.ipynb>data table notebook</a>'\n",
              "            + ' to learn more about interactive tables.';\n",
              "          element.innerHTML = '';\n",
              "          dataTable['output_type'] = 'display_data';\n",
              "          await google.colab.output.renderOutput(dataTable, element);\n",
              "          const docLink = document.createElement('div');\n",
              "          docLink.innerHTML = docLinkHtml;\n",
              "          element.appendChild(docLink);\n",
              "        }\n",
              "      </script>\n",
              "    </div>\n",
              "  </div>\n",
              "  "
            ],
            "text/plain": [
              "  show_id   type  ...                                        description year_add\n",
              "1      s2  Movie  ...  After a devastating earthquake hits Mexico Cit...     2016\n",
              "2      s3  Movie  ...  When an army recruit is found dead, his fellow...     2018\n",
              "\n",
              "[2 rows x 13 columns]"
            ]
          },
          "metadata": {},
          "execution_count": 27
        }
      ]
    },
    {
      "cell_type": "code",
      "source": [
        "# Vamos adicionar os meses também, assim:\n",
        "\n",
        "df[\"month_add\"] = df['date_added'].apply(lambda x: x.split(\" \")[0])\n",
        "df[\"month_add\"].head()"
      ],
      "metadata": {
        "colab": {
          "base_uri": "https://localhost:8080/"
        },
        "id": "3q1tePrWpUpI",
        "outputId": "e4818d0e-7060-46dc-93e5-f1984f592da8"
      },
      "execution_count": 28,
      "outputs": [
        {
          "output_type": "execute_result",
          "data": {
            "text/plain": [
              "1    December\n",
              "2    December\n",
              "3    November\n",
              "4     January\n",
              "5        July\n",
              "Name: month_add, dtype: object"
            ]
          },
          "metadata": {},
          "execution_count": 28
        }
      ]
    },
    {
      "cell_type": "code",
      "source": [
        "df.head(2)"
      ],
      "metadata": {
        "colab": {
          "base_uri": "https://localhost:8080/",
          "height": 112
        },
        "id": "rJzdSVqzrQYC",
        "outputId": "7a2ae33b-038f-40a1-daa8-62de5351a135"
      },
      "execution_count": 29,
      "outputs": [
        {
          "output_type": "execute_result",
          "data": {
            "text/html": [
              "\n",
              "  <div id=\"df-9406c778-45b0-4cb8-a923-f1cc27b49144\">\n",
              "    <div class=\"colab-df-container\">\n",
              "      <div>\n",
              "<style scoped>\n",
              "    .dataframe tbody tr th:only-of-type {\n",
              "        vertical-align: middle;\n",
              "    }\n",
              "\n",
              "    .dataframe tbody tr th {\n",
              "        vertical-align: top;\n",
              "    }\n",
              "\n",
              "    .dataframe thead th {\n",
              "        text-align: right;\n",
              "    }\n",
              "</style>\n",
              "<table border=\"1\" class=\"dataframe\">\n",
              "  <thead>\n",
              "    <tr style=\"text-align: right;\">\n",
              "      <th></th>\n",
              "      <th>show_id</th>\n",
              "      <th>type</th>\n",
              "      <th>title</th>\n",
              "      <th>director</th>\n",
              "      <th>cast</th>\n",
              "      <th>country</th>\n",
              "      <th>date_added</th>\n",
              "      <th>release_year</th>\n",
              "      <th>rating</th>\n",
              "      <th>duration</th>\n",
              "      <th>Genero</th>\n",
              "      <th>description</th>\n",
              "      <th>year_add</th>\n",
              "      <th>month_add</th>\n",
              "    </tr>\n",
              "  </thead>\n",
              "  <tbody>\n",
              "    <tr>\n",
              "      <th>1</th>\n",
              "      <td>s2</td>\n",
              "      <td>Movie</td>\n",
              "      <td>7:19</td>\n",
              "      <td>Jorge Michel Grau</td>\n",
              "      <td>Demián Bichir, Héctor Bonilla, Oscar Serrano, ...</td>\n",
              "      <td>Mexico</td>\n",
              "      <td>December 23, 2016</td>\n",
              "      <td>2016</td>\n",
              "      <td>TV-MA</td>\n",
              "      <td>93 min</td>\n",
              "      <td>Dramas</td>\n",
              "      <td>After a devastating earthquake hits Mexico Cit...</td>\n",
              "      <td>2016</td>\n",
              "      <td>December</td>\n",
              "    </tr>\n",
              "    <tr>\n",
              "      <th>2</th>\n",
              "      <td>s3</td>\n",
              "      <td>Movie</td>\n",
              "      <td>23:59</td>\n",
              "      <td>Gilbert Chan</td>\n",
              "      <td>Tedd Chan, Stella Chung, Henley Hii, Lawrence ...</td>\n",
              "      <td>Singapore</td>\n",
              "      <td>December 20, 2018</td>\n",
              "      <td>2011</td>\n",
              "      <td>R</td>\n",
              "      <td>78 min</td>\n",
              "      <td>Horror Movies</td>\n",
              "      <td>When an army recruit is found dead, his fellow...</td>\n",
              "      <td>2018</td>\n",
              "      <td>December</td>\n",
              "    </tr>\n",
              "  </tbody>\n",
              "</table>\n",
              "</div>\n",
              "      <button class=\"colab-df-convert\" onclick=\"convertToInteractive('df-9406c778-45b0-4cb8-a923-f1cc27b49144')\"\n",
              "              title=\"Convert this dataframe to an interactive table.\"\n",
              "              style=\"display:none;\">\n",
              "        \n",
              "  <svg xmlns=\"http://www.w3.org/2000/svg\" height=\"24px\"viewBox=\"0 0 24 24\"\n",
              "       width=\"24px\">\n",
              "    <path d=\"M0 0h24v24H0V0z\" fill=\"none\"/>\n",
              "    <path d=\"M18.56 5.44l.94 2.06.94-2.06 2.06-.94-2.06-.94-.94-2.06-.94 2.06-2.06.94zm-11 1L8.5 8.5l.94-2.06 2.06-.94-2.06-.94L8.5 2.5l-.94 2.06-2.06.94zm10 10l.94 2.06.94-2.06 2.06-.94-2.06-.94-.94-2.06-.94 2.06-2.06.94z\"/><path d=\"M17.41 7.96l-1.37-1.37c-.4-.4-.92-.59-1.43-.59-.52 0-1.04.2-1.43.59L10.3 9.45l-7.72 7.72c-.78.78-.78 2.05 0 2.83L4 21.41c.39.39.9.59 1.41.59.51 0 1.02-.2 1.41-.59l7.78-7.78 2.81-2.81c.8-.78.8-2.07 0-2.86zM5.41 20L4 18.59l7.72-7.72 1.47 1.35L5.41 20z\"/>\n",
              "  </svg>\n",
              "      </button>\n",
              "      \n",
              "  <style>\n",
              "    .colab-df-container {\n",
              "      display:flex;\n",
              "      flex-wrap:wrap;\n",
              "      gap: 12px;\n",
              "    }\n",
              "\n",
              "    .colab-df-convert {\n",
              "      background-color: #E8F0FE;\n",
              "      border: none;\n",
              "      border-radius: 50%;\n",
              "      cursor: pointer;\n",
              "      display: none;\n",
              "      fill: #1967D2;\n",
              "      height: 32px;\n",
              "      padding: 0 0 0 0;\n",
              "      width: 32px;\n",
              "    }\n",
              "\n",
              "    .colab-df-convert:hover {\n",
              "      background-color: #E2EBFA;\n",
              "      box-shadow: 0px 1px 2px rgba(60, 64, 67, 0.3), 0px 1px 3px 1px rgba(60, 64, 67, 0.15);\n",
              "      fill: #174EA6;\n",
              "    }\n",
              "\n",
              "    [theme=dark] .colab-df-convert {\n",
              "      background-color: #3B4455;\n",
              "      fill: #D2E3FC;\n",
              "    }\n",
              "\n",
              "    [theme=dark] .colab-df-convert:hover {\n",
              "      background-color: #434B5C;\n",
              "      box-shadow: 0px 1px 3px 1px rgba(0, 0, 0, 0.15);\n",
              "      filter: drop-shadow(0px 1px 2px rgba(0, 0, 0, 0.3));\n",
              "      fill: #FFFFFF;\n",
              "    }\n",
              "  </style>\n",
              "\n",
              "      <script>\n",
              "        const buttonEl =\n",
              "          document.querySelector('#df-9406c778-45b0-4cb8-a923-f1cc27b49144 button.colab-df-convert');\n",
              "        buttonEl.style.display =\n",
              "          google.colab.kernel.accessAllowed ? 'block' : 'none';\n",
              "\n",
              "        async function convertToInteractive(key) {\n",
              "          const element = document.querySelector('#df-9406c778-45b0-4cb8-a923-f1cc27b49144');\n",
              "          const dataTable =\n",
              "            await google.colab.kernel.invokeFunction('convertToInteractive',\n",
              "                                                     [key], {});\n",
              "          if (!dataTable) return;\n",
              "\n",
              "          const docLinkHtml = 'Like what you see? Visit the ' +\n",
              "            '<a target=\"_blank\" href=https://colab.research.google.com/notebooks/data_table.ipynb>data table notebook</a>'\n",
              "            + ' to learn more about interactive tables.';\n",
              "          element.innerHTML = '';\n",
              "          dataTable['output_type'] = 'display_data';\n",
              "          await google.colab.output.renderOutput(dataTable, element);\n",
              "          const docLink = document.createElement('div');\n",
              "          docLink.innerHTML = docLinkHtml;\n",
              "          element.appendChild(docLink);\n",
              "        }\n",
              "      </script>\n",
              "    </div>\n",
              "  </div>\n",
              "  "
            ],
            "text/plain": [
              "  show_id   type  ... year_add month_add\n",
              "1      s2  Movie  ...     2016  December\n",
              "2      s3  Movie  ...     2018  December\n",
              "\n",
              "[2 rows x 14 columns]"
            ]
          },
          "metadata": {},
          "execution_count": 29
        }
      ]
    },
    {
      "cell_type": "code",
      "source": [
        "# Para país, só pegamos o principal (main). Ou seja a primeira posição\n",
        "\n",
        "df[\"country_main\"] = df['country'].apply(lambda x: x.split(\",\")[0])\n",
        "df[\"country_main\"].head(5)"
      ],
      "metadata": {
        "colab": {
          "base_uri": "https://localhost:8080/"
        },
        "id": "Qp_D066Crh9Y",
        "outputId": "9db7bbf5-e44b-4ad8-fd2d-140d51515944"
      },
      "execution_count": 30,
      "outputs": [
        {
          "output_type": "execute_result",
          "data": {
            "text/plain": [
              "1           Mexico\n",
              "2        Singapore\n",
              "3    United States\n",
              "4    United States\n",
              "5           Turkey\n",
              "Name: country_main, dtype: object"
            ]
          },
          "metadata": {},
          "execution_count": 30
        }
      ]
    },
    {
      "cell_type": "code",
      "source": [
        "# A seguir vamos a contabilizar os filmes e as séries de programação.\n",
        "# Observamos a contagem e a porcentagem\n",
        "\n",
        "count = df[\"type\"].value_counts()\n",
        "percent = 100*df['type'].value_counts(normalize=True)\n",
        "pd.DataFrame({\"count\":count, \"percent\":percent.round(1)})\n",
        "\n",
        "# NOTA: Aqui observamos que a maioria do conteúdo da Netflix representa o 97.1% e apenas o 2.9% são TV Show. "
      ],
      "metadata": {
        "colab": {
          "base_uri": "https://localhost:8080/",
          "height": 112
        },
        "id": "QZi_b7rqrmvp",
        "outputId": "15434a79-5f52-4293-968b-f16761ed16db"
      },
      "execution_count": 31,
      "outputs": [
        {
          "output_type": "execute_result",
          "data": {
            "text/html": [
              "\n",
              "  <div id=\"df-05287846-e1e3-45d7-9a86-8d2e968762fd\">\n",
              "    <div class=\"colab-df-container\">\n",
              "      <div>\n",
              "<style scoped>\n",
              "    .dataframe tbody tr th:only-of-type {\n",
              "        vertical-align: middle;\n",
              "    }\n",
              "\n",
              "    .dataframe tbody tr th {\n",
              "        vertical-align: top;\n",
              "    }\n",
              "\n",
              "    .dataframe thead th {\n",
              "        text-align: right;\n",
              "    }\n",
              "</style>\n",
              "<table border=\"1\" class=\"dataframe\">\n",
              "  <thead>\n",
              "    <tr style=\"text-align: right;\">\n",
              "      <th></th>\n",
              "      <th>count</th>\n",
              "      <th>percent</th>\n",
              "    </tr>\n",
              "  </thead>\n",
              "  <tbody>\n",
              "    <tr>\n",
              "      <th>Movie</th>\n",
              "      <td>4834</td>\n",
              "      <td>97.1</td>\n",
              "    </tr>\n",
              "    <tr>\n",
              "      <th>TV Show</th>\n",
              "      <td>145</td>\n",
              "      <td>2.9</td>\n",
              "    </tr>\n",
              "  </tbody>\n",
              "</table>\n",
              "</div>\n",
              "      <button class=\"colab-df-convert\" onclick=\"convertToInteractive('df-05287846-e1e3-45d7-9a86-8d2e968762fd')\"\n",
              "              title=\"Convert this dataframe to an interactive table.\"\n",
              "              style=\"display:none;\">\n",
              "        \n",
              "  <svg xmlns=\"http://www.w3.org/2000/svg\" height=\"24px\"viewBox=\"0 0 24 24\"\n",
              "       width=\"24px\">\n",
              "    <path d=\"M0 0h24v24H0V0z\" fill=\"none\"/>\n",
              "    <path d=\"M18.56 5.44l.94 2.06.94-2.06 2.06-.94-2.06-.94-.94-2.06-.94 2.06-2.06.94zm-11 1L8.5 8.5l.94-2.06 2.06-.94-2.06-.94L8.5 2.5l-.94 2.06-2.06.94zm10 10l.94 2.06.94-2.06 2.06-.94-2.06-.94-.94-2.06-.94 2.06-2.06.94z\"/><path d=\"M17.41 7.96l-1.37-1.37c-.4-.4-.92-.59-1.43-.59-.52 0-1.04.2-1.43.59L10.3 9.45l-7.72 7.72c-.78.78-.78 2.05 0 2.83L4 21.41c.39.39.9.59 1.41.59.51 0 1.02-.2 1.41-.59l7.78-7.78 2.81-2.81c.8-.78.8-2.07 0-2.86zM5.41 20L4 18.59l7.72-7.72 1.47 1.35L5.41 20z\"/>\n",
              "  </svg>\n",
              "      </button>\n",
              "      \n",
              "  <style>\n",
              "    .colab-df-container {\n",
              "      display:flex;\n",
              "      flex-wrap:wrap;\n",
              "      gap: 12px;\n",
              "    }\n",
              "\n",
              "    .colab-df-convert {\n",
              "      background-color: #E8F0FE;\n",
              "      border: none;\n",
              "      border-radius: 50%;\n",
              "      cursor: pointer;\n",
              "      display: none;\n",
              "      fill: #1967D2;\n",
              "      height: 32px;\n",
              "      padding: 0 0 0 0;\n",
              "      width: 32px;\n",
              "    }\n",
              "\n",
              "    .colab-df-convert:hover {\n",
              "      background-color: #E2EBFA;\n",
              "      box-shadow: 0px 1px 2px rgba(60, 64, 67, 0.3), 0px 1px 3px 1px rgba(60, 64, 67, 0.15);\n",
              "      fill: #174EA6;\n",
              "    }\n",
              "\n",
              "    [theme=dark] .colab-df-convert {\n",
              "      background-color: #3B4455;\n",
              "      fill: #D2E3FC;\n",
              "    }\n",
              "\n",
              "    [theme=dark] .colab-df-convert:hover {\n",
              "      background-color: #434B5C;\n",
              "      box-shadow: 0px 1px 3px 1px rgba(0, 0, 0, 0.15);\n",
              "      filter: drop-shadow(0px 1px 2px rgba(0, 0, 0, 0.3));\n",
              "      fill: #FFFFFF;\n",
              "    }\n",
              "  </style>\n",
              "\n",
              "      <script>\n",
              "        const buttonEl =\n",
              "          document.querySelector('#df-05287846-e1e3-45d7-9a86-8d2e968762fd button.colab-df-convert');\n",
              "        buttonEl.style.display =\n",
              "          google.colab.kernel.accessAllowed ? 'block' : 'none';\n",
              "\n",
              "        async function convertToInteractive(key) {\n",
              "          const element = document.querySelector('#df-05287846-e1e3-45d7-9a86-8d2e968762fd');\n",
              "          const dataTable =\n",
              "            await google.colab.kernel.invokeFunction('convertToInteractive',\n",
              "                                                     [key], {});\n",
              "          if (!dataTable) return;\n",
              "\n",
              "          const docLinkHtml = 'Like what you see? Visit the ' +\n",
              "            '<a target=\"_blank\" href=https://colab.research.google.com/notebooks/data_table.ipynb>data table notebook</a>'\n",
              "            + ' to learn more about interactive tables.';\n",
              "          element.innerHTML = '';\n",
              "          dataTable['output_type'] = 'display_data';\n",
              "          await google.colab.output.renderOutput(dataTable, element);\n",
              "          const docLink = document.createElement('div');\n",
              "          docLink.innerHTML = docLinkHtml;\n",
              "          element.appendChild(docLink);\n",
              "        }\n",
              "      </script>\n",
              "    </div>\n",
              "  </div>\n",
              "  "
            ],
            "text/plain": [
              "         count  percent\n",
              "Movie     4834     97.1\n",
              "TV Show    145      2.9"
            ]
          },
          "metadata": {},
          "execution_count": 31
        }
      ]
    },
    {
      "cell_type": "code",
      "source": [
        "# Como podemos observar aqui: TV-MA, TV-14 e R ocupam os três primeiros lugares em preferência \n",
        "\n",
        "count = df[\"rating\"].value_counts()\n",
        "percent = 100*df['rating'].value_counts(normalize=True)\n",
        "pd.DataFrame({\"count\":count, \"percent\":percent.round(1)})"
      ],
      "metadata": {
        "id": "4nS1QYKPzBLp",
        "colab": {
          "base_uri": "https://localhost:8080/",
          "height": 487
        },
        "outputId": "9ff7073a-0d5c-4ec6-9fab-876b63201710"
      },
      "execution_count": 32,
      "outputs": [
        {
          "output_type": "execute_result",
          "data": {
            "text/html": [
              "\n",
              "  <div id=\"df-a5049706-6d80-4032-8eea-32192a4fef5a\">\n",
              "    <div class=\"colab-df-container\">\n",
              "      <div>\n",
              "<style scoped>\n",
              "    .dataframe tbody tr th:only-of-type {\n",
              "        vertical-align: middle;\n",
              "    }\n",
              "\n",
              "    .dataframe tbody tr th {\n",
              "        vertical-align: top;\n",
              "    }\n",
              "\n",
              "    .dataframe thead th {\n",
              "        text-align: right;\n",
              "    }\n",
              "</style>\n",
              "<table border=\"1\" class=\"dataframe\">\n",
              "  <thead>\n",
              "    <tr style=\"text-align: right;\">\n",
              "      <th></th>\n",
              "      <th>count</th>\n",
              "      <th>percent</th>\n",
              "    </tr>\n",
              "  </thead>\n",
              "  <tbody>\n",
              "    <tr>\n",
              "      <th>TV-MA</th>\n",
              "      <td>1728</td>\n",
              "      <td>34.7</td>\n",
              "    </tr>\n",
              "    <tr>\n",
              "      <th>TV-14</th>\n",
              "      <td>1183</td>\n",
              "      <td>23.8</td>\n",
              "    </tr>\n",
              "    <tr>\n",
              "      <th>R</th>\n",
              "      <td>656</td>\n",
              "      <td>13.2</td>\n",
              "    </tr>\n",
              "    <tr>\n",
              "      <th>TV-PG</th>\n",
              "      <td>426</td>\n",
              "      <td>8.6</td>\n",
              "    </tr>\n",
              "    <tr>\n",
              "      <th>PG-13</th>\n",
              "      <td>378</td>\n",
              "      <td>7.6</td>\n",
              "    </tr>\n",
              "    <tr>\n",
              "      <th>PG</th>\n",
              "      <td>241</td>\n",
              "      <td>4.8</td>\n",
              "    </tr>\n",
              "    <tr>\n",
              "      <th>TV-Y</th>\n",
              "      <td>90</td>\n",
              "      <td>1.8</td>\n",
              "    </tr>\n",
              "    <tr>\n",
              "      <th>TV-G</th>\n",
              "      <td>85</td>\n",
              "      <td>1.7</td>\n",
              "    </tr>\n",
              "    <tr>\n",
              "      <th>TV-Y7</th>\n",
              "      <td>82</td>\n",
              "      <td>1.6</td>\n",
              "    </tr>\n",
              "    <tr>\n",
              "      <th>NR</th>\n",
              "      <td>62</td>\n",
              "      <td>1.2</td>\n",
              "    </tr>\n",
              "    <tr>\n",
              "      <th>G</th>\n",
              "      <td>38</td>\n",
              "      <td>0.8</td>\n",
              "    </tr>\n",
              "    <tr>\n",
              "      <th>UR</th>\n",
              "      <td>5</td>\n",
              "      <td>0.1</td>\n",
              "    </tr>\n",
              "    <tr>\n",
              "      <th>TV-Y7-FV</th>\n",
              "      <td>3</td>\n",
              "      <td>0.1</td>\n",
              "    </tr>\n",
              "    <tr>\n",
              "      <th>NC-17</th>\n",
              "      <td>2</td>\n",
              "      <td>0.0</td>\n",
              "    </tr>\n",
              "  </tbody>\n",
              "</table>\n",
              "</div>\n",
              "      <button class=\"colab-df-convert\" onclick=\"convertToInteractive('df-a5049706-6d80-4032-8eea-32192a4fef5a')\"\n",
              "              title=\"Convert this dataframe to an interactive table.\"\n",
              "              style=\"display:none;\">\n",
              "        \n",
              "  <svg xmlns=\"http://www.w3.org/2000/svg\" height=\"24px\"viewBox=\"0 0 24 24\"\n",
              "       width=\"24px\">\n",
              "    <path d=\"M0 0h24v24H0V0z\" fill=\"none\"/>\n",
              "    <path d=\"M18.56 5.44l.94 2.06.94-2.06 2.06-.94-2.06-.94-.94-2.06-.94 2.06-2.06.94zm-11 1L8.5 8.5l.94-2.06 2.06-.94-2.06-.94L8.5 2.5l-.94 2.06-2.06.94zm10 10l.94 2.06.94-2.06 2.06-.94-2.06-.94-.94-2.06-.94 2.06-2.06.94z\"/><path d=\"M17.41 7.96l-1.37-1.37c-.4-.4-.92-.59-1.43-.59-.52 0-1.04.2-1.43.59L10.3 9.45l-7.72 7.72c-.78.78-.78 2.05 0 2.83L4 21.41c.39.39.9.59 1.41.59.51 0 1.02-.2 1.41-.59l7.78-7.78 2.81-2.81c.8-.78.8-2.07 0-2.86zM5.41 20L4 18.59l7.72-7.72 1.47 1.35L5.41 20z\"/>\n",
              "  </svg>\n",
              "      </button>\n",
              "      \n",
              "  <style>\n",
              "    .colab-df-container {\n",
              "      display:flex;\n",
              "      flex-wrap:wrap;\n",
              "      gap: 12px;\n",
              "    }\n",
              "\n",
              "    .colab-df-convert {\n",
              "      background-color: #E8F0FE;\n",
              "      border: none;\n",
              "      border-radius: 50%;\n",
              "      cursor: pointer;\n",
              "      display: none;\n",
              "      fill: #1967D2;\n",
              "      height: 32px;\n",
              "      padding: 0 0 0 0;\n",
              "      width: 32px;\n",
              "    }\n",
              "\n",
              "    .colab-df-convert:hover {\n",
              "      background-color: #E2EBFA;\n",
              "      box-shadow: 0px 1px 2px rgba(60, 64, 67, 0.3), 0px 1px 3px 1px rgba(60, 64, 67, 0.15);\n",
              "      fill: #174EA6;\n",
              "    }\n",
              "\n",
              "    [theme=dark] .colab-df-convert {\n",
              "      background-color: #3B4455;\n",
              "      fill: #D2E3FC;\n",
              "    }\n",
              "\n",
              "    [theme=dark] .colab-df-convert:hover {\n",
              "      background-color: #434B5C;\n",
              "      box-shadow: 0px 1px 3px 1px rgba(0, 0, 0, 0.15);\n",
              "      filter: drop-shadow(0px 1px 2px rgba(0, 0, 0, 0.3));\n",
              "      fill: #FFFFFF;\n",
              "    }\n",
              "  </style>\n",
              "\n",
              "      <script>\n",
              "        const buttonEl =\n",
              "          document.querySelector('#df-a5049706-6d80-4032-8eea-32192a4fef5a button.colab-df-convert');\n",
              "        buttonEl.style.display =\n",
              "          google.colab.kernel.accessAllowed ? 'block' : 'none';\n",
              "\n",
              "        async function convertToInteractive(key) {\n",
              "          const element = document.querySelector('#df-a5049706-6d80-4032-8eea-32192a4fef5a');\n",
              "          const dataTable =\n",
              "            await google.colab.kernel.invokeFunction('convertToInteractive',\n",
              "                                                     [key], {});\n",
              "          if (!dataTable) return;\n",
              "\n",
              "          const docLinkHtml = 'Like what you see? Visit the ' +\n",
              "            '<a target=\"_blank\" href=https://colab.research.google.com/notebooks/data_table.ipynb>data table notebook</a>'\n",
              "            + ' to learn more about interactive tables.';\n",
              "          element.innerHTML = '';\n",
              "          dataTable['output_type'] = 'display_data';\n",
              "          await google.colab.output.renderOutput(dataTable, element);\n",
              "          const docLink = document.createElement('div');\n",
              "          docLink.innerHTML = docLinkHtml;\n",
              "          element.appendChild(docLink);\n",
              "        }\n",
              "      </script>\n",
              "    </div>\n",
              "  </div>\n",
              "  "
            ],
            "text/plain": [
              "          count  percent\n",
              "TV-MA      1728     34.7\n",
              "TV-14      1183     23.8\n",
              "R           656     13.2\n",
              "TV-PG       426      8.6\n",
              "PG-13       378      7.6\n",
              "PG          241      4.8\n",
              "TV-Y         90      1.8\n",
              "TV-G         85      1.7\n",
              "TV-Y7        82      1.6\n",
              "NR           62      1.2\n",
              "G            38      0.8\n",
              "UR            5      0.1\n",
              "TV-Y7-FV      3      0.1\n",
              "NC-17         2      0.0"
            ]
          },
          "metadata": {},
          "execution_count": 32
        }
      ]
    },
    {
      "cell_type": "code",
      "source": [
        "# A seguir criamos dois DataFrames: um para a coleção de filmes e outro para a coleção de programas de TV\n",
        "\n",
        "movie_df = df[df[\"type\"]== \"Movie\"]\n",
        "tv_df = df[df[\"type\"]== \"TV Show\"]\n"
      ],
      "metadata": {
        "id": "n1Oqt0bb3sAK"
      },
      "execution_count": 33,
      "outputs": []
    },
    {
      "cell_type": "code",
      "source": [
        "# Visualizamos o DataFrame\n",
        "\n",
        "movie_df.head(10)"
      ],
      "metadata": {
        "colab": {
          "base_uri": "https://localhost:8080/",
          "height": 406
        },
        "id": "7w8XzmqZ5gFk",
        "outputId": "bb7d690f-c164-4c30-d1f0-6748284f1efc"
      },
      "execution_count": 34,
      "outputs": [
        {
          "output_type": "execute_result",
          "data": {
            "text/html": [
              "\n",
              "  <div id=\"df-3d933415-59da-45d4-87e2-698fa9a47403\">\n",
              "    <div class=\"colab-df-container\">\n",
              "      <div>\n",
              "<style scoped>\n",
              "    .dataframe tbody tr th:only-of-type {\n",
              "        vertical-align: middle;\n",
              "    }\n",
              "\n",
              "    .dataframe tbody tr th {\n",
              "        vertical-align: top;\n",
              "    }\n",
              "\n",
              "    .dataframe thead th {\n",
              "        text-align: right;\n",
              "    }\n",
              "</style>\n",
              "<table border=\"1\" class=\"dataframe\">\n",
              "  <thead>\n",
              "    <tr style=\"text-align: right;\">\n",
              "      <th></th>\n",
              "      <th>show_id</th>\n",
              "      <th>type</th>\n",
              "      <th>title</th>\n",
              "      <th>director</th>\n",
              "      <th>cast</th>\n",
              "      <th>country</th>\n",
              "      <th>date_added</th>\n",
              "      <th>release_year</th>\n",
              "      <th>rating</th>\n",
              "      <th>duration</th>\n",
              "      <th>Genero</th>\n",
              "      <th>description</th>\n",
              "      <th>year_add</th>\n",
              "      <th>month_add</th>\n",
              "      <th>country_main</th>\n",
              "    </tr>\n",
              "  </thead>\n",
              "  <tbody>\n",
              "    <tr>\n",
              "      <th>1</th>\n",
              "      <td>s2</td>\n",
              "      <td>Movie</td>\n",
              "      <td>7:19</td>\n",
              "      <td>Jorge Michel Grau</td>\n",
              "      <td>Demián Bichir, Héctor Bonilla, Oscar Serrano, ...</td>\n",
              "      <td>Mexico</td>\n",
              "      <td>December 23, 2016</td>\n",
              "      <td>2016</td>\n",
              "      <td>TV-MA</td>\n",
              "      <td>93 min</td>\n",
              "      <td>Dramas</td>\n",
              "      <td>After a devastating earthquake hits Mexico Cit...</td>\n",
              "      <td>2016</td>\n",
              "      <td>December</td>\n",
              "      <td>Mexico</td>\n",
              "    </tr>\n",
              "    <tr>\n",
              "      <th>2</th>\n",
              "      <td>s3</td>\n",
              "      <td>Movie</td>\n",
              "      <td>23:59</td>\n",
              "      <td>Gilbert Chan</td>\n",
              "      <td>Tedd Chan, Stella Chung, Henley Hii, Lawrence ...</td>\n",
              "      <td>Singapore</td>\n",
              "      <td>December 20, 2018</td>\n",
              "      <td>2011</td>\n",
              "      <td>R</td>\n",
              "      <td>78 min</td>\n",
              "      <td>Horror Movies</td>\n",
              "      <td>When an army recruit is found dead, his fellow...</td>\n",
              "      <td>2018</td>\n",
              "      <td>December</td>\n",
              "      <td>Singapore</td>\n",
              "    </tr>\n",
              "    <tr>\n",
              "      <th>3</th>\n",
              "      <td>s4</td>\n",
              "      <td>Movie</td>\n",
              "      <td>9</td>\n",
              "      <td>Shane Acker</td>\n",
              "      <td>Elijah Wood, John C. Reilly, Jennifer Connelly...</td>\n",
              "      <td>United States</td>\n",
              "      <td>November 16, 2017</td>\n",
              "      <td>2009</td>\n",
              "      <td>PG-13</td>\n",
              "      <td>80 min</td>\n",
              "      <td>Action &amp; Adventure</td>\n",
              "      <td>In a postapocalyptic world, rag-doll robots hi...</td>\n",
              "      <td>2017</td>\n",
              "      <td>November</td>\n",
              "      <td>United States</td>\n",
              "    </tr>\n",
              "    <tr>\n",
              "      <th>4</th>\n",
              "      <td>s5</td>\n",
              "      <td>Movie</td>\n",
              "      <td>21</td>\n",
              "      <td>Robert Luketic</td>\n",
              "      <td>Jim Sturgess, Kevin Spacey, Kate Bosworth, Aar...</td>\n",
              "      <td>United States</td>\n",
              "      <td>January 1, 2020</td>\n",
              "      <td>2008</td>\n",
              "      <td>PG-13</td>\n",
              "      <td>123 min</td>\n",
              "      <td>Dramas</td>\n",
              "      <td>A brilliant group of students become card-coun...</td>\n",
              "      <td>2020</td>\n",
              "      <td>January</td>\n",
              "      <td>United States</td>\n",
              "    </tr>\n",
              "    <tr>\n",
              "      <th>6</th>\n",
              "      <td>s7</td>\n",
              "      <td>Movie</td>\n",
              "      <td>122</td>\n",
              "      <td>Yasir Al Yasiri</td>\n",
              "      <td>Amina Khalil, Ahmed Dawood, Tarek Lotfy, Ahmed...</td>\n",
              "      <td>Egypt</td>\n",
              "      <td>June 1, 2020</td>\n",
              "      <td>2019</td>\n",
              "      <td>TV-MA</td>\n",
              "      <td>95 min</td>\n",
              "      <td>Horror Movies</td>\n",
              "      <td>After an awful accident, a couple admitted to ...</td>\n",
              "      <td>2020</td>\n",
              "      <td>June</td>\n",
              "      <td>Egypt</td>\n",
              "    </tr>\n",
              "    <tr>\n",
              "      <th>7</th>\n",
              "      <td>s8</td>\n",
              "      <td>Movie</td>\n",
              "      <td>187</td>\n",
              "      <td>Kevin Reynolds</td>\n",
              "      <td>Samuel L. Jackson, John Heard, Kelly Rowan, Cl...</td>\n",
              "      <td>United States</td>\n",
              "      <td>November 1, 2019</td>\n",
              "      <td>1997</td>\n",
              "      <td>R</td>\n",
              "      <td>119 min</td>\n",
              "      <td>Dramas</td>\n",
              "      <td>After one of his high school students attacks ...</td>\n",
              "      <td>2019</td>\n",
              "      <td>November</td>\n",
              "      <td>United States</td>\n",
              "    </tr>\n",
              "    <tr>\n",
              "      <th>8</th>\n",
              "      <td>s9</td>\n",
              "      <td>Movie</td>\n",
              "      <td>706</td>\n",
              "      <td>Shravan Kumar</td>\n",
              "      <td>Divya Dutta, Atul Kulkarni, Mohan Agashe, Anup...</td>\n",
              "      <td>India</td>\n",
              "      <td>April 1, 2019</td>\n",
              "      <td>2019</td>\n",
              "      <td>TV-14</td>\n",
              "      <td>118 min</td>\n",
              "      <td>Horror Movies</td>\n",
              "      <td>When a doctor goes missing, his psychiatrist w...</td>\n",
              "      <td>2019</td>\n",
              "      <td>April</td>\n",
              "      <td>India</td>\n",
              "    </tr>\n",
              "    <tr>\n",
              "      <th>9</th>\n",
              "      <td>s10</td>\n",
              "      <td>Movie</td>\n",
              "      <td>1920</td>\n",
              "      <td>Vikram Bhatt</td>\n",
              "      <td>Rajneesh Duggal, Adah Sharma, Indraneil Sengup...</td>\n",
              "      <td>India</td>\n",
              "      <td>December 15, 2017</td>\n",
              "      <td>2008</td>\n",
              "      <td>TV-MA</td>\n",
              "      <td>143 min</td>\n",
              "      <td>Horror Movies</td>\n",
              "      <td>An architect and his wife move into a castle t...</td>\n",
              "      <td>2017</td>\n",
              "      <td>December</td>\n",
              "      <td>India</td>\n",
              "    </tr>\n",
              "    <tr>\n",
              "      <th>10</th>\n",
              "      <td>s11</td>\n",
              "      <td>Movie</td>\n",
              "      <td>1922</td>\n",
              "      <td>Zak Hilditch</td>\n",
              "      <td>Thomas Jane, Molly Parker, Dylan Schmid, Kaitl...</td>\n",
              "      <td>United States</td>\n",
              "      <td>October 20, 2017</td>\n",
              "      <td>2017</td>\n",
              "      <td>TV-MA</td>\n",
              "      <td>103 min</td>\n",
              "      <td>Dramas</td>\n",
              "      <td>A farmer pens a confession admitting to his wi...</td>\n",
              "      <td>2017</td>\n",
              "      <td>October</td>\n",
              "      <td>United States</td>\n",
              "    </tr>\n",
              "    <tr>\n",
              "      <th>13</th>\n",
              "      <td>s14</td>\n",
              "      <td>Movie</td>\n",
              "      <td>2,215</td>\n",
              "      <td>Nottapon Boonprakob</td>\n",
              "      <td>Artiwara Kongmalai</td>\n",
              "      <td>Thailand</td>\n",
              "      <td>March 1, 2019</td>\n",
              "      <td>2018</td>\n",
              "      <td>TV-MA</td>\n",
              "      <td>89 min</td>\n",
              "      <td>Documentaries</td>\n",
              "      <td>This intimate documentary follows rock star Ar...</td>\n",
              "      <td>2019</td>\n",
              "      <td>March</td>\n",
              "      <td>Thailand</td>\n",
              "    </tr>\n",
              "  </tbody>\n",
              "</table>\n",
              "</div>\n",
              "      <button class=\"colab-df-convert\" onclick=\"convertToInteractive('df-3d933415-59da-45d4-87e2-698fa9a47403')\"\n",
              "              title=\"Convert this dataframe to an interactive table.\"\n",
              "              style=\"display:none;\">\n",
              "        \n",
              "  <svg xmlns=\"http://www.w3.org/2000/svg\" height=\"24px\"viewBox=\"0 0 24 24\"\n",
              "       width=\"24px\">\n",
              "    <path d=\"M0 0h24v24H0V0z\" fill=\"none\"/>\n",
              "    <path d=\"M18.56 5.44l.94 2.06.94-2.06 2.06-.94-2.06-.94-.94-2.06-.94 2.06-2.06.94zm-11 1L8.5 8.5l.94-2.06 2.06-.94-2.06-.94L8.5 2.5l-.94 2.06-2.06.94zm10 10l.94 2.06.94-2.06 2.06-.94-2.06-.94-.94-2.06-.94 2.06-2.06.94z\"/><path d=\"M17.41 7.96l-1.37-1.37c-.4-.4-.92-.59-1.43-.59-.52 0-1.04.2-1.43.59L10.3 9.45l-7.72 7.72c-.78.78-.78 2.05 0 2.83L4 21.41c.39.39.9.59 1.41.59.51 0 1.02-.2 1.41-.59l7.78-7.78 2.81-2.81c.8-.78.8-2.07 0-2.86zM5.41 20L4 18.59l7.72-7.72 1.47 1.35L5.41 20z\"/>\n",
              "  </svg>\n",
              "      </button>\n",
              "      \n",
              "  <style>\n",
              "    .colab-df-container {\n",
              "      display:flex;\n",
              "      flex-wrap:wrap;\n",
              "      gap: 12px;\n",
              "    }\n",
              "\n",
              "    .colab-df-convert {\n",
              "      background-color: #E8F0FE;\n",
              "      border: none;\n",
              "      border-radius: 50%;\n",
              "      cursor: pointer;\n",
              "      display: none;\n",
              "      fill: #1967D2;\n",
              "      height: 32px;\n",
              "      padding: 0 0 0 0;\n",
              "      width: 32px;\n",
              "    }\n",
              "\n",
              "    .colab-df-convert:hover {\n",
              "      background-color: #E2EBFA;\n",
              "      box-shadow: 0px 1px 2px rgba(60, 64, 67, 0.3), 0px 1px 3px 1px rgba(60, 64, 67, 0.15);\n",
              "      fill: #174EA6;\n",
              "    }\n",
              "\n",
              "    [theme=dark] .colab-df-convert {\n",
              "      background-color: #3B4455;\n",
              "      fill: #D2E3FC;\n",
              "    }\n",
              "\n",
              "    [theme=dark] .colab-df-convert:hover {\n",
              "      background-color: #434B5C;\n",
              "      box-shadow: 0px 1px 3px 1px rgba(0, 0, 0, 0.15);\n",
              "      filter: drop-shadow(0px 1px 2px rgba(0, 0, 0, 0.3));\n",
              "      fill: #FFFFFF;\n",
              "    }\n",
              "  </style>\n",
              "\n",
              "      <script>\n",
              "        const buttonEl =\n",
              "          document.querySelector('#df-3d933415-59da-45d4-87e2-698fa9a47403 button.colab-df-convert');\n",
              "        buttonEl.style.display =\n",
              "          google.colab.kernel.accessAllowed ? 'block' : 'none';\n",
              "\n",
              "        async function convertToInteractive(key) {\n",
              "          const element = document.querySelector('#df-3d933415-59da-45d4-87e2-698fa9a47403');\n",
              "          const dataTable =\n",
              "            await google.colab.kernel.invokeFunction('convertToInteractive',\n",
              "                                                     [key], {});\n",
              "          if (!dataTable) return;\n",
              "\n",
              "          const docLinkHtml = 'Like what you see? Visit the ' +\n",
              "            '<a target=\"_blank\" href=https://colab.research.google.com/notebooks/data_table.ipynb>data table notebook</a>'\n",
              "            + ' to learn more about interactive tables.';\n",
              "          element.innerHTML = '';\n",
              "          dataTable['output_type'] = 'display_data';\n",
              "          await google.colab.output.renderOutput(dataTable, element);\n",
              "          const docLink = document.createElement('div');\n",
              "          docLink.innerHTML = docLinkHtml;\n",
              "          element.appendChild(docLink);\n",
              "        }\n",
              "      </script>\n",
              "    </div>\n",
              "  </div>\n",
              "  "
            ],
            "text/plain": [
              "   show_id   type  title  ... year_add month_add   country_main\n",
              "1       s2  Movie   7:19  ...     2016  December         Mexico\n",
              "2       s3  Movie  23:59  ...     2018  December      Singapore\n",
              "3       s4  Movie      9  ...     2017  November  United States\n",
              "4       s5  Movie     21  ...     2020   January  United States\n",
              "6       s7  Movie    122  ...     2020      June          Egypt\n",
              "7       s8  Movie    187  ...     2019  November  United States\n",
              "8       s9  Movie    706  ...     2019     April          India\n",
              "9      s10  Movie   1920  ...     2017  December          India\n",
              "10     s11  Movie   1922  ...     2017   October  United States\n",
              "13     s14  Movie  2,215  ...     2019     March       Thailand\n",
              "\n",
              "[10 rows x 15 columns]"
            ]
          },
          "metadata": {},
          "execution_count": 34
        }
      ]
    },
    {
      "cell_type": "code",
      "source": [
        "# Imprimimos o DataFrame\n",
        "\n",
        "tv_df.head(6)"
      ],
      "metadata": {
        "colab": {
          "base_uri": "https://localhost:8080/",
          "height": 385
        },
        "id": "WC1N5Ntx5tXX",
        "outputId": "d2b0d7d5-208b-4d44-8cee-1ea319b1025c"
      },
      "execution_count": 35,
      "outputs": [
        {
          "output_type": "execute_result",
          "data": {
            "text/html": [
              "\n",
              "  <div id=\"df-35e3ea62-d514-486d-a31e-713f8c5ac12d\">\n",
              "    <div class=\"colab-df-container\">\n",
              "      <div>\n",
              "<style scoped>\n",
              "    .dataframe tbody tr th:only-of-type {\n",
              "        vertical-align: middle;\n",
              "    }\n",
              "\n",
              "    .dataframe tbody tr th {\n",
              "        vertical-align: top;\n",
              "    }\n",
              "\n",
              "    .dataframe thead th {\n",
              "        text-align: right;\n",
              "    }\n",
              "</style>\n",
              "<table border=\"1\" class=\"dataframe\">\n",
              "  <thead>\n",
              "    <tr style=\"text-align: right;\">\n",
              "      <th></th>\n",
              "      <th>show_id</th>\n",
              "      <th>type</th>\n",
              "      <th>title</th>\n",
              "      <th>director</th>\n",
              "      <th>cast</th>\n",
              "      <th>country</th>\n",
              "      <th>date_added</th>\n",
              "      <th>release_year</th>\n",
              "      <th>rating</th>\n",
              "      <th>duration</th>\n",
              "      <th>Genero</th>\n",
              "      <th>description</th>\n",
              "      <th>year_add</th>\n",
              "      <th>month_add</th>\n",
              "      <th>country_main</th>\n",
              "    </tr>\n",
              "  </thead>\n",
              "  <tbody>\n",
              "    <tr>\n",
              "      <th>5</th>\n",
              "      <td>s6</td>\n",
              "      <td>TV Show</td>\n",
              "      <td>46</td>\n",
              "      <td>Serdar Akar</td>\n",
              "      <td>Erdal Beşikçioğlu, Yasemin Allen, Melis Birkan...</td>\n",
              "      <td>Turkey</td>\n",
              "      <td>July 1, 2017</td>\n",
              "      <td>2016</td>\n",
              "      <td>TV-MA</td>\n",
              "      <td>1 Season</td>\n",
              "      <td>International TV Shows</td>\n",
              "      <td>A genetics professor experiments with a treatm...</td>\n",
              "      <td>2017</td>\n",
              "      <td>July</td>\n",
              "      <td>Turkey</td>\n",
              "    </tr>\n",
              "    <tr>\n",
              "      <th>132</th>\n",
              "      <td>s133</td>\n",
              "      <td>TV Show</td>\n",
              "      <td>7 (Seven)</td>\n",
              "      <td>Nizar Shafi</td>\n",
              "      <td>Rahman, Havish, Regina Cassandra, Nandita Swet...</td>\n",
              "      <td>India</td>\n",
              "      <td>July 30, 2019</td>\n",
              "      <td>2019</td>\n",
              "      <td>TV-14</td>\n",
              "      <td>1 Season</td>\n",
              "      <td>TV Shows</td>\n",
              "      <td>Multiple women report their husbands as missin...</td>\n",
              "      <td>2019</td>\n",
              "      <td>July</td>\n",
              "      <td>India</td>\n",
              "    </tr>\n",
              "    <tr>\n",
              "      <th>218</th>\n",
              "      <td>s219</td>\n",
              "      <td>TV Show</td>\n",
              "      <td>A Queen Is Born</td>\n",
              "      <td>Carla Barros</td>\n",
              "      <td>Gloria Groove, Alexia Twister</td>\n",
              "      <td>Brazil</td>\n",
              "      <td>November 11, 2020</td>\n",
              "      <td>2020</td>\n",
              "      <td>TV-14</td>\n",
              "      <td>1 Season</td>\n",
              "      <td>International TV Shows</td>\n",
              "      <td>Gloria Groove and Alexia Twister make drag dre...</td>\n",
              "      <td>2020</td>\n",
              "      <td>November</td>\n",
              "      <td>Brazil</td>\n",
              "    </tr>\n",
              "    <tr>\n",
              "      <th>260</th>\n",
              "      <td>s261</td>\n",
              "      <td>TV Show</td>\n",
              "      <td>A.I.C.O.</td>\n",
              "      <td>Kazuya Murata</td>\n",
              "      <td>Haruka Shiraishi, Yusuke Kobayashi, Makoto Fur...</td>\n",
              "      <td>Japan</td>\n",
              "      <td>March 9, 2018</td>\n",
              "      <td>2018</td>\n",
              "      <td>TV-14</td>\n",
              "      <td>1 Season</td>\n",
              "      <td>Anime Series</td>\n",
              "      <td>Everything Aiko knew was a lie. Now she's join...</td>\n",
              "      <td>2018</td>\n",
              "      <td>March</td>\n",
              "      <td>Japan</td>\n",
              "    </tr>\n",
              "    <tr>\n",
              "      <th>276</th>\n",
              "      <td>s277</td>\n",
              "      <td>TV Show</td>\n",
              "      <td>Abby Hatcher</td>\n",
              "      <td>Kyran Kelly</td>\n",
              "      <td>Macy Drouin, Wyatt White, Paul Sun-Hyung Lee, ...</td>\n",
              "      <td>United States, Canada</td>\n",
              "      <td>July 1, 2020</td>\n",
              "      <td>2019</td>\n",
              "      <td>TV-Y</td>\n",
              "      <td>1 Season</td>\n",
              "      <td>Kids' TV</td>\n",
              "      <td>A big-hearted girl helps her Fuzzly friends wh...</td>\n",
              "      <td>2020</td>\n",
              "      <td>July</td>\n",
              "      <td>United States</td>\n",
              "    </tr>\n",
              "    <tr>\n",
              "      <th>284</th>\n",
              "      <td>s285</td>\n",
              "      <td>TV Show</td>\n",
              "      <td>Abnormal Summit</td>\n",
              "      <td>Jung-ah Im, Seung-uk Jo</td>\n",
              "      <td>Hyun-moo Jun, Si-kyung Sung, Se-yoon Yoo</td>\n",
              "      <td>South Korea</td>\n",
              "      <td>August 4, 2017</td>\n",
              "      <td>2017</td>\n",
              "      <td>TV-PG</td>\n",
              "      <td>2 Seasons</td>\n",
              "      <td>International TV Shows</td>\n",
              "      <td>Led by a trio of Korean celebs, a multinationa...</td>\n",
              "      <td>4,</td>\n",
              "      <td></td>\n",
              "      <td>South Korea</td>\n",
              "    </tr>\n",
              "  </tbody>\n",
              "</table>\n",
              "</div>\n",
              "      <button class=\"colab-df-convert\" onclick=\"convertToInteractive('df-35e3ea62-d514-486d-a31e-713f8c5ac12d')\"\n",
              "              title=\"Convert this dataframe to an interactive table.\"\n",
              "              style=\"display:none;\">\n",
              "        \n",
              "  <svg xmlns=\"http://www.w3.org/2000/svg\" height=\"24px\"viewBox=\"0 0 24 24\"\n",
              "       width=\"24px\">\n",
              "    <path d=\"M0 0h24v24H0V0z\" fill=\"none\"/>\n",
              "    <path d=\"M18.56 5.44l.94 2.06.94-2.06 2.06-.94-2.06-.94-.94-2.06-.94 2.06-2.06.94zm-11 1L8.5 8.5l.94-2.06 2.06-.94-2.06-.94L8.5 2.5l-.94 2.06-2.06.94zm10 10l.94 2.06.94-2.06 2.06-.94-2.06-.94-.94-2.06-.94 2.06-2.06.94z\"/><path d=\"M17.41 7.96l-1.37-1.37c-.4-.4-.92-.59-1.43-.59-.52 0-1.04.2-1.43.59L10.3 9.45l-7.72 7.72c-.78.78-.78 2.05 0 2.83L4 21.41c.39.39.9.59 1.41.59.51 0 1.02-.2 1.41-.59l7.78-7.78 2.81-2.81c.8-.78.8-2.07 0-2.86zM5.41 20L4 18.59l7.72-7.72 1.47 1.35L5.41 20z\"/>\n",
              "  </svg>\n",
              "      </button>\n",
              "      \n",
              "  <style>\n",
              "    .colab-df-container {\n",
              "      display:flex;\n",
              "      flex-wrap:wrap;\n",
              "      gap: 12px;\n",
              "    }\n",
              "\n",
              "    .colab-df-convert {\n",
              "      background-color: #E8F0FE;\n",
              "      border: none;\n",
              "      border-radius: 50%;\n",
              "      cursor: pointer;\n",
              "      display: none;\n",
              "      fill: #1967D2;\n",
              "      height: 32px;\n",
              "      padding: 0 0 0 0;\n",
              "      width: 32px;\n",
              "    }\n",
              "\n",
              "    .colab-df-convert:hover {\n",
              "      background-color: #E2EBFA;\n",
              "      box-shadow: 0px 1px 2px rgba(60, 64, 67, 0.3), 0px 1px 3px 1px rgba(60, 64, 67, 0.15);\n",
              "      fill: #174EA6;\n",
              "    }\n",
              "\n",
              "    [theme=dark] .colab-df-convert {\n",
              "      background-color: #3B4455;\n",
              "      fill: #D2E3FC;\n",
              "    }\n",
              "\n",
              "    [theme=dark] .colab-df-convert:hover {\n",
              "      background-color: #434B5C;\n",
              "      box-shadow: 0px 1px 3px 1px rgba(0, 0, 0, 0.15);\n",
              "      filter: drop-shadow(0px 1px 2px rgba(0, 0, 0, 0.3));\n",
              "      fill: #FFFFFF;\n",
              "    }\n",
              "  </style>\n",
              "\n",
              "      <script>\n",
              "        const buttonEl =\n",
              "          document.querySelector('#df-35e3ea62-d514-486d-a31e-713f8c5ac12d button.colab-df-convert');\n",
              "        buttonEl.style.display =\n",
              "          google.colab.kernel.accessAllowed ? 'block' : 'none';\n",
              "\n",
              "        async function convertToInteractive(key) {\n",
              "          const element = document.querySelector('#df-35e3ea62-d514-486d-a31e-713f8c5ac12d');\n",
              "          const dataTable =\n",
              "            await google.colab.kernel.invokeFunction('convertToInteractive',\n",
              "                                                     [key], {});\n",
              "          if (!dataTable) return;\n",
              "\n",
              "          const docLinkHtml = 'Like what you see? Visit the ' +\n",
              "            '<a target=\"_blank\" href=https://colab.research.google.com/notebooks/data_table.ipynb>data table notebook</a>'\n",
              "            + ' to learn more about interactive tables.';\n",
              "          element.innerHTML = '';\n",
              "          dataTable['output_type'] = 'display_data';\n",
              "          await google.colab.output.renderOutput(dataTable, element);\n",
              "          const docLink = document.createElement('div');\n",
              "          docLink.innerHTML = docLinkHtml;\n",
              "          element.appendChild(docLink);\n",
              "        }\n",
              "      </script>\n",
              "    </div>\n",
              "  </div>\n",
              "  "
            ],
            "text/plain": [
              "    show_id     type            title  ... year_add month_add   country_main\n",
              "5        s6  TV Show               46  ...     2017      July         Turkey\n",
              "132    s133  TV Show        7 (Seven)  ...     2019      July          India\n",
              "218    s219  TV Show  A Queen Is Born  ...     2020  November         Brazil\n",
              "260    s261  TV Show         A.I.C.O.  ...     2018     March          Japan\n",
              "276    s277  TV Show     Abby Hatcher  ...     2020      July  United States\n",
              "284    s285  TV Show  Abnormal Summit  ...       4,              South Korea\n",
              "\n",
              "[6 rows x 15 columns]"
            ]
          },
          "metadata": {},
          "execution_count": 35
        }
      ]
    },
    {
      "cell_type": "markdown",
      "source": [
        "## 3. Análise e exploração de nossos Dados "
      ],
      "metadata": {
        "id": "DwCcdctG623B"
      }
    },
    {
      "cell_type": "markdown",
      "source": [
        "### <font color=\"orange\">Movie Vs TV Show</font>"
      ],
      "metadata": {
        "id": "X-S7bWUx_yxe"
      }
    },
    {
      "cell_type": "code",
      "source": [
        "fig = px.histogram(df,\n",
        "                   x = \"type\",\n",
        "                   template = \"plotly_dark\",\n",
        "                   color_discrete_sequence = [\"forestgreen\", \"darkorange\", \"gold\", \"deeppink\"],\n",
        "                   title = \"Tipo de Programas\")\n",
        "fig.update_layout(bargap = 0.1)\n",
        "fig.show()\n"
      ],
      "metadata": {
        "colab": {
          "base_uri": "https://localhost:8080/",
          "height": 0
        },
        "id": "yKnilfNY6CJP",
        "outputId": "597b9ed9-2729-4ac8-eea9-25590b0785da"
      },
      "execution_count": 36,
      "outputs": [
        {
          "output_type": "display_data",
          "data": {
            "text/html": [
              "<html>\n",
              "<head><meta charset=\"utf-8\" /></head>\n",
              "<body>\n",
              "    <div>\n",
              "            <script src=\"https://cdnjs.cloudflare.com/ajax/libs/mathjax/2.7.5/MathJax.js?config=TeX-AMS-MML_SVG\"></script><script type=\"text/javascript\">if (window.MathJax) {MathJax.Hub.Config({SVG: {font: \"STIX-Web\"}});}</script>\n",
              "                <script type=\"text/javascript\">window.PlotlyConfig = {MathJaxConfig: 'local'};</script>\n",
              "        <script src=\"https://cdn.plot.ly/plotly-latest.min.js\"></script>    \n",
              "            <div id=\"3f0e6c52-9094-4331-ab66-670be3f6b586\" class=\"plotly-graph-div\" style=\"height:525px; width:100%;\"></div>\n",
              "            <script type=\"text/javascript\">\n",
              "                \n",
              "                    window.PLOTLYENV=window.PLOTLYENV || {};\n",
              "                    \n",
              "                if (document.getElementById(\"3f0e6c52-9094-4331-ab66-670be3f6b586\")) {\n",
              "                    Plotly.newPlot(\n",
              "                        '3f0e6c52-9094-4331-ab66-670be3f6b586',\n",
              "                        [{\"alignmentgroup\": \"True\", \"bingroup\": \"x\", \"hoverlabel\": {\"namelength\": 0}, \"hovertemplate\": \"type=%{x}<br>count=%{y}\", \"legendgroup\": \"\", \"marker\": {\"color\": \"forestgreen\"}, \"name\": \"\", \"offsetgroup\": \"\", \"orientation\": \"v\", \"showlegend\": false, \"type\": \"histogram\", \"x\": [\"Movie\", \"Movie\", \"Movie\", \"Movie\", \"TV Show\", \"Movie\", \"Movie\", \"Movie\", \"Movie\", \"Movie\", \"Movie\", \"Movie\", \"Movie\", \"Movie\", \"Movie\", \"Movie\", \"Movie\", \"Movie\", \"Movie\", \"Movie\", \"Movie\", \"Movie\", \"Movie\", \"Movie\", \"Movie\", \"Movie\", \"Movie\", \"Movie\", \"Movie\", \"Movie\", \"Movie\", \"Movie\", \"Movie\", \"Movie\", \"Movie\", \"Movie\", \"Movie\", \"Movie\", \"Movie\", \"Movie\", \"Movie\", \"Movie\", \"Movie\", \"Movie\", \"Movie\", \"Movie\", \"Movie\", \"Movie\", \"Movie\", \"Movie\", \"Movie\", \"Movie\", \"Movie\", \"Movie\", \"Movie\", \"Movie\", \"Movie\", \"Movie\", \"Movie\", \"Movie\", \"Movie\", \"Movie\", \"Movie\", \"Movie\", \"Movie\", \"Movie\", \"Movie\", \"Movie\", \"Movie\", \"Movie\", \"Movie\", \"Movie\", \"Movie\", \"Movie\", \"Movie\", \"Movie\", \"Movie\", \"Movie\", \"Movie\", \"Movie\", \"Movie\", \"Movie\", \"Movie\", \"Movie\", \"Movie\", \"Movie\", \"Movie\", \"Movie\", \"Movie\", \"Movie\", \"Movie\", \"Movie\", \"Movie\", \"Movie\", \"Movie\", \"Movie\", \"TV Show\", \"Movie\", \"Movie\", \"Movie\", \"Movie\", \"Movie\", \"Movie\", \"Movie\", \"Movie\", \"Movie\", \"Movie\", \"Movie\", \"Movie\", \"Movie\", \"Movie\", \"Movie\", \"Movie\", \"Movie\", \"Movie\", \"Movie\", \"Movie\", \"Movie\", \"Movie\", \"Movie\", \"Movie\", \"Movie\", \"Movie\", \"Movie\", \"Movie\", \"Movie\", \"Movie\", \"Movie\", \"Movie\", \"Movie\", \"Movie\", \"Movie\", \"Movie\", \"Movie\", \"Movie\", \"Movie\", \"Movie\", \"Movie\", \"Movie\", \"Movie\", \"Movie\", \"Movie\", \"Movie\", \"Movie\", \"Movie\", \"Movie\", \"Movie\", \"Movie\", \"Movie\", \"Movie\", \"Movie\", \"Movie\", \"Movie\", \"Movie\", \"Movie\", \"Movie\", \"TV Show\", \"Movie\", \"Movie\", \"Movie\", \"Movie\", \"Movie\", \"Movie\", \"Movie\", \"Movie\", \"Movie\", \"Movie\", \"Movie\", \"Movie\", \"Movie\", \"Movie\", \"Movie\", \"Movie\", \"Movie\", \"Movie\", \"Movie\", \"Movie\", \"Movie\", \"Movie\", \"Movie\", \"Movie\", \"Movie\", \"Movie\", \"Movie\", \"Movie\", \"Movie\", \"Movie\", \"TV Show\", \"Movie\", \"Movie\", \"Movie\", \"Movie\", \"Movie\", \"Movie\", \"Movie\", \"Movie\", \"Movie\", \"Movie\", \"Movie\", \"Movie\", \"Movie\", \"Movie\", \"Movie\", \"TV Show\", \"Movie\", \"Movie\", \"Movie\", \"Movie\", \"Movie\", \"TV Show\", \"Movie\", \"Movie\", \"Movie\", \"Movie\", \"Movie\", \"Movie\", \"Movie\", \"Movie\", \"Movie\", \"Movie\", \"Movie\", \"Movie\", \"Movie\", \"Movie\", \"Movie\", \"Movie\", \"Movie\", \"Movie\", \"Movie\", \"Movie\", \"Movie\", \"Movie\", \"Movie\", \"Movie\", \"Movie\", \"Movie\", \"Movie\", \"TV Show\", \"Movie\", \"Movie\", \"Movie\", \"Movie\", \"Movie\", \"Movie\", \"TV Show\", \"Movie\", \"Movie\", \"Movie\", \"Movie\", \"Movie\", \"Movie\", \"Movie\", \"Movie\", \"Movie\", \"Movie\", \"Movie\", \"Movie\", \"Movie\", \"Movie\", \"Movie\", \"TV Show\", \"Movie\", \"Movie\", \"Movie\", \"Movie\", \"Movie\", \"Movie\", \"Movie\", \"Movie\", \"Movie\", \"Movie\", \"Movie\", \"Movie\", \"Movie\", \"Movie\", \"Movie\", \"Movie\", \"Movie\", \"Movie\", \"Movie\", \"Movie\", \"Movie\", \"Movie\", \"Movie\", \"Movie\", \"Movie\", \"Movie\", \"Movie\", \"Movie\", \"Movie\", \"Movie\", \"Movie\", \"Movie\", \"Movie\", \"Movie\", \"Movie\", \"Movie\", \"Movie\", \"Movie\", \"Movie\", \"Movie\", \"Movie\", \"Movie\", \"Movie\", \"Movie\", \"TV Show\", \"Movie\", \"Movie\", \"Movie\", \"Movie\", \"Movie\", \"Movie\", \"Movie\", \"Movie\", \"Movie\", \"Movie\", \"Movie\", \"Movie\", \"Movie\", \"Movie\", \"Movie\", \"Movie\", \"Movie\", \"Movie\", \"Movie\", \"Movie\", \"Movie\", \"Movie\", \"Movie\", \"Movie\", \"Movie\", \"Movie\", \"Movie\", \"Movie\", \"Movie\", \"Movie\", \"Movie\", \"Movie\", \"Movie\", \"Movie\", \"Movie\", \"Movie\", \"Movie\", \"Movie\", \"Movie\", \"Movie\", \"Movie\", \"Movie\", \"Movie\", \"Movie\", \"Movie\", \"Movie\", \"Movie\", \"Movie\", \"Movie\", \"Movie\", \"Movie\", \"Movie\", \"Movie\", \"Movie\", \"Movie\", \"Movie\", \"Movie\", \"Movie\", \"Movie\", \"Movie\", \"Movie\", \"Movie\", \"Movie\", \"Movie\", \"Movie\", \"Movie\", \"Movie\", \"Movie\", \"Movie\", \"Movie\", \"Movie\", \"Movie\", \"Movie\", \"Movie\", \"Movie\", \"Movie\", \"Movie\", \"TV Show\", \"Movie\", \"Movie\", \"Movie\", \"Movie\", \"Movie\", \"Movie\", \"Movie\", \"Movie\", \"Movie\", \"Movie\", \"Movie\", \"Movie\", \"Movie\", \"Movie\", \"Movie\", \"Movie\", \"Movie\", \"Movie\", \"Movie\", \"Movie\", \"Movie\", \"Movie\", \"Movie\", \"Movie\", \"Movie\", \"Movie\", \"Movie\", \"TV Show\", \"Movie\", \"Movie\", \"Movie\", \"Movie\", \"TV Show\", \"Movie\", \"Movie\", \"Movie\", \"Movie\", \"Movie\", \"Movie\", \"Movie\", \"Movie\", \"Movie\", \"Movie\", \"Movie\", \"Movie\", \"Movie\", \"Movie\", \"Movie\", \"Movie\", \"Movie\", \"Movie\", \"Movie\", \"Movie\", \"Movie\", \"Movie\", \"Movie\", \"Movie\", \"Movie\", \"Movie\", \"Movie\", \"Movie\", \"Movie\", \"Movie\", \"Movie\", \"Movie\", \"Movie\", \"Movie\", \"Movie\", \"Movie\", \"Movie\", \"Movie\", \"Movie\", \"Movie\", \"Movie\", \"Movie\", \"Movie\", \"Movie\", \"Movie\", \"Movie\", \"Movie\", \"Movie\", \"Movie\", \"Movie\", \"Movie\", \"Movie\", \"Movie\", \"Movie\", \"Movie\", \"Movie\", \"Movie\", \"Movie\", \"Movie\", \"Movie\", \"Movie\", \"Movie\", \"Movie\", \"Movie\", \"Movie\", \"Movie\", \"Movie\", \"Movie\", \"Movie\", \"Movie\", \"Movie\", \"Movie\", \"Movie\", \"Movie\", \"Movie\", \"Movie\", \"Movie\", \"Movie\", \"Movie\", \"Movie\", \"Movie\", \"TV Show\", \"Movie\", \"Movie\", \"Movie\", \"Movie\", \"Movie\", \"Movie\", \"Movie\", \"Movie\", \"Movie\", \"Movie\", \"Movie\", \"Movie\", \"Movie\", \"Movie\", \"Movie\", \"Movie\", \"Movie\", \"Movie\", \"Movie\", \"Movie\", \"Movie\", \"Movie\", \"Movie\", \"Movie\", \"Movie\", \"Movie\", \"Movie\", \"Movie\", \"Movie\", \"Movie\", \"Movie\", \"Movie\", \"Movie\", \"Movie\", \"Movie\", \"Movie\", \"Movie\", \"Movie\", \"Movie\", \"Movie\", \"Movie\", \"Movie\", \"Movie\", \"Movie\", \"Movie\", \"Movie\", \"Movie\", \"Movie\", \"Movie\", \"Movie\", \"Movie\", \"Movie\", \"Movie\", \"Movie\", \"Movie\", \"Movie\", \"Movie\", \"Movie\", \"Movie\", \"Movie\", \"Movie\", \"Movie\", \"Movie\", \"Movie\", \"Movie\", \"Movie\", \"TV Show\", \"Movie\", \"Movie\", \"Movie\", \"Movie\", \"Movie\", \"Movie\", \"Movie\", \"Movie\", \"Movie\", \"Movie\", \"Movie\", \"Movie\", \"Movie\", \"Movie\", \"Movie\", \"Movie\", \"Movie\", \"Movie\", \"Movie\", \"Movie\", \"Movie\", \"Movie\", \"Movie\", \"Movie\", \"Movie\", \"Movie\", \"Movie\", \"Movie\", \"Movie\", \"Movie\", \"Movie\", \"Movie\", \"Movie\", \"Movie\", \"Movie\", \"Movie\", \"Movie\", \"Movie\", \"Movie\", \"Movie\", \"Movie\", \"Movie\", \"Movie\", \"Movie\", \"Movie\", \"Movie\", \"Movie\", \"Movie\", \"Movie\", \"Movie\", \"Movie\", \"Movie\", \"Movie\", \"Movie\", \"Movie\", \"Movie\", \"Movie\", \"Movie\", \"Movie\", \"Movie\", \"Movie\", \"Movie\", \"Movie\", \"Movie\", \"Movie\", \"Movie\", \"Movie\", \"Movie\", \"Movie\", \"Movie\", \"Movie\", \"Movie\", \"Movie\", \"Movie\", \"Movie\", \"Movie\", \"Movie\", \"Movie\", \"Movie\", \"Movie\", \"Movie\", \"Movie\", \"Movie\", \"Movie\", \"Movie\", \"Movie\", \"Movie\", \"Movie\", \"Movie\", \"Movie\", \"Movie\", \"Movie\", \"Movie\", \"Movie\", \"Movie\", \"TV Show\", \"Movie\", \"Movie\", \"Movie\", \"Movie\", \"Movie\", \"Movie\", \"Movie\", \"TV Show\", \"Movie\", \"Movie\", \"Movie\", \"Movie\", \"Movie\", \"Movie\", \"Movie\", \"Movie\", \"Movie\", \"Movie\", \"Movie\", \"Movie\", \"Movie\", \"Movie\", \"Movie\", \"Movie\", \"Movie\", \"Movie\", \"Movie\", \"Movie\", \"Movie\", \"Movie\", \"Movie\", \"Movie\", \"Movie\", \"Movie\", \"Movie\", \"Movie\", \"Movie\", \"Movie\", \"Movie\", \"Movie\", \"Movie\", \"Movie\", \"Movie\", \"Movie\", \"Movie\", \"Movie\", \"Movie\", \"TV Show\", \"Movie\", \"Movie\", \"Movie\", \"Movie\", \"Movie\", \"TV Show\", \"Movie\", \"Movie\", \"Movie\", \"Movie\", \"Movie\", \"Movie\", \"Movie\", \"Movie\", \"Movie\", \"Movie\", \"Movie\", \"Movie\", \"Movie\", \"Movie\", \"Movie\", \"Movie\", \"Movie\", \"Movie\", \"Movie\", \"Movie\", \"Movie\", \"Movie\", \"Movie\", \"Movie\", \"Movie\", \"Movie\", \"Movie\", \"Movie\", \"Movie\", \"Movie\", \"TV Show\", \"Movie\", \"Movie\", \"Movie\", \"Movie\", \"Movie\", \"Movie\", \"Movie\", \"Movie\", \"Movie\", \"Movie\", \"Movie\", \"Movie\", \"Movie\", \"Movie\", \"TV Show\", \"Movie\", \"TV Show\", \"Movie\", \"Movie\", \"Movie\", \"Movie\", \"Movie\", \"Movie\", \"Movie\", \"Movie\", \"Movie\", \"Movie\", \"Movie\", \"Movie\", \"Movie\", \"Movie\", \"Movie\", \"Movie\", \"Movie\", \"Movie\", \"Movie\", \"Movie\", \"Movie\", \"Movie\", \"Movie\", \"Movie\", \"Movie\", \"Movie\", \"Movie\", \"Movie\", \"Movie\", \"Movie\", \"Movie\", \"Movie\", \"Movie\", \"Movie\", \"Movie\", \"Movie\", \"Movie\", \"Movie\", \"Movie\", \"Movie\", \"Movie\", \"Movie\", \"Movie\", \"Movie\", \"Movie\", \"Movie\", \"TV Show\", \"Movie\", \"Movie\", \"Movie\", \"TV Show\", \"Movie\", \"Movie\", \"Movie\", \"Movie\", \"Movie\", \"Movie\", \"Movie\", \"Movie\", \"Movie\", \"Movie\", \"Movie\", \"Movie\", \"Movie\", \"Movie\", \"Movie\", \"Movie\", \"Movie\", \"Movie\", \"Movie\", \"Movie\", \"Movie\", \"Movie\", \"Movie\", \"Movie\", \"Movie\", \"Movie\", \"Movie\", \"Movie\", \"Movie\", \"Movie\", \"Movie\", \"Movie\", \"Movie\", \"Movie\", \"Movie\", \"Movie\", \"Movie\", \"Movie\", \"Movie\", \"Movie\", \"Movie\", \"Movie\", \"Movie\", \"Movie\", \"Movie\", \"Movie\", \"Movie\", \"Movie\", \"Movie\", \"Movie\", \"Movie\", \"Movie\", \"Movie\", \"Movie\", \"Movie\", \"Movie\", \"Movie\", \"Movie\", \"Movie\", \"Movie\", \"Movie\", \"Movie\", \"Movie\", \"Movie\", \"Movie\", \"Movie\", \"Movie\", \"Movie\", \"TV Show\", \"Movie\", \"Movie\", \"Movie\", \"Movie\", \"Movie\", \"Movie\", \"Movie\", \"Movie\", \"Movie\", \"Movie\", \"Movie\", \"Movie\", \"Movie\", \"Movie\", \"Movie\", \"Movie\", \"Movie\", \"Movie\", \"Movie\", \"Movie\", \"Movie\", \"Movie\", \"Movie\", \"Movie\", \"Movie\", \"Movie\", \"Movie\", \"Movie\", \"Movie\", \"Movie\", \"Movie\", \"Movie\", \"Movie\", \"Movie\", \"Movie\", \"Movie\", \"Movie\", \"Movie\", \"Movie\", \"Movie\", \"Movie\", \"Movie\", \"Movie\", \"Movie\", \"Movie\", \"Movie\", \"Movie\", \"Movie\", \"Movie\", \"Movie\", \"Movie\", \"Movie\", \"Movie\", \"Movie\", \"Movie\", \"Movie\", \"Movie\", \"Movie\", \"Movie\", \"Movie\", \"Movie\", \"Movie\", \"Movie\", \"Movie\", \"Movie\", \"Movie\", \"Movie\", \"Movie\", \"Movie\", \"Movie\", \"Movie\", \"Movie\", \"Movie\", \"Movie\", \"Movie\", \"Movie\", \"Movie\", \"Movie\", \"Movie\", \"Movie\", \"Movie\", \"Movie\", \"Movie\", \"Movie\", \"Movie\", \"Movie\", \"Movie\", \"Movie\", \"Movie\", \"Movie\", \"Movie\", \"Movie\", \"Movie\", \"Movie\", \"Movie\", \"Movie\", \"TV Show\", \"Movie\", \"Movie\", \"Movie\", \"Movie\", \"Movie\", \"Movie\", \"Movie\", \"Movie\", \"Movie\", \"Movie\", \"Movie\", \"Movie\", \"Movie\", \"Movie\", \"Movie\", \"Movie\", \"Movie\", \"Movie\", \"Movie\", \"Movie\", \"Movie\", \"Movie\", \"Movie\", \"Movie\", \"Movie\", \"Movie\", \"Movie\", \"Movie\", \"TV Show\", \"Movie\", \"Movie\", \"Movie\", \"TV Show\", \"TV Show\", \"Movie\", \"Movie\", \"Movie\", \"Movie\", \"Movie\", \"Movie\", \"Movie\", \"Movie\", \"Movie\", \"Movie\", \"Movie\", \"Movie\", \"Movie\", \"Movie\", \"Movie\", \"Movie\", \"Movie\", \"Movie\", \"Movie\", \"Movie\", \"Movie\", \"Movie\", \"Movie\", \"Movie\", \"Movie\", \"Movie\", \"Movie\", \"Movie\", \"Movie\", \"Movie\", \"Movie\", \"Movie\", \"Movie\", \"Movie\", \"Movie\", \"Movie\", \"Movie\", \"Movie\", \"Movie\", \"Movie\", \"Movie\", \"Movie\", \"Movie\", \"Movie\", \"Movie\", \"Movie\", \"Movie\", \"Movie\", \"Movie\", \"Movie\", \"Movie\", \"Movie\", \"Movie\", \"TV Show\", \"TV Show\", \"Movie\", \"Movie\", \"Movie\", \"Movie\", \"Movie\", \"Movie\", \"Movie\", \"Movie\", \"TV Show\", \"Movie\", \"Movie\", \"Movie\", \"Movie\", \"Movie\", \"Movie\", \"Movie\", \"Movie\", \"Movie\", \"Movie\", \"Movie\", \"Movie\", \"Movie\", \"Movie\", \"Movie\", \"Movie\", \"Movie\", \"Movie\", \"Movie\", \"Movie\", \"Movie\", \"Movie\", \"Movie\", \"Movie\", \"Movie\", \"Movie\", \"Movie\", \"Movie\", \"Movie\", \"Movie\", \"TV Show\", \"Movie\", \"Movie\", \"Movie\", \"Movie\", \"Movie\", \"Movie\", \"Movie\", \"Movie\", \"Movie\", \"Movie\", \"Movie\", \"Movie\", \"Movie\", \"Movie\", \"Movie\", \"Movie\", \"Movie\", \"Movie\", \"Movie\", \"Movie\", \"TV Show\", \"Movie\", \"Movie\", \"Movie\", \"Movie\", \"Movie\", \"Movie\", \"Movie\", \"TV Show\", \"Movie\", \"Movie\", \"Movie\", \"Movie\", \"Movie\", \"Movie\", \"Movie\", \"Movie\", \"Movie\", \"Movie\", \"Movie\", \"Movie\", \"Movie\", \"Movie\", \"Movie\", \"Movie\", \"Movie\", \"Movie\", \"Movie\", \"Movie\", \"Movie\", \"Movie\", \"Movie\", \"Movie\", \"Movie\", \"Movie\", \"Movie\", \"Movie\", \"Movie\", \"Movie\", \"Movie\", \"Movie\", \"Movie\", \"Movie\", \"Movie\", \"Movie\", \"Movie\", \"Movie\", \"Movie\", \"Movie\", \"Movie\", \"Movie\", \"Movie\", \"Movie\", \"Movie\", \"Movie\", \"Movie\", \"Movie\", \"Movie\", \"Movie\", \"Movie\", \"Movie\", \"Movie\", \"Movie\", \"Movie\", \"Movie\", \"Movie\", \"Movie\", \"Movie\", \"Movie\", \"Movie\", \"Movie\", \"Movie\", \"Movie\", \"Movie\", \"Movie\", \"Movie\", \"Movie\", \"Movie\", \"Movie\", \"Movie\", \"Movie\", \"Movie\", \"Movie\", \"Movie\", \"Movie\", \"Movie\", \"Movie\", \"Movie\", \"Movie\", \"Movie\", \"Movie\", \"Movie\", \"Movie\", \"Movie\", \"Movie\", \"Movie\", \"Movie\", \"Movie\", \"Movie\", \"Movie\", \"Movie\", \"Movie\", \"Movie\", \"Movie\", \"Movie\", \"Movie\", \"Movie\", \"Movie\", \"Movie\", \"Movie\", \"Movie\", \"Movie\", \"Movie\", \"Movie\", \"Movie\", \"Movie\", \"Movie\", \"Movie\", \"Movie\", \"Movie\", \"Movie\", \"Movie\", \"Movie\", \"Movie\", \"Movie\", \"Movie\", \"Movie\", \"Movie\", \"Movie\", \"Movie\", \"Movie\", \"Movie\", \"Movie\", \"Movie\", \"Movie\", \"Movie\", \"Movie\", \"Movie\", \"Movie\", \"Movie\", \"Movie\", \"Movie\", \"Movie\", \"Movie\", \"Movie\", \"Movie\", \"Movie\", \"Movie\", \"Movie\", \"Movie\", \"Movie\", \"Movie\", \"Movie\", \"Movie\", \"Movie\", \"Movie\", \"Movie\", \"Movie\", \"Movie\", \"Movie\", \"Movie\", \"Movie\", \"Movie\", \"Movie\", \"Movie\", \"Movie\", \"Movie\", \"Movie\", \"Movie\", \"TV Show\", \"Movie\", \"Movie\", \"Movie\", \"Movie\", \"Movie\", \"Movie\", \"Movie\", \"Movie\", \"Movie\", \"Movie\", \"Movie\", \"Movie\", \"Movie\", \"Movie\", \"Movie\", \"Movie\", \"Movie\", \"Movie\", \"Movie\", \"Movie\", \"Movie\", \"Movie\", \"Movie\", \"Movie\", \"Movie\", \"Movie\", \"Movie\", \"Movie\", \"Movie\", \"Movie\", \"Movie\", \"Movie\", \"Movie\", \"Movie\", \"Movie\", \"Movie\", \"Movie\", \"Movie\", \"Movie\", \"Movie\", \"Movie\", \"Movie\", \"Movie\", \"TV Show\", \"Movie\", \"Movie\", \"Movie\", \"Movie\", \"Movie\", \"Movie\", \"Movie\", \"Movie\", \"Movie\", \"Movie\", \"Movie\", \"Movie\", \"Movie\", \"Movie\", \"Movie\", \"Movie\", \"Movie\", \"Movie\", \"Movie\", \"Movie\", \"Movie\", \"Movie\", \"Movie\", \"Movie\", \"Movie\", \"Movie\", \"Movie\", \"Movie\", \"Movie\", \"Movie\", \"Movie\", \"Movie\", \"Movie\", \"Movie\", \"Movie\", \"Movie\", \"TV Show\", \"Movie\", \"Movie\", \"Movie\", \"Movie\", \"Movie\", \"TV Show\", \"Movie\", \"Movie\", \"Movie\", \"TV Show\", \"Movie\", \"Movie\", \"Movie\", \"Movie\", \"Movie\", \"Movie\", \"Movie\", \"Movie\", \"Movie\", \"Movie\", \"Movie\", \"Movie\", \"Movie\", \"Movie\", \"Movie\", \"TV Show\", \"Movie\", \"Movie\", \"Movie\", \"Movie\", \"Movie\", \"Movie\", \"Movie\", \"Movie\", \"Movie\", \"Movie\", \"Movie\", \"Movie\", \"Movie\", \"Movie\", \"Movie\", \"Movie\", \"Movie\", \"Movie\", \"Movie\", \"Movie\", \"Movie\", \"Movie\", \"Movie\", \"Movie\", \"TV Show\", \"Movie\", \"Movie\", \"Movie\", \"Movie\", \"Movie\", \"Movie\", \"Movie\", \"Movie\", \"Movie\", \"Movie\", \"Movie\", \"Movie\", \"Movie\", \"Movie\", \"Movie\", \"Movie\", \"Movie\", \"Movie\", \"Movie\", \"Movie\", \"Movie\", \"Movie\", \"Movie\", \"Movie\", \"Movie\", \"Movie\", \"Movie\", \"Movie\", \"Movie\", \"Movie\", \"Movie\", \"Movie\", \"Movie\", \"Movie\", \"Movie\", \"Movie\", \"Movie\", \"Movie\", \"Movie\", \"Movie\", \"Movie\", \"Movie\", \"Movie\", \"Movie\", \"Movie\", \"Movie\", \"Movie\", \"Movie\", \"Movie\", \"Movie\", \"Movie\", \"Movie\", \"Movie\", \"Movie\", \"Movie\", \"Movie\", \"Movie\", \"Movie\", \"Movie\", \"Movie\", \"TV Show\", \"Movie\", \"Movie\", \"Movie\", \"Movie\", \"Movie\", \"Movie\", \"Movie\", \"Movie\", \"TV Show\", \"Movie\", \"Movie\", \"Movie\", \"Movie\", \"Movie\", \"TV Show\", \"Movie\", \"Movie\", \"Movie\", \"Movie\", \"Movie\", \"Movie\", \"Movie\", \"Movie\", \"Movie\", \"Movie\", \"Movie\", \"Movie\", \"Movie\", \"Movie\", \"Movie\", \"Movie\", \"Movie\", \"Movie\", \"Movie\", \"Movie\", \"TV Show\", \"Movie\", \"Movie\", \"Movie\", \"Movie\", \"Movie\", \"Movie\", \"Movie\", \"Movie\", \"Movie\", \"Movie\", \"TV Show\", \"Movie\", \"Movie\", \"Movie\", \"Movie\", \"Movie\", \"Movie\", \"Movie\", \"Movie\", \"Movie\", \"Movie\", \"Movie\", \"Movie\", \"TV Show\", \"Movie\", \"Movie\", \"Movie\", \"Movie\", \"Movie\", \"Movie\", \"Movie\", \"Movie\", \"Movie\", \"Movie\", \"Movie\", \"Movie\", \"Movie\", \"Movie\", \"Movie\", \"Movie\", \"Movie\", \"Movie\", \"Movie\", \"TV Show\", \"Movie\", \"Movie\", \"Movie\", \"Movie\", \"Movie\", \"Movie\", \"Movie\", \"Movie\", \"Movie\", \"Movie\", \"Movie\", \"Movie\", \"Movie\", \"TV Show\", \"Movie\", \"Movie\", \"Movie\", \"TV Show\", \"Movie\", \"Movie\", \"Movie\", \"Movie\", \"Movie\", \"Movie\", \"Movie\", \"Movie\", \"Movie\", \"Movie\", \"TV Show\", \"Movie\", \"Movie\", \"TV Show\", \"Movie\", \"Movie\", \"Movie\", \"Movie\", \"Movie\", \"Movie\", \"Movie\", \"Movie\", \"Movie\", \"TV Show\", \"Movie\", \"Movie\", \"Movie\", \"Movie\", \"Movie\", \"Movie\", \"Movie\", \"Movie\", \"Movie\", \"Movie\", \"Movie\", \"Movie\", \"Movie\", \"Movie\", \"Movie\", \"Movie\", \"Movie\", \"Movie\", \"Movie\", \"Movie\", \"TV Show\", \"Movie\", \"Movie\", \"Movie\", \"Movie\", \"Movie\", \"Movie\", \"Movie\", \"Movie\", \"Movie\", \"Movie\", \"Movie\", \"Movie\", \"Movie\", \"Movie\", \"Movie\", \"Movie\", \"Movie\", \"Movie\", \"Movie\", \"Movie\", \"Movie\", \"Movie\", \"Movie\", \"Movie\", \"Movie\", \"Movie\", \"Movie\", \"Movie\", \"Movie\", \"Movie\", \"Movie\", \"Movie\", \"Movie\", \"Movie\", \"Movie\", \"Movie\", \"Movie\", \"Movie\", \"Movie\", \"Movie\", \"Movie\", \"Movie\", \"Movie\", \"Movie\", \"Movie\", \"Movie\", \"Movie\", \"Movie\", \"Movie\", \"Movie\", \"Movie\", \"Movie\", \"Movie\", \"Movie\", \"Movie\", \"Movie\", \"Movie\", \"Movie\", \"Movie\", \"Movie\", \"Movie\", \"Movie\", \"Movie\", \"Movie\", \"Movie\", \"Movie\", \"Movie\", \"Movie\", \"Movie\", \"Movie\", \"Movie\", \"Movie\", \"Movie\", \"Movie\", \"Movie\", \"Movie\", \"Movie\", \"Movie\", \"Movie\", \"Movie\", \"Movie\", \"Movie\", \"Movie\", \"Movie\", \"Movie\", \"Movie\", \"Movie\", \"Movie\", \"Movie\", \"Movie\", \"Movie\", \"Movie\", \"Movie\", \"Movie\", \"Movie\", \"Movie\", \"Movie\", \"Movie\", \"Movie\", \"Movie\", \"Movie\", \"Movie\", \"Movie\", \"Movie\", \"Movie\", \"Movie\", \"Movie\", \"Movie\", \"Movie\", \"Movie\", \"Movie\", \"Movie\", \"Movie\", \"Movie\", \"Movie\", \"TV Show\", \"Movie\", \"Movie\", \"Movie\", \"Movie\", \"Movie\", \"Movie\", \"Movie\", \"Movie\", \"Movie\", \"Movie\", \"Movie\", \"Movie\", \"Movie\", \"Movie\", \"Movie\", \"Movie\", \"Movie\", \"Movie\", \"Movie\", \"Movie\", \"Movie\", \"Movie\", \"Movie\", \"Movie\", \"Movie\", \"Movie\", \"Movie\", \"Movie\", \"Movie\", \"Movie\", \"Movie\", \"Movie\", \"TV Show\", \"Movie\", \"TV Show\", \"Movie\", \"Movie\", \"Movie\", \"Movie\", \"Movie\", \"Movie\", \"Movie\", \"Movie\", \"Movie\", \"Movie\", \"Movie\", \"Movie\", \"Movie\", \"Movie\", \"Movie\", \"Movie\", \"Movie\", \"Movie\", \"Movie\", \"Movie\", \"Movie\", \"Movie\", \"Movie\", \"Movie\", \"Movie\", \"Movie\", \"Movie\", \"Movie\", \"Movie\", \"Movie\", \"Movie\", \"Movie\", \"Movie\", \"Movie\", \"Movie\", \"Movie\", \"Movie\", \"Movie\", \"Movie\", \"Movie\", \"Movie\", \"Movie\", \"Movie\", \"Movie\", \"Movie\", \"Movie\", \"Movie\", \"Movie\", \"Movie\", \"Movie\", \"Movie\", \"Movie\", \"Movie\", \"Movie\", \"Movie\", \"Movie\", \"Movie\", \"Movie\", \"Movie\", \"Movie\", \"Movie\", \"Movie\", \"Movie\", \"Movie\", \"Movie\", \"Movie\", \"Movie\", \"Movie\", \"Movie\", \"Movie\", \"Movie\", \"Movie\", \"Movie\", \"Movie\", \"Movie\", \"Movie\", \"Movie\", \"Movie\", \"Movie\", \"Movie\", \"Movie\", \"Movie\", \"Movie\", \"Movie\", \"Movie\", \"Movie\", \"Movie\", \"Movie\", \"Movie\", \"Movie\", \"Movie\", \"Movie\", \"Movie\", \"Movie\", \"Movie\", \"Movie\", \"Movie\", \"Movie\", \"Movie\", \"Movie\", \"Movie\", \"Movie\", \"Movie\", \"Movie\", \"Movie\", \"Movie\", \"Movie\", \"Movie\", \"Movie\", \"Movie\", \"Movie\", \"Movie\", \"Movie\", \"Movie\", \"Movie\", \"Movie\", \"Movie\", \"Movie\", \"Movie\", \"Movie\", \"Movie\", \"Movie\", \"Movie\", \"Movie\", \"Movie\", \"Movie\", \"Movie\", \"Movie\", \"Movie\", \"Movie\", \"Movie\", \"Movie\", \"Movie\", \"Movie\", \"Movie\", \"Movie\", \"Movie\", \"Movie\", \"Movie\", \"Movie\", \"Movie\", \"Movie\", \"Movie\", \"Movie\", \"Movie\", \"Movie\", \"Movie\", \"Movie\", \"Movie\", \"Movie\", \"Movie\", \"Movie\", \"Movie\", \"Movie\", \"Movie\", \"Movie\", \"Movie\", \"TV Show\", \"Movie\", \"Movie\", \"Movie\", \"TV Show\", \"Movie\", \"Movie\", \"Movie\", \"Movie\", \"Movie\", \"Movie\", \"Movie\", \"Movie\", \"Movie\", \"Movie\", \"Movie\", \"Movie\", \"Movie\", \"Movie\", \"Movie\", \"Movie\", \"Movie\", \"Movie\", \"Movie\", \"Movie\", \"Movie\", \"Movie\", \"Movie\", \"Movie\", \"Movie\", \"Movie\", \"Movie\", \"Movie\", \"Movie\", \"Movie\", \"Movie\", \"Movie\", \"Movie\", \"Movie\", \"Movie\", \"Movie\", \"Movie\", \"Movie\", \"Movie\", \"Movie\", \"Movie\", \"Movie\", \"Movie\", \"Movie\", \"Movie\", \"Movie\", \"Movie\", \"Movie\", \"Movie\", \"Movie\", \"Movie\", \"Movie\", \"Movie\", \"TV Show\", \"Movie\", \"Movie\", \"Movie\", \"Movie\", \"Movie\", \"Movie\", \"Movie\", \"Movie\", \"Movie\", \"Movie\", \"Movie\", \"Movie\", \"Movie\", \"Movie\", \"Movie\", \"Movie\", \"TV Show\", \"TV Show\", \"Movie\", \"Movie\", \"Movie\", \"Movie\", \"Movie\", \"Movie\", \"Movie\", \"Movie\", \"Movie\", \"Movie\", \"Movie\", \"Movie\", \"Movie\", \"Movie\", \"Movie\", \"Movie\", \"Movie\", \"Movie\", \"Movie\", \"Movie\", \"Movie\", \"Movie\", \"Movie\", \"Movie\", \"Movie\", \"Movie\", \"Movie\", \"Movie\", \"Movie\", \"Movie\", \"Movie\", \"Movie\", \"Movie\", \"Movie\", \"Movie\", \"Movie\", \"Movie\", \"Movie\", \"Movie\", \"Movie\", \"Movie\", \"Movie\", \"Movie\", \"Movie\", \"Movie\", \"Movie\", \"Movie\", \"Movie\", \"Movie\", \"Movie\", \"Movie\", \"Movie\", \"Movie\", \"Movie\", \"Movie\", \"Movie\", \"Movie\", \"Movie\", \"Movie\", \"Movie\", \"Movie\", \"Movie\", \"Movie\", \"Movie\", \"Movie\", \"Movie\", \"Movie\", \"Movie\", \"Movie\", \"Movie\", \"Movie\", \"Movie\", \"Movie\", \"Movie\", \"Movie\", \"Movie\", \"Movie\", \"Movie\", \"TV Show\", \"Movie\", \"Movie\", \"Movie\", \"Movie\", \"Movie\", \"Movie\", \"Movie\", \"Movie\", \"Movie\", \"Movie\", \"Movie\", \"Movie\", \"TV Show\", \"Movie\", \"Movie\", \"Movie\", \"Movie\", \"Movie\", \"Movie\", \"Movie\", \"Movie\", \"Movie\", \"Movie\", \"Movie\", \"Movie\", \"Movie\", \"Movie\", \"Movie\", \"Movie\", \"Movie\", \"Movie\", \"Movie\", \"Movie\", \"Movie\", \"Movie\", \"Movie\", \"Movie\", \"Movie\", \"Movie\", \"Movie\", \"Movie\", \"Movie\", \"Movie\", \"Movie\", \"Movie\", \"Movie\", \"Movie\", \"Movie\", \"Movie\", \"Movie\", \"Movie\", \"Movie\", \"Movie\", \"Movie\", \"Movie\", \"Movie\", \"Movie\", \"Movie\", \"Movie\", \"Movie\", \"Movie\", \"Movie\", \"Movie\", \"Movie\", \"Movie\", \"Movie\", \"Movie\", \"Movie\", \"Movie\", \"Movie\", \"Movie\", \"Movie\", \"Movie\", \"Movie\", \"Movie\", \"Movie\", \"Movie\", \"Movie\", \"Movie\", \"Movie\", \"Movie\", \"Movie\", \"Movie\", \"TV Show\", \"Movie\", \"Movie\", \"Movie\", \"Movie\", \"Movie\", \"Movie\", \"Movie\", \"Movie\", \"Movie\", \"Movie\", \"Movie\", \"Movie\", \"Movie\", \"Movie\", \"Movie\", \"Movie\", \"Movie\", \"Movie\", \"Movie\", \"Movie\", \"Movie\", \"Movie\", \"Movie\", \"Movie\", \"Movie\", \"Movie\", \"Movie\", \"Movie\", \"Movie\", \"Movie\", \"Movie\", \"Movie\", \"Movie\", \"Movie\", \"Movie\", \"Movie\", \"Movie\", \"Movie\", \"Movie\", \"Movie\", \"Movie\", \"Movie\", \"Movie\", \"Movie\", \"Movie\", \"Movie\", \"Movie\", \"Movie\", \"Movie\", \"Movie\", \"Movie\", \"Movie\", \"Movie\", \"Movie\", \"Movie\", \"Movie\", \"Movie\", \"Movie\", \"Movie\", \"Movie\", \"Movie\", \"Movie\", \"Movie\", \"Movie\", \"Movie\", \"Movie\", \"Movie\", \"Movie\", \"Movie\", \"Movie\", \"Movie\", \"Movie\", \"Movie\", \"Movie\", \"Movie\", \"Movie\", \"Movie\", \"Movie\", \"Movie\", \"Movie\", \"Movie\", \"Movie\", \"Movie\", \"Movie\", \"Movie\", \"Movie\", \"Movie\", \"Movie\", \"Movie\", \"Movie\", \"Movie\", \"Movie\", \"Movie\", \"Movie\", \"Movie\", \"Movie\", \"TV Show\", \"Movie\", \"Movie\", \"Movie\", \"Movie\", \"Movie\", \"Movie\", \"Movie\", \"Movie\", \"Movie\", \"Movie\", \"Movie\", \"Movie\", \"Movie\", \"Movie\", \"TV Show\", \"Movie\", \"Movie\", \"Movie\", \"Movie\", \"Movie\", \"Movie\", \"Movie\", \"Movie\", \"Movie\", \"Movie\", \"Movie\", \"Movie\", \"Movie\", \"Movie\", \"Movie\", \"Movie\", \"Movie\", \"Movie\", \"Movie\", \"Movie\", \"Movie\", \"Movie\", \"TV Show\", \"Movie\", \"Movie\", \"Movie\", \"Movie\", \"Movie\", \"Movie\", \"Movie\", \"Movie\", \"Movie\", \"Movie\", \"Movie\", \"Movie\", \"Movie\", \"Movie\", \"Movie\", \"Movie\", \"Movie\", \"Movie\", \"Movie\", \"Movie\", \"Movie\", \"Movie\", \"Movie\", \"TV Show\", \"Movie\", \"Movie\", \"Movie\", \"Movie\", \"Movie\", \"Movie\", \"Movie\", \"Movie\", \"Movie\", \"Movie\", \"Movie\", \"Movie\", \"Movie\", \"TV Show\", \"Movie\", \"Movie\", \"Movie\", \"Movie\", \"Movie\", \"Movie\", \"Movie\", \"Movie\", \"Movie\", \"Movie\", \"Movie\", \"Movie\", \"Movie\", \"Movie\", \"Movie\", \"Movie\", \"Movie\", \"Movie\", \"Movie\", \"Movie\", \"Movie\", \"Movie\", \"Movie\", \"Movie\", \"Movie\", \"Movie\", \"Movie\", \"Movie\", \"Movie\", \"Movie\", \"Movie\", \"Movie\", \"Movie\", \"Movie\", \"Movie\", \"Movie\", \"Movie\", \"Movie\", \"Movie\", \"Movie\", \"Movie\", \"Movie\", \"Movie\", \"Movie\", \"Movie\", \"Movie\", \"Movie\", \"Movie\", \"Movie\", \"Movie\", \"Movie\", \"Movie\", \"Movie\", \"Movie\", \"Movie\", \"Movie\", \"Movie\", \"TV Show\", \"Movie\", \"Movie\", \"Movie\", \"Movie\", \"Movie\", \"Movie\", \"Movie\", \"Movie\", \"Movie\", \"Movie\", \"Movie\", \"Movie\", \"Movie\", \"Movie\", \"Movie\", \"Movie\", \"Movie\", \"Movie\", \"Movie\", \"Movie\", \"Movie\", \"Movie\", \"Movie\", \"Movie\", \"Movie\", \"Movie\", \"Movie\", \"Movie\", \"Movie\", \"Movie\", \"Movie\", \"Movie\", \"Movie\", \"Movie\", \"Movie\", \"Movie\", \"Movie\", \"Movie\", \"Movie\", \"Movie\", \"Movie\", \"Movie\", \"Movie\", \"Movie\", \"Movie\", \"Movie\", \"Movie\", \"Movie\", \"Movie\", \"Movie\", \"Movie\", \"Movie\", \"Movie\", \"Movie\", \"Movie\", \"Movie\", \"Movie\", \"Movie\", \"Movie\", \"Movie\", \"Movie\", \"Movie\", \"Movie\", \"Movie\", \"Movie\", \"Movie\", \"Movie\", \"Movie\", \"Movie\", \"Movie\", \"Movie\", \"Movie\", \"Movie\", \"Movie\", \"Movie\", \"Movie\", \"Movie\", \"Movie\", \"Movie\", \"Movie\", \"Movie\", \"Movie\", \"Movie\", \"Movie\", \"Movie\", \"Movie\", \"Movie\", \"TV Show\", \"Movie\", \"Movie\", \"Movie\", \"Movie\", \"Movie\", \"Movie\", \"Movie\", \"Movie\", \"Movie\", \"Movie\", \"Movie\", \"Movie\", \"Movie\", \"Movie\", \"Movie\", \"Movie\", \"Movie\", \"Movie\", \"Movie\", \"Movie\", \"Movie\", \"Movie\", \"Movie\", \"Movie\", \"Movie\", \"Movie\", \"Movie\", \"TV Show\", \"Movie\", \"Movie\", \"Movie\", \"Movie\", \"Movie\", \"Movie\", \"Movie\", \"Movie\", \"Movie\", \"Movie\", \"Movie\", \"Movie\", \"Movie\", \"Movie\", \"Movie\", \"Movie\", \"Movie\", \"Movie\", \"Movie\", \"Movie\", \"Movie\", \"Movie\", \"Movie\", \"Movie\", \"Movie\", \"Movie\", \"Movie\", \"Movie\", \"Movie\", \"Movie\", \"Movie\", \"Movie\", \"Movie\", \"Movie\", \"Movie\", \"Movie\", \"Movie\", \"Movie\", \"Movie\", \"TV Show\", \"Movie\", \"Movie\", \"Movie\", \"Movie\", \"Movie\", \"Movie\", \"Movie\", \"Movie\", \"Movie\", \"Movie\", \"Movie\", \"Movie\", \"Movie\", \"Movie\", \"Movie\", \"Movie\", \"Movie\", \"Movie\", \"Movie\", \"Movie\", \"Movie\", \"Movie\", \"Movie\", \"Movie\", \"Movie\", \"Movie\", \"Movie\", \"Movie\", \"Movie\", \"Movie\", \"Movie\", \"Movie\", \"Movie\", \"Movie\", \"Movie\", \"Movie\", \"Movie\", \"Movie\", \"Movie\", \"Movie\", \"Movie\", \"Movie\", \"Movie\", \"Movie\", \"Movie\", \"Movie\", \"Movie\", \"Movie\", \"TV Show\", \"Movie\", \"Movie\", \"Movie\", \"Movie\", \"Movie\", \"Movie\", \"Movie\", \"Movie\", \"Movie\", \"Movie\", \"TV Show\", \"Movie\", \"Movie\", \"Movie\", \"Movie\", \"Movie\", \"TV Show\", \"Movie\", \"Movie\", \"Movie\", \"Movie\", \"Movie\", \"Movie\", \"Movie\", \"Movie\", \"Movie\", \"Movie\", \"Movie\", \"Movie\", \"Movie\", \"Movie\", \"TV Show\", \"Movie\", \"Movie\", \"Movie\", \"Movie\", \"Movie\", \"Movie\", \"Movie\", \"Movie\", \"Movie\", \"Movie\", \"Movie\", \"Movie\", \"Movie\", \"Movie\", \"Movie\", \"Movie\", \"Movie\", \"Movie\", \"Movie\", \"Movie\", \"Movie\", \"Movie\", \"TV Show\", \"Movie\", \"Movie\", \"Movie\", \"Movie\", \"Movie\", \"Movie\", \"Movie\", \"Movie\", \"Movie\", \"Movie\", \"Movie\", \"Movie\", \"Movie\", \"Movie\", \"Movie\", \"Movie\", \"Movie\", \"Movie\", \"Movie\", \"Movie\", \"Movie\", \"Movie\", \"Movie\", \"Movie\", \"Movie\", \"Movie\", \"Movie\", \"Movie\", \"Movie\", \"Movie\", \"Movie\", \"Movie\", \"Movie\", \"Movie\", \"Movie\", \"Movie\", \"Movie\", \"Movie\", \"Movie\", \"Movie\", \"Movie\", \"Movie\", \"Movie\", \"Movie\", \"Movie\", \"Movie\", \"Movie\", \"Movie\", \"Movie\", \"Movie\", \"Movie\", \"Movie\", \"Movie\", \"Movie\", \"Movie\", \"Movie\", \"Movie\", \"Movie\", \"Movie\", \"Movie\", \"Movie\", \"Movie\", \"Movie\", \"Movie\", \"Movie\", \"Movie\", \"Movie\", \"Movie\", \"Movie\", \"Movie\", \"Movie\", \"Movie\", \"Movie\", \"Movie\", \"Movie\", \"Movie\", \"Movie\", \"Movie\", \"Movie\", \"Movie\", \"Movie\", \"Movie\", \"Movie\", \"Movie\", \"Movie\", \"Movie\", \"Movie\", \"Movie\", \"Movie\", \"Movie\", \"TV Show\", \"Movie\", \"Movie\", \"Movie\", \"Movie\", \"Movie\", \"Movie\", \"Movie\", \"Movie\", \"Movie\", \"Movie\", \"Movie\", \"Movie\", \"Movie\", \"Movie\", \"Movie\", \"Movie\", \"Movie\", \"Movie\", \"Movie\", \"Movie\", \"Movie\", \"Movie\", \"Movie\", \"Movie\", \"Movie\", \"Movie\", \"Movie\", \"Movie\", \"Movie\", \"Movie\", \"Movie\", \"Movie\", \"Movie\", \"Movie\", \"Movie\", \"Movie\", \"Movie\", \"Movie\", \"Movie\", \"Movie\", \"Movie\", \"Movie\", \"Movie\", \"Movie\", \"Movie\", \"Movie\", \"Movie\", \"Movie\", \"Movie\", \"Movie\", \"Movie\", \"Movie\", \"Movie\", \"Movie\", \"Movie\", \"Movie\", \"Movie\", \"Movie\", \"Movie\", \"Movie\", \"Movie\", \"Movie\", \"Movie\", \"Movie\", \"Movie\", \"Movie\", \"Movie\", \"Movie\", \"Movie\", \"Movie\", \"Movie\", \"Movie\", \"Movie\", \"Movie\", \"Movie\", \"Movie\", \"Movie\", \"Movie\", \"Movie\", \"Movie\", \"Movie\", \"Movie\", \"TV Show\", \"Movie\", \"Movie\", \"Movie\", \"Movie\", \"Movie\", \"Movie\", \"Movie\", \"Movie\", \"Movie\", \"Movie\", \"Movie\", \"Movie\", \"TV Show\", \"Movie\", \"Movie\", \"Movie\", \"Movie\", \"Movie\", \"Movie\", \"Movie\", \"Movie\", \"Movie\", \"Movie\", \"Movie\", \"Movie\", \"Movie\", \"Movie\", \"Movie\", \"Movie\", \"Movie\", \"Movie\", \"Movie\", \"Movie\", \"Movie\", \"Movie\", \"Movie\", \"Movie\", \"Movie\", \"Movie\", \"Movie\", \"Movie\", \"Movie\", \"Movie\", \"Movie\", \"Movie\", \"Movie\", \"Movie\", \"Movie\", \"Movie\", \"Movie\", \"Movie\", \"Movie\", \"Movie\", \"Movie\", \"Movie\", \"Movie\", \"Movie\", \"Movie\", \"Movie\", \"Movie\", \"Movie\", \"Movie\", \"Movie\", \"Movie\", \"Movie\", \"Movie\", \"Movie\", \"Movie\", \"Movie\", \"Movie\", \"Movie\", \"Movie\", \"Movie\", \"Movie\", \"Movie\", \"Movie\", \"Movie\", \"Movie\", \"Movie\", \"Movie\", \"Movie\", \"Movie\", \"Movie\", \"Movie\", \"Movie\", \"Movie\", \"Movie\", \"Movie\", \"Movie\", \"Movie\", \"Movie\", \"Movie\", \"Movie\", \"Movie\", \"Movie\", \"Movie\", \"Movie\", \"Movie\", \"Movie\", \"Movie\", \"Movie\", \"Movie\", \"Movie\", \"Movie\", \"TV Show\", \"Movie\", \"Movie\", \"Movie\", \"Movie\", \"Movie\", \"Movie\", \"Movie\", \"Movie\", \"Movie\", \"Movie\", \"Movie\", \"Movie\", \"Movie\", \"Movie\", \"Movie\", \"Movie\", \"Movie\", \"TV Show\", \"Movie\", \"Movie\", \"Movie\", \"Movie\", \"Movie\", \"Movie\", \"Movie\", \"Movie\", \"Movie\", \"Movie\", \"Movie\", \"Movie\", \"TV Show\", \"TV Show\", \"Movie\", \"Movie\", \"Movie\", \"Movie\", \"Movie\", \"Movie\", \"Movie\", \"TV Show\", \"Movie\", \"Movie\", \"Movie\", \"Movie\", \"Movie\", \"Movie\", \"Movie\", \"Movie\", \"Movie\", \"Movie\", \"Movie\", \"Movie\", \"Movie\", \"Movie\", \"Movie\", \"Movie\", \"Movie\", \"Movie\", \"Movie\", \"Movie\", \"Movie\", \"Movie\", \"Movie\", \"Movie\", \"Movie\", \"Movie\", \"Movie\", \"Movie\", \"Movie\", \"Movie\", \"Movie\", \"Movie\", \"Movie\", \"Movie\", \"Movie\", \"Movie\", \"Movie\", \"Movie\", \"Movie\", \"Movie\", \"Movie\", \"Movie\", \"Movie\", \"Movie\", \"Movie\", \"Movie\", \"Movie\", \"Movie\", \"Movie\", \"Movie\", \"Movie\", \"Movie\", \"Movie\", \"Movie\", \"Movie\", \"TV Show\", \"Movie\", \"Movie\", \"Movie\", \"Movie\", \"Movie\", \"Movie\", \"Movie\", \"Movie\", \"Movie\", \"Movie\", \"Movie\", \"Movie\", \"Movie\", \"Movie\", \"TV Show\", \"Movie\", \"Movie\", \"Movie\", \"Movie\", \"Movie\", \"Movie\", \"Movie\", \"Movie\", \"Movie\", \"Movie\", \"Movie\", \"Movie\", \"Movie\", \"Movie\", \"Movie\", \"Movie\", \"Movie\", \"Movie\", \"Movie\", \"Movie\", \"Movie\", \"Movie\", \"Movie\", \"Movie\", \"Movie\", \"Movie\", \"Movie\", \"Movie\", \"Movie\", \"Movie\", \"Movie\", \"Movie\", \"Movie\", \"Movie\", \"Movie\", \"Movie\", \"Movie\", \"Movie\", \"Movie\", \"Movie\", \"Movie\", \"Movie\", \"Movie\", \"TV Show\", \"Movie\", \"Movie\", \"Movie\", \"Movie\", \"Movie\", \"Movie\", \"Movie\", \"Movie\", \"Movie\", \"Movie\", \"Movie\", \"Movie\", \"Movie\", \"Movie\", \"Movie\", \"Movie\", \"Movie\", \"Movie\", \"Movie\", \"Movie\", \"Movie\", \"Movie\", \"TV Show\", \"Movie\", \"Movie\", \"Movie\", \"Movie\", \"Movie\", \"Movie\", \"Movie\", \"Movie\", \"Movie\", \"Movie\", \"Movie\", \"Movie\", \"Movie\", \"Movie\", \"Movie\", \"Movie\", \"Movie\", \"Movie\", \"Movie\", \"Movie\", \"Movie\", \"Movie\", \"Movie\", \"Movie\", \"Movie\", \"TV Show\", \"Movie\", \"Movie\", \"Movie\", \"Movie\", \"Movie\", \"Movie\", \"Movie\", \"Movie\", \"Movie\", \"Movie\", \"TV Show\", \"Movie\", \"Movie\", \"Movie\", \"Movie\", \"Movie\", \"Movie\", \"Movie\", \"Movie\", \"Movie\", \"Movie\", \"Movie\", \"Movie\", \"Movie\", \"Movie\", \"Movie\", \"Movie\", \"Movie\", \"Movie\", \"Movie\", \"Movie\", \"Movie\", \"Movie\", \"Movie\", \"Movie\", \"Movie\", \"Movie\", \"Movie\", \"Movie\", \"Movie\", \"Movie\", \"Movie\", \"Movie\", \"Movie\", \"Movie\", \"Movie\", \"Movie\", \"Movie\", \"Movie\", \"Movie\", \"Movie\", \"Movie\", \"Movie\", \"Movie\", \"Movie\", \"Movie\", \"Movie\", \"Movie\", \"Movie\", \"Movie\", \"Movie\", \"Movie\", \"Movie\", \"Movie\", \"Movie\", \"Movie\", \"Movie\", \"Movie\", \"Movie\", \"Movie\", \"Movie\", \"Movie\", \"Movie\", \"Movie\", \"Movie\", \"Movie\", \"Movie\", \"Movie\", \"Movie\", \"Movie\", \"Movie\", \"Movie\", \"Movie\", \"Movie\", \"Movie\", \"Movie\", \"Movie\", \"Movie\", \"Movie\", \"Movie\", \"Movie\", \"Movie\", \"Movie\", \"Movie\", \"Movie\", \"Movie\", \"Movie\", \"Movie\", \"Movie\", \"Movie\", \"Movie\", \"Movie\", \"Movie\", \"Movie\", \"Movie\", \"Movie\", \"Movie\", \"Movie\", \"Movie\", \"Movie\", \"Movie\", \"Movie\", \"Movie\", \"Movie\", \"Movie\", \"Movie\", \"Movie\", \"Movie\", \"Movie\", \"Movie\", \"Movie\", \"Movie\", \"Movie\", \"Movie\", \"Movie\", \"Movie\", \"Movie\", \"Movie\", \"Movie\", \"Movie\", \"Movie\", \"Movie\", \"Movie\", \"Movie\", \"Movie\", \"Movie\", \"Movie\", \"Movie\", \"Movie\", \"Movie\", \"Movie\", \"Movie\", \"Movie\", \"Movie\", \"Movie\", \"Movie\", \"Movie\", \"Movie\", \"Movie\", \"Movie\", \"Movie\", \"Movie\", \"Movie\", \"Movie\", \"Movie\", \"Movie\", \"Movie\", \"Movie\", \"Movie\", \"Movie\", \"Movie\", \"Movie\", \"Movie\", \"Movie\", \"Movie\", \"TV Show\", \"TV Show\", \"Movie\", \"Movie\", \"Movie\", \"Movie\", \"Movie\", \"Movie\", \"Movie\", \"Movie\", \"Movie\", \"Movie\", \"Movie\", \"Movie\", \"Movie\", \"TV Show\", \"Movie\", \"Movie\", \"Movie\", \"Movie\", \"Movie\", \"Movie\", \"Movie\", \"Movie\", \"Movie\", \"Movie\", \"Movie\", \"Movie\", \"Movie\", \"Movie\", \"Movie\", \"Movie\", \"Movie\", \"Movie\", \"Movie\", \"Movie\", \"Movie\", \"Movie\", \"Movie\", \"Movie\", \"TV Show\", \"Movie\", \"Movie\", \"Movie\", \"Movie\", \"Movie\", \"Movie\", \"Movie\", \"Movie\", \"Movie\", \"Movie\", \"Movie\", \"Movie\", \"Movie\", \"Movie\", \"Movie\", \"Movie\", \"Movie\", \"Movie\", \"Movie\", \"Movie\", \"Movie\", \"Movie\", \"Movie\", \"Movie\", \"Movie\", \"Movie\", \"Movie\", \"Movie\", \"Movie\", \"Movie\", \"Movie\", \"Movie\", \"Movie\", \"Movie\", \"Movie\", \"Movie\", \"Movie\", \"Movie\", \"Movie\", \"Movie\", \"Movie\", \"Movie\", \"Movie\", \"Movie\", \"Movie\", \"Movie\", \"TV Show\", \"Movie\", \"Movie\", \"Movie\", \"Movie\", \"Movie\", \"Movie\", \"Movie\", \"Movie\", \"Movie\", \"Movie\", \"Movie\", \"Movie\", \"Movie\", \"Movie\", \"Movie\", \"Movie\", \"Movie\", \"Movie\", \"Movie\", \"Movie\", \"Movie\", \"Movie\", \"Movie\", \"Movie\", \"Movie\", \"Movie\", \"Movie\", \"Movie\", \"TV Show\", \"Movie\", \"Movie\", \"Movie\", \"TV Show\", \"Movie\", \"Movie\", \"Movie\", \"Movie\", \"Movie\", \"Movie\", \"Movie\", \"Movie\", \"Movie\", \"Movie\", \"Movie\", \"Movie\", \"Movie\", \"Movie\", \"Movie\", \"Movie\", \"Movie\", \"Movie\", \"Movie\", \"Movie\", \"Movie\", \"Movie\", \"Movie\", \"Movie\", \"Movie\", \"Movie\", \"Movie\", \"Movie\", \"Movie\", \"Movie\", \"Movie\", \"Movie\", \"Movie\", \"Movie\", \"Movie\", \"Movie\", \"Movie\", \"Movie\", \"Movie\", \"Movie\", \"Movie\", \"Movie\", \"Movie\", \"Movie\", \"Movie\", \"Movie\", \"Movie\", \"Movie\", \"Movie\", \"Movie\", \"Movie\", \"Movie\", \"Movie\", \"Movie\", \"Movie\", \"Movie\", \"Movie\", \"Movie\", \"Movie\", \"Movie\", \"Movie\", \"Movie\", \"Movie\", \"Movie\", \"Movie\", \"Movie\", \"Movie\", \"Movie\", \"Movie\", \"Movie\", \"Movie\", \"Movie\", \"TV Show\", \"TV Show\", \"Movie\", \"Movie\", \"Movie\", \"Movie\", \"Movie\", \"Movie\", \"Movie\", \"Movie\", \"Movie\", \"Movie\", \"Movie\", \"Movie\", \"Movie\", \"Movie\", \"Movie\", \"Movie\", \"Movie\", \"Movie\", \"Movie\", \"Movie\", \"Movie\", \"Movie\", \"Movie\", \"Movie\", \"Movie\", \"Movie\", \"Movie\", \"Movie\", \"Movie\", \"Movie\", \"Movie\", \"Movie\", \"Movie\", \"Movie\", \"Movie\", \"Movie\", \"Movie\", \"Movie\", \"Movie\", \"Movie\", \"Movie\", \"Movie\", \"Movie\", \"Movie\", \"Movie\", \"Movie\", \"Movie\", \"Movie\", \"Movie\", \"Movie\", \"Movie\", \"Movie\", \"Movie\", \"Movie\", \"Movie\", \"Movie\", \"Movie\", \"Movie\", \"Movie\", \"Movie\", \"Movie\", \"Movie\", \"Movie\", \"Movie\", \"Movie\", \"Movie\", \"Movie\", \"Movie\", \"Movie\", \"Movie\", \"Movie\", \"Movie\", \"Movie\", \"Movie\", \"Movie\", \"Movie\", \"Movie\", \"Movie\", \"Movie\", \"Movie\", \"Movie\", \"Movie\", \"Movie\", \"Movie\", \"Movie\", \"Movie\", \"Movie\", \"Movie\", \"Movie\", \"Movie\", \"Movie\", \"Movie\", \"Movie\", \"Movie\", \"Movie\", \"Movie\", \"Movie\", \"Movie\", \"Movie\", \"Movie\", \"Movie\", \"Movie\", \"Movie\", \"Movie\", \"Movie\", \"Movie\", \"Movie\", \"Movie\", \"Movie\", \"Movie\", \"Movie\", \"Movie\", \"Movie\", \"Movie\", \"Movie\", \"Movie\", \"Movie\", \"Movie\", \"Movie\", \"Movie\", \"Movie\", \"Movie\", \"Movie\", \"Movie\", \"Movie\", \"Movie\", \"Movie\", \"Movie\", \"Movie\", \"Movie\", \"Movie\", \"Movie\", \"Movie\", \"Movie\", \"Movie\", \"Movie\", \"TV Show\", \"Movie\", \"Movie\", \"Movie\", \"Movie\", \"Movie\", \"Movie\", \"Movie\", \"Movie\", \"Movie\", \"Movie\", \"TV Show\", \"TV Show\", \"Movie\", \"Movie\", \"Movie\", \"Movie\", \"Movie\", \"Movie\", \"Movie\", \"Movie\", \"Movie\", \"Movie\", \"Movie\", \"Movie\", \"Movie\", \"Movie\", \"Movie\", \"Movie\", \"Movie\", \"Movie\", \"Movie\", \"Movie\", \"Movie\", \"Movie\", \"Movie\", \"Movie\", \"Movie\", \"Movie\", \"Movie\", \"Movie\", \"Movie\", \"TV Show\", \"Movie\", \"Movie\", \"Movie\", \"Movie\", \"Movie\", \"Movie\", \"Movie\", \"Movie\", \"Movie\", \"Movie\", \"Movie\", \"Movie\", \"Movie\", \"Movie\", \"Movie\", \"Movie\", \"Movie\", \"Movie\", \"Movie\", \"Movie\", \"Movie\", \"Movie\", \"Movie\", \"Movie\", \"Movie\", \"Movie\", \"Movie\", \"Movie\", \"Movie\", \"Movie\", \"Movie\", \"Movie\", \"Movie\", \"Movie\", \"Movie\", \"Movie\", \"Movie\", \"Movie\", \"Movie\", \"Movie\", \"Movie\", \"Movie\", \"Movie\", \"Movie\", \"Movie\", \"Movie\", \"Movie\", \"Movie\", \"Movie\", \"Movie\", \"Movie\", \"Movie\", \"Movie\", \"Movie\", \"Movie\", \"Movie\", \"Movie\", \"Movie\", \"Movie\", \"Movie\", \"Movie\", \"Movie\", \"Movie\", \"Movie\", \"Movie\", \"Movie\", \"Movie\", \"Movie\", \"Movie\", \"Movie\", \"Movie\", \"Movie\", \"Movie\", \"Movie\", \"Movie\", \"Movie\", \"Movie\", \"Movie\", \"Movie\", \"Movie\", \"Movie\", \"Movie\", \"Movie\", \"Movie\", \"Movie\", \"Movie\", \"Movie\", \"Movie\", \"Movie\", \"Movie\", \"Movie\", \"Movie\", \"Movie\", \"Movie\", \"Movie\", \"Movie\", \"Movie\", \"Movie\", \"Movie\", \"Movie\", \"Movie\", \"Movie\", \"Movie\", \"Movie\", \"Movie\", \"Movie\", \"Movie\", \"Movie\", \"TV Show\", \"Movie\", \"Movie\", \"TV Show\", \"Movie\", \"Movie\", \"Movie\", \"Movie\", \"Movie\", \"Movie\", \"Movie\", \"Movie\", \"Movie\", \"Movie\", \"Movie\", \"Movie\", \"Movie\", \"Movie\", \"Movie\", \"Movie\", \"Movie\", \"Movie\", \"Movie\", \"Movie\", \"Movie\", \"Movie\", \"Movie\", \"Movie\", \"Movie\", \"Movie\", \"Movie\", \"Movie\", \"Movie\", \"Movie\", \"TV Show\", \"Movie\", \"Movie\", \"Movie\", \"Movie\", \"Movie\", \"Movie\", \"Movie\", \"Movie\", \"Movie\", \"Movie\", \"Movie\", \"Movie\", \"Movie\", \"Movie\", \"Movie\", \"Movie\", \"Movie\", \"Movie\", \"Movie\", \"Movie\", \"Movie\", \"Movie\", \"Movie\", \"Movie\", \"Movie\", \"Movie\", \"Movie\", \"Movie\", \"Movie\", \"Movie\", \"Movie\", \"Movie\", \"Movie\", \"Movie\", \"Movie\", \"Movie\", \"Movie\", \"Movie\", \"Movie\", \"Movie\", \"Movie\", \"Movie\", \"Movie\", \"Movie\", \"Movie\", \"Movie\", \"Movie\", \"Movie\", \"Movie\", \"TV Show\", \"Movie\", \"Movie\", \"Movie\", \"Movie\", \"Movie\", \"Movie\", \"Movie\", \"Movie\", \"Movie\", \"Movie\", \"Movie\", \"Movie\", \"Movie\", \"Movie\", \"Movie\", \"Movie\", \"Movie\", \"Movie\", \"Movie\", \"Movie\", \"Movie\", \"Movie\", \"Movie\", \"TV Show\", \"Movie\", \"Movie\", \"Movie\", \"Movie\", \"Movie\", \"Movie\", \"Movie\", \"Movie\", \"Movie\", \"Movie\", \"Movie\", \"Movie\", \"Movie\", \"Movie\", \"Movie\", \"Movie\", \"Movie\", \"Movie\", \"Movie\", \"Movie\", \"Movie\", \"Movie\", \"Movie\", \"Movie\", \"Movie\", \"Movie\", \"Movie\", \"Movie\", \"Movie\", \"Movie\", \"Movie\", \"Movie\", \"Movie\", \"Movie\", \"Movie\", \"Movie\", \"Movie\", \"Movie\", \"Movie\", \"Movie\", \"Movie\", \"Movie\", \"Movie\", \"Movie\", \"Movie\", \"Movie\", \"Movie\", \"TV Show\", \"Movie\", \"Movie\", \"Movie\", \"Movie\", \"Movie\", \"Movie\", \"Movie\", \"Movie\", \"Movie\", \"Movie\", \"Movie\", \"Movie\", \"Movie\", \"Movie\", \"Movie\", \"Movie\", \"Movie\", \"Movie\", \"Movie\", \"Movie\", \"Movie\", \"Movie\", \"Movie\", \"Movie\", \"Movie\", \"Movie\", \"Movie\", \"Movie\", \"Movie\", \"Movie\", \"Movie\", \"Movie\", \"Movie\", \"Movie\", \"Movie\", \"Movie\", \"Movie\", \"Movie\", \"Movie\", \"TV Show\", \"Movie\", \"Movie\", \"Movie\", \"Movie\", \"Movie\", \"TV Show\", \"Movie\", \"Movie\", \"Movie\", \"Movie\", \"Movie\", \"Movie\", \"Movie\", \"Movie\", \"Movie\", \"Movie\", \"Movie\", \"Movie\", \"Movie\", \"Movie\", \"Movie\", \"Movie\", \"Movie\", \"Movie\", \"Movie\", \"Movie\", \"Movie\", \"Movie\", \"Movie\", \"Movie\", \"Movie\", \"Movie\", \"Movie\", \"Movie\", \"Movie\", \"Movie\", \"Movie\", \"Movie\", \"Movie\", \"Movie\", \"Movie\", \"Movie\", \"Movie\", \"Movie\", \"Movie\", \"Movie\", \"Movie\", \"Movie\", \"Movie\", \"Movie\", \"Movie\", \"Movie\", \"Movie\", \"Movie\", \"Movie\", \"Movie\", \"TV Show\", \"Movie\", \"Movie\", \"Movie\", \"Movie\", \"Movie\", \"Movie\", \"Movie\", \"Movie\", \"Movie\", \"Movie\", \"Movie\", \"Movie\", \"Movie\", \"Movie\", \"Movie\", \"TV Show\", \"Movie\", \"Movie\", \"Movie\", \"Movie\", \"Movie\", \"Movie\", \"Movie\", \"Movie\", \"Movie\", \"Movie\", \"Movie\", \"Movie\", \"Movie\", \"TV Show\", \"Movie\", \"Movie\", \"Movie\", \"Movie\", \"Movie\", \"Movie\", \"Movie\", \"Movie\", \"TV Show\", \"Movie\", \"TV Show\", \"Movie\", \"Movie\", \"Movie\", \"Movie\", \"Movie\", \"Movie\", \"Movie\", \"Movie\", \"TV Show\", \"Movie\", \"Movie\", \"Movie\", \"Movie\", \"Movie\", \"Movie\", \"Movie\", \"Movie\", \"Movie\", \"Movie\", \"Movie\", \"TV Show\", \"Movie\", \"Movie\", \"Movie\", \"Movie\", \"Movie\", \"Movie\", \"Movie\", \"Movie\", \"Movie\", \"Movie\", \"Movie\", \"Movie\", \"Movie\", \"Movie\", \"TV Show\", \"Movie\", \"Movie\", \"Movie\", \"Movie\", \"Movie\", \"Movie\", \"Movie\", \"Movie\", \"Movie\", \"Movie\", \"Movie\", \"TV Show\", \"Movie\", \"Movie\", \"Movie\", \"Movie\", \"Movie\", \"Movie\", \"Movie\", \"Movie\", \"Movie\", \"Movie\", \"Movie\", \"Movie\", \"TV Show\", \"Movie\", \"Movie\", \"Movie\", \"Movie\", \"Movie\", \"Movie\", \"Movie\", \"Movie\", \"Movie\", \"Movie\", \"Movie\", \"TV Show\", \"Movie\", \"Movie\", \"Movie\", \"Movie\", \"Movie\", \"Movie\", \"Movie\", \"Movie\", \"Movie\", \"Movie\", \"Movie\", \"Movie\", \"Movie\", \"Movie\", \"Movie\", \"Movie\", \"Movie\", \"Movie\", \"Movie\", \"Movie\", \"Movie\", \"Movie\", \"Movie\", \"Movie\", \"Movie\", \"Movie\", \"Movie\", \"Movie\", \"Movie\", \"Movie\", \"Movie\", \"Movie\", \"Movie\", \"Movie\", \"Movie\", \"Movie\", \"Movie\", \"Movie\", \"Movie\", \"Movie\", \"Movie\", \"Movie\", \"Movie\", \"Movie\", \"Movie\", \"Movie\", \"Movie\", \"Movie\", \"Movie\", \"Movie\", \"Movie\", \"Movie\", \"Movie\", \"Movie\", \"Movie\", \"Movie\", \"Movie\", \"Movie\", \"Movie\", \"Movie\", \"Movie\", \"Movie\", \"Movie\", \"Movie\", \"Movie\", \"Movie\", \"Movie\", \"Movie\", \"Movie\", \"Movie\", \"Movie\", \"Movie\", \"Movie\", \"Movie\", \"Movie\", \"Movie\", \"Movie\", \"Movie\", \"Movie\", \"Movie\", \"Movie\", \"Movie\", \"Movie\", \"Movie\", \"Movie\", \"Movie\", \"Movie\", \"Movie\", \"Movie\", \"Movie\", \"Movie\", \"Movie\", \"Movie\", \"Movie\", \"Movie\", \"Movie\", \"Movie\", \"Movie\", \"Movie\", \"Movie\", \"Movie\", \"Movie\", \"Movie\", \"Movie\", \"Movie\", \"Movie\", \"Movie\", \"Movie\", \"Movie\", \"Movie\", \"Movie\", \"Movie\", \"Movie\", \"Movie\", \"Movie\", \"Movie\", \"Movie\", \"Movie\", \"Movie\", \"Movie\", \"Movie\", \"TV Show\", \"TV Show\", \"Movie\", \"Movie\", \"Movie\", \"Movie\", \"Movie\", \"Movie\", \"Movie\", \"Movie\", \"Movie\", \"Movie\", \"Movie\", \"Movie\", \"Movie\", \"Movie\", \"Movie\", \"Movie\", \"Movie\", \"Movie\", \"Movie\", \"Movie\", \"Movie\", \"Movie\", \"Movie\", \"Movie\", \"Movie\", \"Movie\", \"Movie\", \"Movie\", \"Movie\", \"Movie\", \"Movie\", \"Movie\", \"Movie\", \"Movie\", \"Movie\", \"Movie\", \"Movie\", \"Movie\", \"Movie\", \"Movie\", \"Movie\", \"Movie\", \"Movie\", \"Movie\", \"Movie\", \"Movie\", \"Movie\", \"Movie\", \"Movie\", \"Movie\", \"Movie\", \"Movie\", \"Movie\", \"Movie\", \"Movie\", \"Movie\", \"Movie\", \"Movie\", \"Movie\", \"Movie\", \"Movie\", \"Movie\", \"Movie\", \"Movie\", \"Movie\", \"Movie\", \"Movie\", \"Movie\", \"Movie\", \"Movie\", \"Movie\", \"Movie\", \"Movie\", \"Movie\", \"Movie\", \"Movie\", \"Movie\", \"Movie\", \"Movie\", \"Movie\", \"Movie\", \"Movie\", \"Movie\", \"Movie\", \"Movie\", \"Movie\", \"Movie\", \"Movie\", \"Movie\", \"Movie\", \"Movie\", \"Movie\", \"Movie\", \"Movie\", \"Movie\", \"Movie\", \"Movie\", \"Movie\", \"Movie\", \"Movie\", \"Movie\", \"Movie\", \"Movie\", \"Movie\", \"Movie\", \"Movie\", \"Movie\", \"Movie\", \"Movie\", \"Movie\", \"Movie\", \"Movie\", \"Movie\", \"Movie\", \"Movie\", \"Movie\", \"Movie\", \"Movie\", \"Movie\", \"Movie\", \"Movie\", \"Movie\", \"Movie\", \"Movie\", \"Movie\", \"Movie\", \"Movie\", \"Movie\", \"Movie\", \"Movie\", \"Movie\", \"Movie\", \"Movie\", \"Movie\", \"Movie\", \"Movie\", \"Movie\", \"Movie\", \"Movie\", \"Movie\", \"Movie\", \"Movie\", \"Movie\", \"Movie\", \"Movie\", \"Movie\", \"Movie\", \"Movie\", \"Movie\", \"Movie\", \"Movie\", \"Movie\", \"Movie\", \"Movie\", \"Movie\", \"Movie\", \"Movie\", \"Movie\", \"Movie\", \"Movie\", \"Movie\", \"Movie\", \"Movie\", \"Movie\", \"Movie\", \"Movie\", \"Movie\", \"TV Show\", \"Movie\", \"Movie\", \"Movie\", \"Movie\", \"Movie\", \"Movie\", \"Movie\", \"Movie\", \"TV Show\", \"Movie\", \"Movie\", \"Movie\", \"Movie\", \"TV Show\", \"Movie\", \"Movie\", \"Movie\", \"Movie\", \"Movie\", \"Movie\", \"Movie\", \"Movie\", \"TV Show\", \"Movie\", \"Movie\", \"Movie\", \"Movie\", \"Movie\", \"Movie\", \"Movie\", \"Movie\", \"Movie\", \"Movie\", \"Movie\", \"Movie\", \"Movie\", \"Movie\", \"Movie\", \"Movie\", \"Movie\", \"Movie\", \"Movie\", \"Movie\", \"Movie\", \"Movie\", \"Movie\", \"Movie\", \"Movie\", \"Movie\", \"Movie\", \"Movie\", \"Movie\", \"Movie\", \"Movie\", \"Movie\", \"Movie\", \"Movie\", \"Movie\", \"Movie\", \"Movie\", \"Movie\", \"Movie\", \"Movie\", \"Movie\", \"Movie\", \"TV Show\", \"Movie\", \"Movie\", \"Movie\", \"Movie\", \"Movie\", \"Movie\", \"Movie\", \"Movie\", \"Movie\", \"TV Show\", \"Movie\", \"Movie\", \"Movie\", \"Movie\", \"Movie\", \"Movie\", \"Movie\", \"Movie\", \"Movie\", \"Movie\", \"Movie\", \"Movie\", \"Movie\", \"Movie\", \"Movie\", \"Movie\", \"Movie\", \"Movie\", \"Movie\", \"Movie\", \"Movie\", \"Movie\", \"TV Show\", \"Movie\", \"Movie\", \"Movie\", \"Movie\", \"Movie\", \"Movie\", \"Movie\", \"Movie\", \"Movie\", \"Movie\", \"Movie\", \"Movie\", \"Movie\", \"Movie\", \"Movie\", \"Movie\", \"TV Show\", \"Movie\", \"TV Show\", \"Movie\", \"Movie\", \"Movie\", \"Movie\", \"Movie\", \"Movie\", \"Movie\", \"Movie\", \"Movie\", \"Movie\", \"Movie\", \"Movie\", \"Movie\", \"Movie\", \"Movie\", \"Movie\", \"Movie\", \"Movie\", \"Movie\", \"Movie\", \"Movie\", \"Movie\", \"Movie\", \"Movie\", \"Movie\", \"Movie\", \"Movie\", \"Movie\", \"Movie\", \"Movie\", \"Movie\", \"Movie\", \"Movie\", \"Movie\", \"Movie\", \"Movie\", \"Movie\", \"TV Show\", \"Movie\", \"Movie\", \"Movie\", \"Movie\", \"Movie\", \"Movie\", \"Movie\", \"Movie\", \"Movie\", \"Movie\", \"Movie\", \"Movie\", \"Movie\", \"Movie\", \"Movie\", \"Movie\", \"Movie\", \"Movie\", \"Movie\", \"Movie\", \"Movie\", \"Movie\", \"Movie\", \"Movie\", \"Movie\", \"Movie\", \"Movie\", \"Movie\", \"Movie\", \"Movie\", \"Movie\", \"Movie\", \"Movie\", \"Movie\", \"Movie\", \"Movie\", \"Movie\", \"Movie\", \"Movie\", \"Movie\", \"Movie\", \"Movie\", \"Movie\", \"Movie\", \"Movie\", \"Movie\", \"Movie\", \"Movie\", \"Movie\", \"Movie\", \"Movie\", \"Movie\", \"Movie\", \"Movie\", \"Movie\", \"Movie\", \"Movie\", \"Movie\", \"Movie\", \"Movie\", \"Movie\", \"Movie\", \"Movie\", \"Movie\", \"Movie\", \"Movie\", \"Movie\", \"Movie\", \"Movie\", \"Movie\", \"Movie\", \"Movie\", \"TV Show\", \"Movie\", \"Movie\", \"Movie\", \"Movie\", \"Movie\", \"Movie\", \"Movie\", \"Movie\", \"Movie\", \"Movie\", \"Movie\", \"Movie\", \"Movie\", \"Movie\", \"Movie\", \"Movie\", \"Movie\", \"Movie\", \"Movie\", \"Movie\", \"Movie\", \"Movie\", \"Movie\", \"Movie\", \"Movie\", \"Movie\", \"Movie\", \"TV Show\", \"Movie\", \"Movie\", \"Movie\", \"Movie\", \"Movie\", \"Movie\", \"Movie\", \"Movie\", \"Movie\", \"Movie\", \"Movie\", \"Movie\", \"Movie\", \"Movie\", \"Movie\", \"Movie\", \"TV Show\", \"Movie\", \"Movie\", \"Movie\", \"Movie\", \"Movie\", \"Movie\", \"Movie\", \"TV Show\", \"Movie\", \"Movie\", \"Movie\", \"Movie\", \"Movie\", \"Movie\", \"Movie\", \"Movie\", \"Movie\", \"Movie\", \"Movie\", \"Movie\", \"Movie\", \"Movie\", \"Movie\", \"Movie\", \"Movie\", \"Movie\", \"Movie\", \"Movie\", \"Movie\", \"Movie\", \"Movie\", \"Movie\", \"Movie\", \"Movie\", \"Movie\", \"Movie\", \"Movie\", \"Movie\", \"Movie\", \"Movie\", \"Movie\", \"Movie\", \"Movie\", \"Movie\", \"Movie\", \"Movie\", \"Movie\", \"Movie\", \"Movie\", \"Movie\", \"Movie\", \"Movie\", \"Movie\", \"Movie\", \"Movie\", \"Movie\", \"Movie\", \"Movie\", \"Movie\", \"Movie\", \"Movie\", \"Movie\", \"Movie\", \"Movie\", \"Movie\", \"TV Show\", \"Movie\", \"Movie\", \"Movie\", \"Movie\", \"Movie\", \"Movie\", \"Movie\", \"Movie\", \"Movie\", \"Movie\", \"Movie\", \"Movie\", \"Movie\", \"Movie\", \"Movie\", \"Movie\", \"Movie\", \"Movie\", \"Movie\", \"Movie\", \"Movie\", \"Movie\", \"Movie\", \"Movie\", \"Movie\", \"Movie\", \"Movie\", \"Movie\", \"Movie\", \"Movie\", \"Movie\", \"Movie\", \"Movie\", \"Movie\", \"Movie\", \"Movie\", \"Movie\", \"Movie\", \"Movie\", \"Movie\", \"Movie\", \"Movie\", \"Movie\", \"Movie\", \"Movie\", \"Movie\", \"Movie\", \"Movie\", \"Movie\", \"Movie\", \"Movie\", \"Movie\", \"Movie\", \"Movie\", \"Movie\", \"Movie\", \"Movie\", \"Movie\", \"Movie\", \"Movie\", \"Movie\", \"Movie\", \"Movie\", \"Movie\", \"Movie\", \"Movie\", \"Movie\", \"Movie\", \"Movie\", \"Movie\", \"Movie\", \"Movie\", \"Movie\", \"Movie\", \"Movie\", \"Movie\", \"Movie\", \"Movie\", \"Movie\", \"Movie\", \"Movie\", \"Movie\", \"Movie\", \"Movie\", \"Movie\", \"Movie\", \"Movie\", \"Movie\", \"Movie\", \"Movie\", \"Movie\", \"Movie\", \"Movie\", \"Movie\", \"Movie\", \"Movie\", \"Movie\", \"Movie\", \"Movie\", \"TV Show\", \"Movie\", \"Movie\", \"Movie\", \"Movie\", \"Movie\", \"Movie\", \"Movie\", \"Movie\", \"Movie\", \"Movie\", \"Movie\", \"Movie\", \"Movie\", \"Movie\", \"Movie\", \"Movie\", \"Movie\", \"Movie\", \"Movie\", \"Movie\", \"Movie\", \"Movie\", \"Movie\", \"Movie\", \"Movie\", \"Movie\", \"Movie\", \"Movie\", \"Movie\", \"Movie\", \"Movie\", \"Movie\", \"TV Show\", \"Movie\", \"Movie\", \"Movie\", \"Movie\", \"Movie\", \"Movie\", \"Movie\", \"Movie\", \"Movie\", \"Movie\", \"Movie\", \"Movie\", \"Movie\", \"Movie\", \"Movie\", \"Movie\", \"Movie\", \"Movie\", \"Movie\", \"Movie\", \"Movie\", \"Movie\", \"Movie\", \"Movie\", \"Movie\", \"Movie\", \"Movie\", \"Movie\", \"Movie\", \"Movie\", \"Movie\", \"Movie\", \"Movie\", \"Movie\", \"Movie\", \"Movie\", \"Movie\", \"Movie\", \"Movie\", \"Movie\", \"Movie\", \"Movie\"], \"xaxis\": \"x\", \"yaxis\": \"y\"}],\n",
              "                        {\"bargap\": 0.1, \"barmode\": \"relative\", \"legend\": {\"tracegroupgap\": 0}, \"template\": {\"data\": {\"bar\": [{\"error_x\": {\"color\": \"#f2f5fa\"}, \"error_y\": {\"color\": \"#f2f5fa\"}, \"marker\": {\"line\": {\"color\": \"rgb(17,17,17)\", \"width\": 0.5}}, \"type\": \"bar\"}], \"barpolar\": [{\"marker\": {\"line\": {\"color\": \"rgb(17,17,17)\", \"width\": 0.5}}, \"type\": \"barpolar\"}], \"carpet\": [{\"aaxis\": {\"endlinecolor\": \"#A2B1C6\", \"gridcolor\": \"#506784\", \"linecolor\": \"#506784\", \"minorgridcolor\": \"#506784\", \"startlinecolor\": \"#A2B1C6\"}, \"baxis\": {\"endlinecolor\": \"#A2B1C6\", \"gridcolor\": \"#506784\", \"linecolor\": \"#506784\", \"minorgridcolor\": \"#506784\", \"startlinecolor\": \"#A2B1C6\"}, \"type\": \"carpet\"}], \"choropleth\": [{\"colorbar\": {\"outlinewidth\": 0, \"ticks\": \"\"}, \"type\": \"choropleth\"}], \"contour\": [{\"colorbar\": {\"outlinewidth\": 0, \"ticks\": \"\"}, \"colorscale\": [[0.0, \"#0d0887\"], [0.1111111111111111, \"#46039f\"], [0.2222222222222222, \"#7201a8\"], [0.3333333333333333, \"#9c179e\"], [0.4444444444444444, \"#bd3786\"], [0.5555555555555556, \"#d8576b\"], [0.6666666666666666, \"#ed7953\"], [0.7777777777777778, \"#fb9f3a\"], [0.8888888888888888, \"#fdca26\"], [1.0, \"#f0f921\"]], \"type\": \"contour\"}], \"contourcarpet\": [{\"colorbar\": {\"outlinewidth\": 0, \"ticks\": \"\"}, \"type\": \"contourcarpet\"}], \"heatmap\": [{\"colorbar\": {\"outlinewidth\": 0, \"ticks\": \"\"}, \"colorscale\": [[0.0, \"#0d0887\"], [0.1111111111111111, \"#46039f\"], [0.2222222222222222, \"#7201a8\"], [0.3333333333333333, \"#9c179e\"], [0.4444444444444444, \"#bd3786\"], [0.5555555555555556, \"#d8576b\"], [0.6666666666666666, \"#ed7953\"], [0.7777777777777778, \"#fb9f3a\"], [0.8888888888888888, \"#fdca26\"], [1.0, \"#f0f921\"]], \"type\": \"heatmap\"}], \"heatmapgl\": [{\"colorbar\": {\"outlinewidth\": 0, \"ticks\": \"\"}, \"colorscale\": [[0.0, \"#0d0887\"], [0.1111111111111111, \"#46039f\"], [0.2222222222222222, \"#7201a8\"], [0.3333333333333333, \"#9c179e\"], [0.4444444444444444, \"#bd3786\"], [0.5555555555555556, \"#d8576b\"], [0.6666666666666666, \"#ed7953\"], [0.7777777777777778, \"#fb9f3a\"], [0.8888888888888888, \"#fdca26\"], [1.0, \"#f0f921\"]], \"type\": \"heatmapgl\"}], \"histogram\": [{\"marker\": {\"colorbar\": {\"outlinewidth\": 0, \"ticks\": \"\"}}, \"type\": \"histogram\"}], \"histogram2d\": [{\"colorbar\": {\"outlinewidth\": 0, \"ticks\": \"\"}, \"colorscale\": [[0.0, \"#0d0887\"], [0.1111111111111111, \"#46039f\"], [0.2222222222222222, \"#7201a8\"], [0.3333333333333333, \"#9c179e\"], [0.4444444444444444, \"#bd3786\"], [0.5555555555555556, \"#d8576b\"], [0.6666666666666666, \"#ed7953\"], [0.7777777777777778, \"#fb9f3a\"], [0.8888888888888888, \"#fdca26\"], [1.0, \"#f0f921\"]], \"type\": \"histogram2d\"}], \"histogram2dcontour\": [{\"colorbar\": {\"outlinewidth\": 0, \"ticks\": \"\"}, \"colorscale\": [[0.0, \"#0d0887\"], [0.1111111111111111, \"#46039f\"], [0.2222222222222222, \"#7201a8\"], [0.3333333333333333, \"#9c179e\"], [0.4444444444444444, \"#bd3786\"], [0.5555555555555556, \"#d8576b\"], [0.6666666666666666, \"#ed7953\"], [0.7777777777777778, \"#fb9f3a\"], [0.8888888888888888, \"#fdca26\"], [1.0, \"#f0f921\"]], \"type\": \"histogram2dcontour\"}], \"mesh3d\": [{\"colorbar\": {\"outlinewidth\": 0, \"ticks\": \"\"}, \"type\": \"mesh3d\"}], \"parcoords\": [{\"line\": {\"colorbar\": {\"outlinewidth\": 0, \"ticks\": \"\"}}, \"type\": \"parcoords\"}], \"pie\": [{\"automargin\": true, \"type\": \"pie\"}], \"scatter\": [{\"marker\": {\"line\": {\"color\": \"#283442\"}}, \"type\": \"scatter\"}], \"scatter3d\": [{\"line\": {\"colorbar\": {\"outlinewidth\": 0, \"ticks\": \"\"}}, \"marker\": {\"colorbar\": {\"outlinewidth\": 0, \"ticks\": \"\"}}, \"type\": \"scatter3d\"}], \"scattercarpet\": [{\"marker\": {\"colorbar\": {\"outlinewidth\": 0, \"ticks\": \"\"}}, \"type\": \"scattercarpet\"}], \"scattergeo\": [{\"marker\": {\"colorbar\": {\"outlinewidth\": 0, \"ticks\": \"\"}}, \"type\": \"scattergeo\"}], \"scattergl\": [{\"marker\": {\"line\": {\"color\": \"#283442\"}}, \"type\": \"scattergl\"}], \"scattermapbox\": [{\"marker\": {\"colorbar\": {\"outlinewidth\": 0, \"ticks\": \"\"}}, \"type\": \"scattermapbox\"}], \"scatterpolar\": [{\"marker\": {\"colorbar\": {\"outlinewidth\": 0, \"ticks\": \"\"}}, \"type\": \"scatterpolar\"}], \"scatterpolargl\": [{\"marker\": {\"colorbar\": {\"outlinewidth\": 0, \"ticks\": \"\"}}, \"type\": \"scatterpolargl\"}], \"scatterternary\": [{\"marker\": {\"colorbar\": {\"outlinewidth\": 0, \"ticks\": \"\"}}, \"type\": \"scatterternary\"}], \"surface\": [{\"colorbar\": {\"outlinewidth\": 0, \"ticks\": \"\"}, \"colorscale\": [[0.0, \"#0d0887\"], [0.1111111111111111, \"#46039f\"], [0.2222222222222222, \"#7201a8\"], [0.3333333333333333, \"#9c179e\"], [0.4444444444444444, \"#bd3786\"], [0.5555555555555556, \"#d8576b\"], [0.6666666666666666, \"#ed7953\"], [0.7777777777777778, \"#fb9f3a\"], [0.8888888888888888, \"#fdca26\"], [1.0, \"#f0f921\"]], \"type\": \"surface\"}], \"table\": [{\"cells\": {\"fill\": {\"color\": \"#506784\"}, \"line\": {\"color\": \"rgb(17,17,17)\"}}, \"header\": {\"fill\": {\"color\": \"#2a3f5f\"}, \"line\": {\"color\": \"rgb(17,17,17)\"}}, \"type\": \"table\"}]}, \"layout\": {\"annotationdefaults\": {\"arrowcolor\": \"#f2f5fa\", \"arrowhead\": 0, \"arrowwidth\": 1}, \"coloraxis\": {\"colorbar\": {\"outlinewidth\": 0, \"ticks\": \"\"}}, \"colorscale\": {\"diverging\": [[0, \"#8e0152\"], [0.1, \"#c51b7d\"], [0.2, \"#de77ae\"], [0.3, \"#f1b6da\"], [0.4, \"#fde0ef\"], [0.5, \"#f7f7f7\"], [0.6, \"#e6f5d0\"], [0.7, \"#b8e186\"], [0.8, \"#7fbc41\"], [0.9, \"#4d9221\"], [1, \"#276419\"]], \"sequential\": [[0.0, \"#0d0887\"], [0.1111111111111111, \"#46039f\"], [0.2222222222222222, \"#7201a8\"], [0.3333333333333333, \"#9c179e\"], [0.4444444444444444, \"#bd3786\"], [0.5555555555555556, \"#d8576b\"], [0.6666666666666666, \"#ed7953\"], [0.7777777777777778, \"#fb9f3a\"], [0.8888888888888888, \"#fdca26\"], [1.0, \"#f0f921\"]], \"sequentialminus\": [[0.0, \"#0d0887\"], [0.1111111111111111, \"#46039f\"], [0.2222222222222222, \"#7201a8\"], [0.3333333333333333, \"#9c179e\"], [0.4444444444444444, \"#bd3786\"], [0.5555555555555556, \"#d8576b\"], [0.6666666666666666, \"#ed7953\"], [0.7777777777777778, \"#fb9f3a\"], [0.8888888888888888, \"#fdca26\"], [1.0, \"#f0f921\"]]}, \"colorway\": [\"#636efa\", \"#EF553B\", \"#00cc96\", \"#ab63fa\", \"#FFA15A\", \"#19d3f3\", \"#FF6692\", \"#B6E880\", \"#FF97FF\", \"#FECB52\"], \"font\": {\"color\": \"#f2f5fa\"}, \"geo\": {\"bgcolor\": \"rgb(17,17,17)\", \"lakecolor\": \"rgb(17,17,17)\", \"landcolor\": \"rgb(17,17,17)\", \"showlakes\": true, \"showland\": true, \"subunitcolor\": \"#506784\"}, \"hoverlabel\": {\"align\": \"left\"}, \"hovermode\": \"closest\", \"mapbox\": {\"style\": \"dark\"}, \"paper_bgcolor\": \"rgb(17,17,17)\", \"plot_bgcolor\": \"rgb(17,17,17)\", \"polar\": {\"angularaxis\": {\"gridcolor\": \"#506784\", \"linecolor\": \"#506784\", \"ticks\": \"\"}, \"bgcolor\": \"rgb(17,17,17)\", \"radialaxis\": {\"gridcolor\": \"#506784\", \"linecolor\": \"#506784\", \"ticks\": \"\"}}, \"scene\": {\"xaxis\": {\"backgroundcolor\": \"rgb(17,17,17)\", \"gridcolor\": \"#506784\", \"gridwidth\": 2, \"linecolor\": \"#506784\", \"showbackground\": true, \"ticks\": \"\", \"zerolinecolor\": \"#C8D4E3\"}, \"yaxis\": {\"backgroundcolor\": \"rgb(17,17,17)\", \"gridcolor\": \"#506784\", \"gridwidth\": 2, \"linecolor\": \"#506784\", \"showbackground\": true, \"ticks\": \"\", \"zerolinecolor\": \"#C8D4E3\"}, \"zaxis\": {\"backgroundcolor\": \"rgb(17,17,17)\", \"gridcolor\": \"#506784\", \"gridwidth\": 2, \"linecolor\": \"#506784\", \"showbackground\": true, \"ticks\": \"\", \"zerolinecolor\": \"#C8D4E3\"}}, \"shapedefaults\": {\"line\": {\"color\": \"#f2f5fa\"}}, \"sliderdefaults\": {\"bgcolor\": \"#C8D4E3\", \"bordercolor\": \"rgb(17,17,17)\", \"borderwidth\": 1, \"tickwidth\": 0}, \"ternary\": {\"aaxis\": {\"gridcolor\": \"#506784\", \"linecolor\": \"#506784\", \"ticks\": \"\"}, \"baxis\": {\"gridcolor\": \"#506784\", \"linecolor\": \"#506784\", \"ticks\": \"\"}, \"bgcolor\": \"rgb(17,17,17)\", \"caxis\": {\"gridcolor\": \"#506784\", \"linecolor\": \"#506784\", \"ticks\": \"\"}}, \"title\": {\"x\": 0.05}, \"updatemenudefaults\": {\"bgcolor\": \"#506784\", \"borderwidth\": 0}, \"xaxis\": {\"automargin\": true, \"gridcolor\": \"#283442\", \"linecolor\": \"#506784\", \"ticks\": \"\", \"title\": {\"standoff\": 15}, \"zerolinecolor\": \"#283442\", \"zerolinewidth\": 2}, \"yaxis\": {\"automargin\": true, \"gridcolor\": \"#283442\", \"linecolor\": \"#506784\", \"ticks\": \"\", \"title\": {\"standoff\": 15}, \"zerolinecolor\": \"#283442\", \"zerolinewidth\": 2}}}, \"title\": {\"text\": \"Tipo de Programas\"}, \"xaxis\": {\"anchor\": \"y\", \"domain\": [0.0, 1.0], \"title\": {\"text\": \"type\"}}, \"yaxis\": {\"anchor\": \"x\", \"domain\": [0.0, 1.0], \"title\": {\"text\": \"count\"}}},\n",
              "                        {\"responsive\": true}\n",
              "                    ).then(function(){\n",
              "                            \n",
              "var gd = document.getElementById('3f0e6c52-9094-4331-ab66-670be3f6b586');\n",
              "var x = new MutationObserver(function (mutations, observer) {{\n",
              "        var display = window.getComputedStyle(gd).display;\n",
              "        if (!display || display === 'none') {{\n",
              "            console.log([gd, 'removed!']);\n",
              "            Plotly.purge(gd);\n",
              "            observer.disconnect();\n",
              "        }}\n",
              "}});\n",
              "\n",
              "// Listen for the removal of the full notebook cells\n",
              "var notebookContainer = gd.closest('#notebook-container');\n",
              "if (notebookContainer) {{\n",
              "    x.observe(notebookContainer, {childList: true});\n",
              "}}\n",
              "\n",
              "// Listen for the clearing of the current output cell\n",
              "var outputEl = gd.closest('.output');\n",
              "if (outputEl) {{\n",
              "    x.observe(outputEl, {childList: true});\n",
              "}}\n",
              "\n",
              "                        })\n",
              "                };\n",
              "                \n",
              "            </script>\n",
              "        </div>\n",
              "</body>\n",
              "</html>"
            ]
          },
          "metadata": {}
        }
      ]
    },
    {
      "cell_type": "code",
      "source": [
        "# Também podemos graficar o anterior usando SEABORN\n",
        "\n",
        "sns.set(style = \"darkgrid\")\n",
        "sns.countplot(x = \"type\", data = df, palette = \"dark\")"
      ],
      "metadata": {
        "colab": {
          "base_uri": "https://localhost:8080/",
          "height": 0
        },
        "id": "na0HMSON9wjc",
        "outputId": "b90d9569-173c-44a6-ce66-465aa4c7d999"
      },
      "execution_count": 37,
      "outputs": [
        {
          "output_type": "execute_result",
          "data": {
            "text/plain": [
              "<matplotlib.axes._subplots.AxesSubplot at 0x7ff27d49f150>"
            ]
          },
          "metadata": {},
          "execution_count": 37
        },
        {
          "output_type": "display_data",
          "data": {
            "image/png": "[encoded data removed]",
            "text/plain": [
              "<Figure size 432x288 with 1 Axes>"
            ]
          },
          "metadata": {}
        }
      ]
    },
    {
      "cell_type": "markdown",
      "source": [
        "### <font color=\"orange\">Analisando o Rating de Movies e TV Shows</font>\n",
        "\n",
        "No seguinte gráfico podemos extrair os seguintes Insights:\n",
        "\n",
        "* A maior classificação é para TV-MA. Está classificação é fundamentalmente para um público com maior maturidade.\n",
        "\n",
        "* A segunda classificação, significa que o conteúdo puede ser inapropriado para crianças menores de $14$ anos de Idade.\n",
        "\n",
        "* A seguinte classificação, R. Esta classificação é um filme que não é adequado para menores de $17$ anos de Idade."
      ],
      "metadata": {
        "id": "wY-WCHq6_b8o"
      }
    },
    {
      "cell_type": "code",
      "source": [
        "# Movies Rating\n",
        "\n",
        "plt.figure(figsize=(12, 8))\n",
        "sns.set(style = \"darkgrid\")\n",
        "sns.countplot(x = \"rating\", data = movie_df, palette = \"Set2\", order = movie_df[\"rating\"].value_counts().index[0:15])\n",
        "plt.title(\"Rating de Movies\");\n"
      ],
      "metadata": {
        "colab": {
          "base_uri": "https://localhost:8080/",
          "height": 0
        },
        "id": "A3hJjrcP-9wB",
        "outputId": "a56fd580-0a0f-4a24-9bab-e1f16410ab7b"
      },
      "execution_count": 38,
      "outputs": [
        {
          "output_type": "display_data",
          "data": {
            "image/png": "[encoded data removed]",
            "text/plain": [
              "<Figure size 864x576 with 1 Axes>"
            ]
          },
          "metadata": {}
        }
      ]
    },
    {
      "cell_type": "markdown",
      "source": [
        "No seguinte gráfico podemos extrair os seguintes Insights:\n",
        "\n",
        "* A maioria dos programas de televisão tem classificação TV-14, o que significa que o conteúdo pode ser inapropriado para crianças menores de $14$ anos de Idade.\n",
        "\n",
        "*  Analisar com mais detalhes...... !\n",
        "\n",
        "* Os programas de televisão em menor quantidade tem classificações \"R\".\n",
        "\n"
      ],
      "metadata": {
        "id": "ZlZBUgcUEkrA"
      }
    },
    {
      "cell_type": "code",
      "source": [
        "# TV Shows Rating\n",
        "\n",
        "plt.figure(figsize=(12, 8))\n",
        "sns.set(style = \"darkgrid\")\n",
        "sns.countplot(x = \"rating\", data = tv_df, palette = \"Set1\", order = tv_df[\"rating\"].value_counts().index[0:15])\n",
        "plt.title(\"Rating de TV Shows\");"
      ],
      "metadata": {
        "colab": {
          "base_uri": "https://localhost:8080/",
          "height": 0
        },
        "id": "oGzimwNwBGT4",
        "outputId": "530a8a55-c15c-489a-af5c-8af4b15c0d9e"
      },
      "execution_count": 39,
      "outputs": [
        {
          "output_type": "display_data",
          "data": {
            "image/png": "[encoded data removed]",
            "text/plain": [
              "<Figure size 864x576 with 1 Axes>"
            ]
          },
          "metadata": {}
        }
      ]
    },
    {
      "cell_type": "markdown",
      "source": [
        "### <font color=\"orange\">Análise do conteúdo por ano</font>\n",
        "\n",
        "No seguinte gráfico podemos extrair os seguintes Insights:\n",
        "\n",
        "* No gráfico observamos que a Netflix produziu maior conteúdo no ano $2017$.\n",
        "\n",
        "* A Netflix teve um bom crescimento a partir do ano $2015$."
      ],
      "metadata": {
        "id": "wzu_p71oG7kB"
      }
    },
    {
      "cell_type": "code",
      "source": [
        "plt.figure(figsize=(15, 8))\n",
        "sns.set(style = \"darkgrid\")\n",
        "sns.countplot(y = \"release_year\", data = df, palette = \"Paired\", order = df[\"release_year\"].value_counts().index[0:15], hue = df[\"type\"])\n",
        "plt.title(\"Tipo de conteúdo por Ano\", fontsize = 30, color = \"blue\");"
      ],
      "metadata": {
        "colab": {
          "base_uri": "https://localhost:8080/",
          "height": 0
        },
        "id": "HbqjBSVHEW_p",
        "outputId": "1543ecc8-58e3-4fa3-b417-1762552fd461"
      },
      "execution_count": 40,
      "outputs": [
        {
          "output_type": "display_data",
          "data": {
            "image/png": "[encoded data removed]",
            "text/plain": [
              "<Figure size 1080x576 with 1 Axes>"
            ]
          },
          "metadata": {}
        }
      ]
    },
    {
      "cell_type": "markdown",
      "source": [
        "### <font color=\"orange\">Análise de duração de Movies</font>\n"
      ],
      "metadata": {
        "id": "BsRPORB1Tevd"
      }
    },
    {
      "cell_type": "code",
      "source": [
        "movie_df[\"duration\"] = movie_df[\"duration\"].str.replace(\"min\", \"\")\n",
        "movie_df[\"duration\"] = movie_df[\"duration\"].astype(str).astype(int)\n",
        "movie_df[\"duration\"] "
      ],
      "metadata": {
        "colab": {
          "base_uri": "https://localhost:8080/"
        },
        "id": "KcNC9aZ3Hp8K",
        "outputId": "67201566-7f70-44d8-d357-f4d9df622399"
      },
      "execution_count": 41,
      "outputs": [
        {
          "output_type": "stream",
          "name": "stderr",
          "text": [
            "/usr/local/lib/python3.7/dist-packages/ipykernel_launcher.py:1: SettingWithCopyWarning:\n",
            "\n",
            "\n",
            "A value is trying to be set on a copy of a slice from a DataFrame.\n",
            "Try using .loc[row_indexer,col_indexer] = value instead\n",
            "\n",
            "See the caveats in the documentation: https://pandas.pydata.org/pandas-docs/stable/user_guide/indexing.html#returning-a-view-versus-a-copy\n",
            "\n",
            "/usr/local/lib/python3.7/dist-packages/ipykernel_launcher.py:2: SettingWithCopyWarning:\n",
            "\n",
            "\n",
            "A value is trying to be set on a copy of a slice from a DataFrame.\n",
            "Try using .loc[row_indexer,col_indexer] = value instead\n",
            "\n",
            "See the caveats in the documentation: https://pandas.pydata.org/pandas-docs/stable/user_guide/indexing.html#returning-a-view-versus-a-copy\n",
            "\n"
          ]
        },
        {
          "output_type": "execute_result",
          "data": {
            "text/plain": [
              "1        93\n",
              "2        78\n",
              "3        80\n",
              "4       123\n",
              "6        95\n",
              "       ... \n",
              "7778     88\n",
              "7780     94\n",
              "7781     88\n",
              "7782     99\n",
              "7783    111\n",
              "Name: duration, Length: 4834, dtype: int64"
            ]
          },
          "metadata": {},
          "execution_count": 41
        }
      ]
    },
    {
      "cell_type": "markdown",
      "source": [
        "Na seguinte imagem podemos extrair o seguinte Insight:\n",
        "\n",
        "* A maioria dos filmes da Netflix tem uma duração entre $75$ e $120$ minutos."
      ],
      "metadata": {
        "id": "uOnAUhjTmcaJ"
      }
    },
    {
      "cell_type": "code",
      "source": [
        "plt.figure(figsize=(15, 8))\n",
        "sns.set(style = \"darkgrid\")\n",
        "sns.kdeplot(data = movie_df[\"duration\"], shade = True)\n",
        "plt.title(\"Tempo de duração do Filme (Movie)\", fontsize = 25, color = \"blue\");\n"
      ],
      "metadata": {
        "id": "9DA_SfkWUYAL",
        "colab": {
          "base_uri": "https://localhost:8080/",
          "height": 0
        },
        "outputId": "004c9f77-3a4a-42fa-8786-a2fe5840aa5e"
      },
      "execution_count": 42,
      "outputs": [
        {
          "output_type": "display_data",
          "data": {
            "image/png": "[encoded data removed]",
            "text/plain": [
              "<Figure size 1080x576 with 1 Axes>"
            ]
          },
          "metadata": {}
        }
      ]
    },
    {
      "cell_type": "markdown",
      "source": [
        "### <font color=\"orange\">Tendência de duração dos Filmes (Movies)</font>\n",
        "\n",
        "Insight do seguinte gráfico:\n",
        "\n",
        "* Entre os anos de $1960$ e $1965$, a duração dos filmes era de aproximadamente 200 minutos. Observamos, também, que depois do ano de $1965$ a duração dos filmes baixo a $130$ minutos aproximadamente.\n",
        "\n",
        "* A partir do ano de $1980$ a tendência da duração dos filmes foi constante, foi entre $100$ e $150$ minutos."
      ],
      "metadata": {
        "id": "2ErwgEIgpJC7"
      }
    },
    {
      "cell_type": "code",
      "source": [
        "duration_year = movie_df.groupby([\"release_year\"]).mean()\n",
        "duration_year = duration_year.sort_index()\n",
        "\n",
        "plt.figure(figsize = (15, 6))\n",
        "sns.set(style = \"darkgrid\")\n",
        "sns.lineplot(x = duration_year.index, y = duration_year.duration.values)\n",
        "#plt.box(on = None)\n",
        "plt.ylabel(\"Duração do Filme em minutos\", fontsize = 20, color = \"Red\")\n",
        "plt.xlabel(\"Ano de release (lançamento)\", fontsize = 20, color = \"Red\")\n",
        "plt.title(\"Tendências da duração do Filme ao longo dos anos\", fontsize = 28, color = \"Green\");\n",
        "\n"
      ],
      "metadata": {
        "colab": {
          "base_uri": "https://localhost:8080/",
          "height": 0
        },
        "id": "pnhOTO-FmDNI",
        "outputId": "80a88602-aa52-4360-fc36-bccd9fa34431"
      },
      "execution_count": 43,
      "outputs": [
        {
          "output_type": "display_data",
          "data": {
            "image/png": "[encoded data removed]",
            "text/plain": [
              "<Figure size 1080x432 with 1 Axes>"
            ]
          },
          "metadata": {}
        }
      ]
    },
    {
      "cell_type": "markdown",
      "source": [
        "### <font color=\"orange\">Análise de TV Show com mais Temporadas</font>\n"
      ],
      "metadata": {
        "id": "9V3XDyUIxF0k"
      }
    },
    {
      "cell_type": "code",
      "source": [
        "tv_df[\"duration\"] = tv_df[\"duration\"].str.replace(\"Season\", \"\")\n",
        "tv_df[\"duration\"] = tv_df[\"duration\"].str.replace(\"s\", \"\")\n",
        "tv_df[\"duration\"] = tv_df[\"duration\"].astype(str).astype(int)\n",
        "tv_df[\"duration\"]\n"
      ],
      "metadata": {
        "colab": {
          "base_uri": "https://localhost:8080/"
        },
        "id": "naEwt7Nkp5il",
        "outputId": "6946f665-9f43-4897-f8b1-e939aa5c44b6"
      },
      "execution_count": 44,
      "outputs": [
        {
          "output_type": "stream",
          "name": "stderr",
          "text": [
            "/usr/local/lib/python3.7/dist-packages/ipykernel_launcher.py:1: SettingWithCopyWarning:\n",
            "\n",
            "\n",
            "A value is trying to be set on a copy of a slice from a DataFrame.\n",
            "Try using .loc[row_indexer,col_indexer] = value instead\n",
            "\n",
            "See the caveats in the documentation: https://pandas.pydata.org/pandas-docs/stable/user_guide/indexing.html#returning-a-view-versus-a-copy\n",
            "\n",
            "/usr/local/lib/python3.7/dist-packages/ipykernel_launcher.py:2: SettingWithCopyWarning:\n",
            "\n",
            "\n",
            "A value is trying to be set on a copy of a slice from a DataFrame.\n",
            "Try using .loc[row_indexer,col_indexer] = value instead\n",
            "\n",
            "See the caveats in the documentation: https://pandas.pydata.org/pandas-docs/stable/user_guide/indexing.html#returning-a-view-versus-a-copy\n",
            "\n",
            "/usr/local/lib/python3.7/dist-packages/ipykernel_launcher.py:3: SettingWithCopyWarning:\n",
            "\n",
            "\n",
            "A value is trying to be set on a copy of a slice from a DataFrame.\n",
            "Try using .loc[row_indexer,col_indexer] = value instead\n",
            "\n",
            "See the caveats in the documentation: https://pandas.pydata.org/pandas-docs/stable/user_guide/indexing.html#returning-a-view-versus-a-copy\n",
            "\n"
          ]
        },
        {
          "output_type": "execute_result",
          "data": {
            "text/plain": [
              "5       1\n",
              "132     1\n",
              "218     1\n",
              "260     1\n",
              "276     1\n",
              "       ..\n",
              "7385    1\n",
              "7400    4\n",
              "7492    1\n",
              "7666    2\n",
              "7721    2\n",
              "Name: duration, Length: 145, dtype: int64"
            ]
          },
          "metadata": {},
          "execution_count": 44
        }
      ]
    },
    {
      "cell_type": "code",
      "source": [
        "# Aqui vamos a extrair os Títulos dos programas de Televisão e seu número de temporadas\n",
        "\n",
        "#Extraímos as seguintes colunas\n",
        "columns = [\"title\", \"duration\"]\n",
        "tv_shows = tv_df[columns]\n"
      ],
      "metadata": {
        "id": "c4pvzv8oysAv"
      },
      "execution_count": 45,
      "outputs": []
    },
    {
      "cell_type": "code",
      "source": [
        "# sort the DataFrame by number of seasons\n",
        "tv_shows = tv_shows.sort_values(by = \"duration\", ascending = False)   # tv_shows.shape ==> (145, 2) \n",
        "\n",
        "# tv_shows\n",
        "top20 = tv_shows[0:20]\n",
        "top20"
      ],
      "metadata": {
        "colab": {
          "base_uri": "https://localhost:8080/",
          "height": 0
        },
        "id": "dLprwlx12ugr",
        "outputId": "3844b578-672a-4191-d8a3-c1cb1f032be7"
      },
      "execution_count": 46,
      "outputs": [
        {
          "output_type": "execute_result",
          "data": {
            "text/html": [
              "\n",
              "  <div id=\"df-56831186-c34f-46b2-b7f7-1870b12aacee\">\n",
              "    <div class=\"colab-df-container\">\n",
              "      <div>\n",
              "<style scoped>\n",
              "    .dataframe tbody tr th:only-of-type {\n",
              "        vertical-align: middle;\n",
              "    }\n",
              "\n",
              "    .dataframe tbody tr th {\n",
              "        vertical-align: top;\n",
              "    }\n",
              "\n",
              "    .dataframe thead th {\n",
              "        text-align: right;\n",
              "    }\n",
              "</style>\n",
              "<table border=\"1\" class=\"dataframe\">\n",
              "  <thead>\n",
              "    <tr style=\"text-align: right;\">\n",
              "      <th></th>\n",
              "      <th>title</th>\n",
              "      <th>duration</th>\n",
              "    </tr>\n",
              "  </thead>\n",
              "  <tbody>\n",
              "    <tr>\n",
              "      <th>5912</th>\n",
              "      <td>Supernatural</td>\n",
              "      <td>15</td>\n",
              "    </tr>\n",
              "    <tr>\n",
              "      <th>4404</th>\n",
              "      <td>Naruto</td>\n",
              "      <td>9</td>\n",
              "    </tr>\n",
              "    <tr>\n",
              "      <th>1181</th>\n",
              "      <td>Call the Midwife</td>\n",
              "      <td>9</td>\n",
              "    </tr>\n",
              "    <tr>\n",
              "      <th>584</th>\n",
              "      <td>Arrow</td>\n",
              "      <td>8</td>\n",
              "    </tr>\n",
              "    <tr>\n",
              "      <th>6415</th>\n",
              "      <td>The Great British Baking Show</td>\n",
              "      <td>8</td>\n",
              "    </tr>\n",
              "    <tr>\n",
              "      <th>5291</th>\n",
              "      <td>Royal Pains</td>\n",
              "      <td>8</td>\n",
              "    </tr>\n",
              "    <tr>\n",
              "      <th>6359</th>\n",
              "      <td>The Flash</td>\n",
              "      <td>6</td>\n",
              "    </tr>\n",
              "    <tr>\n",
              "      <th>2130</th>\n",
              "      <td>Father Brown</td>\n",
              "      <td>6</td>\n",
              "    </tr>\n",
              "    <tr>\n",
              "      <th>1470</th>\n",
              "      <td>Comedians in Cars Getting Coffee</td>\n",
              "      <td>6</td>\n",
              "    </tr>\n",
              "    <tr>\n",
              "      <th>2313</th>\n",
              "      <td>Fullmetal Alchemist: Brotherhood</td>\n",
              "      <td>5</td>\n",
              "    </tr>\n",
              "    <tr>\n",
              "      <th>5908</th>\n",
              "      <td>Supergirl</td>\n",
              "      <td>5</td>\n",
              "    </tr>\n",
              "    <tr>\n",
              "      <th>2504</th>\n",
              "      <td>Gotham</td>\n",
              "      <td>5</td>\n",
              "    </tr>\n",
              "    <tr>\n",
              "      <th>1647</th>\n",
              "      <td>DC's Legends of Tomorrow</td>\n",
              "      <td>5</td>\n",
              "    </tr>\n",
              "    <tr>\n",
              "      <th>4121</th>\n",
              "      <td>Miraculous: Tales of Ladybug &amp; Cat Noir</td>\n",
              "      <td>5</td>\n",
              "    </tr>\n",
              "    <tr>\n",
              "      <th>4047</th>\n",
              "      <td>Merlin</td>\n",
              "      <td>5</td>\n",
              "    </tr>\n",
              "    <tr>\n",
              "      <th>4033</th>\n",
              "      <td>Men on a Mission</td>\n",
              "      <td>5</td>\n",
              "    </tr>\n",
              "    <tr>\n",
              "      <th>5226</th>\n",
              "      <td>Riverdale</td>\n",
              "      <td>4</td>\n",
              "    </tr>\n",
              "    <tr>\n",
              "      <th>3544</th>\n",
              "      <td>Last Tango in Halifax</td>\n",
              "      <td>4</td>\n",
              "    </tr>\n",
              "    <tr>\n",
              "      <th>1687</th>\n",
              "      <td>Degrassi: Next Class</td>\n",
              "      <td>4</td>\n",
              "    </tr>\n",
              "    <tr>\n",
              "      <th>7400</th>\n",
              "      <td>Velvet</td>\n",
              "      <td>4</td>\n",
              "    </tr>\n",
              "  </tbody>\n",
              "</table>\n",
              "</div>\n",
              "      <button class=\"colab-df-convert\" onclick=\"convertToInteractive('df-56831186-c34f-46b2-b7f7-1870b12aacee')\"\n",
              "              title=\"Convert this dataframe to an interactive table.\"\n",
              "              style=\"display:none;\">\n",
              "        \n",
              "  <svg xmlns=\"http://www.w3.org/2000/svg\" height=\"24px\"viewBox=\"0 0 24 24\"\n",
              "       width=\"24px\">\n",
              "    <path d=\"M0 0h24v24H0V0z\" fill=\"none\"/>\n",
              "    <path d=\"M18.56 5.44l.94 2.06.94-2.06 2.06-.94-2.06-.94-.94-2.06-.94 2.06-2.06.94zm-11 1L8.5 8.5l.94-2.06 2.06-.94-2.06-.94L8.5 2.5l-.94 2.06-2.06.94zm10 10l.94 2.06.94-2.06 2.06-.94-2.06-.94-.94-2.06-.94 2.06-2.06.94z\"/><path d=\"M17.41 7.96l-1.37-1.37c-.4-.4-.92-.59-1.43-.59-.52 0-1.04.2-1.43.59L10.3 9.45l-7.72 7.72c-.78.78-.78 2.05 0 2.83L4 21.41c.39.39.9.59 1.41.59.51 0 1.02-.2 1.41-.59l7.78-7.78 2.81-2.81c.8-.78.8-2.07 0-2.86zM5.41 20L4 18.59l7.72-7.72 1.47 1.35L5.41 20z\"/>\n",
              "  </svg>\n",
              "      </button>\n",
              "      \n",
              "  <style>\n",
              "    .colab-df-container {\n",
              "      display:flex;\n",
              "      flex-wrap:wrap;\n",
              "      gap: 12px;\n",
              "    }\n",
              "\n",
              "    .colab-df-convert {\n",
              "      background-color: #E8F0FE;\n",
              "      border: none;\n",
              "      border-radius: 50%;\n",
              "      cursor: pointer;\n",
              "      display: none;\n",
              "      fill: #1967D2;\n",
              "      height: 32px;\n",
              "      padding: 0 0 0 0;\n",
              "      width: 32px;\n",
              "    }\n",
              "\n",
              "    .colab-df-convert:hover {\n",
              "      background-color: #E2EBFA;\n",
              "      box-shadow: 0px 1px 2px rgba(60, 64, 67, 0.3), 0px 1px 3px 1px rgba(60, 64, 67, 0.15);\n",
              "      fill: #174EA6;\n",
              "    }\n",
              "\n",
              "    [theme=dark] .colab-df-convert {\n",
              "      background-color: #3B4455;\n",
              "      fill: #D2E3FC;\n",
              "    }\n",
              "\n",
              "    [theme=dark] .colab-df-convert:hover {\n",
              "      background-color: #434B5C;\n",
              "      box-shadow: 0px 1px 3px 1px rgba(0, 0, 0, 0.15);\n",
              "      filter: drop-shadow(0px 1px 2px rgba(0, 0, 0, 0.3));\n",
              "      fill: #FFFFFF;\n",
              "    }\n",
              "  </style>\n",
              "\n",
              "      <script>\n",
              "        const buttonEl =\n",
              "          document.querySelector('#df-56831186-c34f-46b2-b7f7-1870b12aacee button.colab-df-convert');\n",
              "        buttonEl.style.display =\n",
              "          google.colab.kernel.accessAllowed ? 'block' : 'none';\n",
              "\n",
              "        async function convertToInteractive(key) {\n",
              "          const element = document.querySelector('#df-56831186-c34f-46b2-b7f7-1870b12aacee');\n",
              "          const dataTable =\n",
              "            await google.colab.kernel.invokeFunction('convertToInteractive',\n",
              "                                                     [key], {});\n",
              "          if (!dataTable) return;\n",
              "\n",
              "          const docLinkHtml = 'Like what you see? Visit the ' +\n",
              "            '<a target=\"_blank\" href=https://colab.research.google.com/notebooks/data_table.ipynb>data table notebook</a>'\n",
              "            + ' to learn more about interactive tables.';\n",
              "          element.innerHTML = '';\n",
              "          dataTable['output_type'] = 'display_data';\n",
              "          await google.colab.output.renderOutput(dataTable, element);\n",
              "          const docLink = document.createElement('div');\n",
              "          docLink.innerHTML = docLinkHtml;\n",
              "          element.appendChild(docLink);\n",
              "        }\n",
              "      </script>\n",
              "    </div>\n",
              "  </div>\n",
              "  "
            ],
            "text/plain": [
              "                                        title  duration\n",
              "5912                             Supernatural        15\n",
              "4404                                   Naruto         9\n",
              "1181                         Call the Midwife         9\n",
              "584                                     Arrow         8\n",
              "6415            The Great British Baking Show         8\n",
              "5291                              Royal Pains         8\n",
              "6359                                The Flash         6\n",
              "2130                             Father Brown         6\n",
              "1470         Comedians in Cars Getting Coffee         6\n",
              "2313         Fullmetal Alchemist: Brotherhood         5\n",
              "5908                                Supergirl         5\n",
              "2504                                   Gotham         5\n",
              "1647                 DC's Legends of Tomorrow         5\n",
              "4121  Miraculous: Tales of Ladybug & Cat Noir         5\n",
              "4047                                   Merlin         5\n",
              "4033                         Men on a Mission         5\n",
              "5226                                Riverdale         4\n",
              "3544                    Last Tango in Halifax         4\n",
              "1687                     Degrassi: Next Class         4\n",
              "7400                                   Velvet         4"
            ]
          },
          "metadata": {},
          "execution_count": 46
        }
      ]
    },
    {
      "cell_type": "code",
      "source": [
        "# A seguir visualizamos a análise anterior:\n",
        "\n",
        "plt.figure(figsize = (100, 6))\n",
        "top20.plot(kind = \"bar\", x = \"title\", y = \"duration\", color = \"blue\")\n",
        "plt.title(\"Programas de Televisão que tem mais temporadas\", fontsize = 15, color = \"red\");\n",
        "\n"
      ],
      "metadata": {
        "colab": {
          "base_uri": "https://localhost:8080/",
          "height": 0
        },
        "id": "oE3v3Bnq39oQ",
        "outputId": "d52d1bcd-98b6-45a5-97a5-93e222870ff6"
      },
      "execution_count": 47,
      "outputs": [
        {
          "output_type": "display_data",
          "data": {
            "text/plain": [
              "<Figure size 7200x432 with 0 Axes>"
            ]
          },
          "metadata": {}
        },
        {
          "output_type": "display_data",
          "data": {
            "image/png": "[encoded data removed]",
            "text/plain": [
              "<Figure size 432x288 with 1 Axes>"
            ]
          },
          "metadata": {}
        }
      ]
    },
    {
      "cell_type": "code",
      "source": [
        "# TV Shows e suas temporadas\n",
        "\n",
        "plt.figure(figsize = (10, 6))\n",
        "labels = [\"1 Season\", \"2 Season\", \"3 Season\"]\n",
        "_, _, texts = plt.pie(df.duration.value_counts()[:3], labels = labels, autopct = \"%1.2f%%\", startangle = 90,\n",
        "                      explode = (0.0, 0.1, 0.2), colors = [\"#003f5c\", \"#bc5090\", \"#ffa600\"])\n",
        "\n",
        "\n",
        "plt.axis(\"equal\")\n",
        "plt.title(\"Temporada disponível na Netflix\", fontsize = 20, fontweight = \"bold\")\n",
        "\n",
        "\n",
        "for text in texts:\n",
        "  text.set_color(\"white\")\n"
      ],
      "metadata": {
        "id": "tlsSCuqK5Uyd",
        "colab": {
          "base_uri": "https://localhost:8080/",
          "height": 0
        },
        "outputId": "95329c05-cb81-4fd0-c2dc-91e857ea35a3"
      },
      "execution_count": 48,
      "outputs": [
        {
          "output_type": "display_data",
          "data": {
            "image/png": "[encoded data removed]",
            "text/plain": [
              "<Figure size 720x432 with 1 Axes>"
            ]
          },
          "metadata": {}
        }
      ]
    },
    {
      "cell_type": "markdown",
      "source": [
        "### <font color=\"orange\">Paises no teto para a criação de conteúdo de Filmes</font>\n",
        "\n",
        "Insights: \n",
        "\n",
        "* Os três primeiros paises: **Estados Unidos** cria a maior quantidade de filmes, seguido da **India** e logo pelo **Reino Unido**."
      ],
      "metadata": {
        "id": "sBTObIwfHmRN"
      }
    },
    {
      "cell_type": "code",
      "source": [
        "plt.figure(figsize=(25, 8))\n",
        "sns.set(style = \"darkgrid\")\n",
        "sns.countplot(x = \"country_main\", data = movie_df, palette = \"tab20b\", order = movie_df[\"country_main\"].value_counts().index[0:15])\n",
        "plt.title(\"Paises que produzem mais filmes\", fontsize = 25, color = \"blue\");"
      ],
      "metadata": {
        "colab": {
          "base_uri": "https://localhost:8080/",
          "height": 526
        },
        "id": "CjUvurJ9HIEs",
        "outputId": "65b86819-e686-4075-8df0-fb0443292326"
      },
      "execution_count": 49,
      "outputs": [
        {
          "output_type": "display_data",
          "data": {
            "image/png": "[encoded data removed]",
            "text/plain": [
              "<Figure size 1800x576 with 1 Axes>"
            ]
          },
          "metadata": {}
        }
      ]
    },
    {
      "cell_type": "markdown",
      "source": [
        "### <font color=\"orange\">Paises que criam mais TV Show</font>\n"
      ],
      "metadata": {
        "id": "1WjHEY47J8X5"
      }
    },
    {
      "cell_type": "code",
      "source": [
        "plt.figure(figsize=(25, 8))\n",
        "sns.set(style = \"darkgrid\")\n",
        "sns.countplot(x = \"country_main\", data = tv_df, palette = \"dark\", order = tv_df[\"country_main\"].value_counts().index[0:15])\n",
        "plt.title(\"Paises que realizam mais TV Show\", fontsize = 25, color = \"blue\");"
      ],
      "metadata": {
        "colab": {
          "base_uri": "https://localhost:8080/",
          "height": 0
        },
        "id": "VSno-CvdJcud",
        "outputId": "c3eb9be6-929f-417e-cbb6-df64727f4162"
      },
      "execution_count": 50,
      "outputs": [
        {
          "output_type": "display_data",
          "data": {
            "image/png": "[encoded data removed]",
            "text/plain": [
              "<Figure size 1800x576 with 1 Axes>"
            ]
          },
          "metadata": {}
        }
      ]
    },
    {
      "cell_type": "markdown",
      "source": [
        "### <font color=\"orange\">Compreender que conteúdo está disponível em diferentes paises</font>"
      ],
      "metadata": {
        "id": "HmJn0xiBLE5Q"
      }
    },
    {
      "cell_type": "code",
      "source": [
        "# Gênero de filmes por país\n",
        "\n",
        "columns = [\"Genero\", \"country_main\"]\n",
        "gen_country = df[columns]\n",
        "gen_country.head(6)\n"
      ],
      "metadata": {
        "colab": {
          "base_uri": "https://localhost:8080/",
          "height": 0
        },
        "id": "ZdoRnsF7KsGC",
        "outputId": "f76829f7-7a36-4b20-88d9-7b264242f3b3"
      },
      "execution_count": 51,
      "outputs": [
        {
          "output_type": "execute_result",
          "data": {
            "text/html": [
              "\n",
              "  <div id=\"df-8cb48fc3-9b55-4eb7-910b-c1b2495111f7\">\n",
              "    <div class=\"colab-df-container\">\n",
              "      <div>\n",
              "<style scoped>\n",
              "    .dataframe tbody tr th:only-of-type {\n",
              "        vertical-align: middle;\n",
              "    }\n",
              "\n",
              "    .dataframe tbody tr th {\n",
              "        vertical-align: top;\n",
              "    }\n",
              "\n",
              "    .dataframe thead th {\n",
              "        text-align: right;\n",
              "    }\n",
              "</style>\n",
              "<table border=\"1\" class=\"dataframe\">\n",
              "  <thead>\n",
              "    <tr style=\"text-align: right;\">\n",
              "      <th></th>\n",
              "      <th>Genero</th>\n",
              "      <th>country_main</th>\n",
              "    </tr>\n",
              "  </thead>\n",
              "  <tbody>\n",
              "    <tr>\n",
              "      <th>1</th>\n",
              "      <td>Dramas</td>\n",
              "      <td>Mexico</td>\n",
              "    </tr>\n",
              "    <tr>\n",
              "      <th>2</th>\n",
              "      <td>Horror Movies</td>\n",
              "      <td>Singapore</td>\n",
              "    </tr>\n",
              "    <tr>\n",
              "      <th>3</th>\n",
              "      <td>Action &amp; Adventure</td>\n",
              "      <td>United States</td>\n",
              "    </tr>\n",
              "    <tr>\n",
              "      <th>4</th>\n",
              "      <td>Dramas</td>\n",
              "      <td>United States</td>\n",
              "    </tr>\n",
              "    <tr>\n",
              "      <th>5</th>\n",
              "      <td>International TV Shows</td>\n",
              "      <td>Turkey</td>\n",
              "    </tr>\n",
              "    <tr>\n",
              "      <th>6</th>\n",
              "      <td>Horror Movies</td>\n",
              "      <td>Egypt</td>\n",
              "    </tr>\n",
              "  </tbody>\n",
              "</table>\n",
              "</div>\n",
              "      <button class=\"colab-df-convert\" onclick=\"convertToInteractive('df-8cb48fc3-9b55-4eb7-910b-c1b2495111f7')\"\n",
              "              title=\"Convert this dataframe to an interactive table.\"\n",
              "              style=\"display:none;\">\n",
              "        \n",
              "  <svg xmlns=\"http://www.w3.org/2000/svg\" height=\"24px\"viewBox=\"0 0 24 24\"\n",
              "       width=\"24px\">\n",
              "    <path d=\"M0 0h24v24H0V0z\" fill=\"none\"/>\n",
              "    <path d=\"M18.56 5.44l.94 2.06.94-2.06 2.06-.94-2.06-.94-.94-2.06-.94 2.06-2.06.94zm-11 1L8.5 8.5l.94-2.06 2.06-.94-2.06-.94L8.5 2.5l-.94 2.06-2.06.94zm10 10l.94 2.06.94-2.06 2.06-.94-2.06-.94-.94-2.06-.94 2.06-2.06.94z\"/><path d=\"M17.41 7.96l-1.37-1.37c-.4-.4-.92-.59-1.43-.59-.52 0-1.04.2-1.43.59L10.3 9.45l-7.72 7.72c-.78.78-.78 2.05 0 2.83L4 21.41c.39.39.9.59 1.41.59.51 0 1.02-.2 1.41-.59l7.78-7.78 2.81-2.81c.8-.78.8-2.07 0-2.86zM5.41 20L4 18.59l7.72-7.72 1.47 1.35L5.41 20z\"/>\n",
              "  </svg>\n",
              "      </button>\n",
              "      \n",
              "  <style>\n",
              "    .colab-df-container {\n",
              "      display:flex;\n",
              "      flex-wrap:wrap;\n",
              "      gap: 12px;\n",
              "    }\n",
              "\n",
              "    .colab-df-convert {\n",
              "      background-color: #E8F0FE;\n",
              "      border: none;\n",
              "      border-radius: 50%;\n",
              "      cursor: pointer;\n",
              "      display: none;\n",
              "      fill: #1967D2;\n",
              "      height: 32px;\n",
              "      padding: 0 0 0 0;\n",
              "      width: 32px;\n",
              "    }\n",
              "\n",
              "    .colab-df-convert:hover {\n",
              "      background-color: #E2EBFA;\n",
              "      box-shadow: 0px 1px 2px rgba(60, 64, 67, 0.3), 0px 1px 3px 1px rgba(60, 64, 67, 0.15);\n",
              "      fill: #174EA6;\n",
              "    }\n",
              "\n",
              "    [theme=dark] .colab-df-convert {\n",
              "      background-color: #3B4455;\n",
              "      fill: #D2E3FC;\n",
              "    }\n",
              "\n",
              "    [theme=dark] .colab-df-convert:hover {\n",
              "      background-color: #434B5C;\n",
              "      box-shadow: 0px 1px 3px 1px rgba(0, 0, 0, 0.15);\n",
              "      filter: drop-shadow(0px 1px 2px rgba(0, 0, 0, 0.3));\n",
              "      fill: #FFFFFF;\n",
              "    }\n",
              "  </style>\n",
              "\n",
              "      <script>\n",
              "        const buttonEl =\n",
              "          document.querySelector('#df-8cb48fc3-9b55-4eb7-910b-c1b2495111f7 button.colab-df-convert');\n",
              "        buttonEl.style.display =\n",
              "          google.colab.kernel.accessAllowed ? 'block' : 'none';\n",
              "\n",
              "        async function convertToInteractive(key) {\n",
              "          const element = document.querySelector('#df-8cb48fc3-9b55-4eb7-910b-c1b2495111f7');\n",
              "          const dataTable =\n",
              "            await google.colab.kernel.invokeFunction('convertToInteractive',\n",
              "                                                     [key], {});\n",
              "          if (!dataTable) return;\n",
              "\n",
              "          const docLinkHtml = 'Like what you see? Visit the ' +\n",
              "            '<a target=\"_blank\" href=https://colab.research.google.com/notebooks/data_table.ipynb>data table notebook</a>'\n",
              "            + ' to learn more about interactive tables.';\n",
              "          element.innerHTML = '';\n",
              "          dataTable['output_type'] = 'display_data';\n",
              "          await google.colab.output.renderOutput(dataTable, element);\n",
              "          const docLink = document.createElement('div');\n",
              "          docLink.innerHTML = docLinkHtml;\n",
              "          element.appendChild(docLink);\n",
              "        }\n",
              "      </script>\n",
              "    </div>\n",
              "  </div>\n",
              "  "
            ],
            "text/plain": [
              "                   Genero   country_main\n",
              "1                  Dramas         Mexico\n",
              "2           Horror Movies      Singapore\n",
              "3      Action & Adventure  United States\n",
              "4                  Dramas  United States\n",
              "5  International TV Shows         Turkey\n",
              "6           Horror Movies          Egypt"
            ]
          },
          "metadata": {},
          "execution_count": 51
        }
      ]
    },
    {
      "cell_type": "code",
      "source": [
        "# Genres by Countries\n",
        "\n",
        "# import squarify\n",
        "\n",
        "# plt.figure(figsize = (20, 12))\n",
        "# squarify.plot(value = gen_country[\"Genero\"], label = gen_country[\"country_main\"], sizes=.2, alpha = 0.8);\n",
        "# plt.rc(\"font\", size = 14);\n",
        "# plt.show();\n"
      ],
      "metadata": {
        "id": "N9rEKh0rMR3Q"
      },
      "execution_count": 52,
      "outputs": []
    },
    {
      "cell_type": "markdown",
      "source": [
        "### <font color=\"orange\">Número de programas lançados por ano</font>"
      ],
      "metadata": {
        "id": "0UQK4kTfVpYB"
      }
    },
    {
      "cell_type": "code",
      "source": [
        "release = df[\"release_year\"].value_counts()\n",
        "release = release.sort_index(ascending = True)\n",
        "\n",
        "\n",
        "plt.figure(figsize = (12, 8))\n",
        "plt.plot(release[-11: -1])\n",
        "plt.scatter(release[-11: -1].index, release[-11: -1].values, s=0.5*release[-11: -1].values, c=\"lime\")\n",
        "#plt.box(on=None)\n",
        "plt.xticks(rotation=50)\n",
        "plt.xticks(release[-11: -1].index)\n",
        "plt.title(\"Número de programas publicados cada ano\", color=\"red\", fontsize=25)\n",
        "\n"
      ],
      "metadata": {
        "colab": {
          "base_uri": "https://localhost:8080/",
          "height": 0
        },
        "id": "9LntTedhTDjE",
        "outputId": "252a12b3-b8b8-451b-dc0f-1c2a455979e2"
      },
      "execution_count": 53,
      "outputs": [
        {
          "output_type": "execute_result",
          "data": {
            "text/plain": [
              "Text(0.5, 1.0, 'Número de programas publicados cada ano')"
            ]
          },
          "metadata": {},
          "execution_count": 53
        },
        {
          "output_type": "display_data",
          "data": {
            "image/png": "[encoded data removed]",
            "text/plain": [
              "<Figure size 864x576 with 1 Axes>"
            ]
          },
          "metadata": {}
        }
      ]
    },
    {
      "cell_type": "markdown",
      "source": [
        "### <font color=\"orange\">Diretores com maior número de Filmes produzidos</font>\n",
        "\n",
        "Insight:\n",
        "\n",
        "* Os diretores Raúl Campos e Jan Suter (juntos) produziram o maior número de filmes. Até agora eles produziram $18$ filmes."
      ],
      "metadata": {
        "id": "wu-7T3XpYbab"
      }
    },
    {
      "cell_type": "code",
      "source": [
        "plt.figure(figsize=(10, 8))\n",
        "sns.barplot(y=movie_df.director.value_counts()[:10].sort_values().index, x=movie_df.director.value_counts()[:10].sort_values().values)\n",
        "plt.title(\"Diretor com a maior quantidade de Filmes\", color=\"red\", fontsize=18)\n",
        "plt.xticks(movie_df.director.value_counts()[:10].sort_values().values)\n",
        "plt.xlabel(\"Número de Filmes lançados\")\n"
      ],
      "metadata": {
        "colab": {
          "base_uri": "https://localhost:8080/",
          "height": 0
        },
        "id": "hD-zgV-mXk7K",
        "outputId": "155ec23b-ef08-4677-a4b6-e739cb452137"
      },
      "execution_count": 54,
      "outputs": [
        {
          "output_type": "execute_result",
          "data": {
            "text/plain": [
              "Text(0.5, 0, 'Número de Filmes lançados')"
            ]
          },
          "metadata": {},
          "execution_count": 54
        },
        {
          "output_type": "display_data",
          "data": {
            "image/png": "[encoded data removed]",
            "text/plain": [
              "<Figure size 720x576 with 1 Axes>"
            ]
          },
          "metadata": {}
        }
      ]
    },
    {
      "cell_type": "code",
      "source": [
        "plt.figure(figsize=(13, 8))\n",
        "sns.barplot(y=tv_df.director.value_counts()[:10].sort_values().index, palette=\"dark\", x=tv_df.director.value_counts()[:10].sort_values().values)\n",
        "plt.title(\"Diretor com a maior quantidade de Programas de Televisão\", color=\"green\", fontsize=25)\n",
        "plt.xticks(tv_df.director.value_counts()[:10].sort_values().values)\n",
        "plt.xlabel(\"Número de Séries lançadas\");\n"
      ],
      "metadata": {
        "id": "NbkSUgA2ZWAF",
        "colab": {
          "base_uri": "https://localhost:8080/",
          "height": 0
        },
        "outputId": "182f9556-e4bd-46fc-d886-f118c6ea7ef8"
      },
      "execution_count": 55,
      "outputs": [
        {
          "output_type": "display_data",
          "data": {
            "image/png": "[encoded data removed]",
            "text/plain": [
              "<Figure size 936x576 with 1 Axes>"
            ]
          },
          "metadata": {}
        }
      ]
    },
    {
      "cell_type": "markdown",
      "source": [
        "### <font color=\"orange\">Gênero mais populares na Netflix</font>"
      ],
      "metadata": {
        "id": "Dge-P0R2VEkd"
      }
    },
    {
      "cell_type": "code",
      "source": [
        "plt.figure(figsize=(25, 8))\n",
        "sns.barplot(x=df.Genero.value_counts()[:10].sort_values().index, y=df.Genero.value_counts()[:10].sort_values().values, palette=\"viridis\")\n",
        "plt.title(\"Gênero mais popular\", color=\"blue\", fontsize=20)\n",
        "plt.yticks(df.Genero.value_counts()[:10].sort_values().values)\n",
        "plt.xlabel(\"Gênero\")\n",
        "plt.ylabel(\"Número de conteúdo\")"
      ],
      "metadata": {
        "colab": {
          "base_uri": "https://localhost:8080/",
          "height": 0
        },
        "id": "QPuBgu5cSA65",
        "outputId": "5857870d-74b3-4d4c-e85a-5ebf990f2ab9"
      },
      "execution_count": 56,
      "outputs": [
        {
          "output_type": "execute_result",
          "data": {
            "text/plain": [
              "Text(0, 0.5, 'Número de conteúdo')"
            ]
          },
          "metadata": {},
          "execution_count": 56
        },
        {
          "output_type": "display_data",
          "data": {
            "image/png": "[encoded data removed]",
            "text/plain": [
              "<Figure size 1800x576 with 1 Axes>"
            ]
          },
          "metadata": {}
        }
      ]
    },
    {
      "cell_type": "markdown",
      "source": [
        "### <font color=\"orange\">Top Actor/Actresses na Netflix</font>"
      ],
      "metadata": {
        "id": "Fbjz9OivWgGd"
      }
    },
    {
      "cell_type": "code",
      "source": [
        "plt.figure(figsize=(20, 10))\n",
        "sns.barplot(y=df.cast.value_counts()[:15].sort_values().index, x=df.cast.value_counts()[:15].sort_values().values, palette=\"gnuplot_r\")\n",
        "plt.title(\"Melhor Ator/Atriz na Netflix\", color=\"purple\", fontsize=30)\n",
        "plt.xticks(df.cast.value_counts()[:10].sort_values().values)\n",
        "plt.ylabel(\"Ator/Atriz\", fontsize=20)\n",
        "plt.ylabel(\"Contagens de conteúdo\", fontsize=25);"
      ],
      "metadata": {
        "colab": {
          "base_uri": "https://localhost:8080/",
          "height": 0
        },
        "id": "YFNbjwQ_WNMz",
        "outputId": "4dcdf16e-3fa1-49d9-f3df-39c358d40818"
      },
      "execution_count": 57,
      "outputs": [
        {
          "output_type": "display_data",
          "data": {
            "image/png": "[encoded data removed]",
            "text/plain": [
              "<Figure size 1440x720 with 1 Axes>"
            ]
          },
          "metadata": {}
        }
      ]
    },
    {
      "cell_type": "markdown",
      "source": [
        "### <font color=\"orange\">Melhor mês para que os diretores publiquem materiais (conteúdo)</font>\n",
        "\n",
        "Podemos analisar os meses nos quais se adiciona menor ou maior quantidade de material (conteúdo).Podemos analisar, também, que meses podem ser os melhores para que os diretores publiquem material (conteúdo) para uma melhor atenção da audência."
      ],
      "metadata": {
        "id": "JPngg1IrY2um"
      }
    },
    {
      "cell_type": "code",
      "source": [
        "df_copy = df.copy()\n",
        "net_date = df_copy[[\"date_added\"]]\n",
        "net_date[\"year\"] = net_date[\"date_added\"].apply(lambda x: x.split(\",\")[-1])\n",
        "net_date[\"month\"] = net_date[\"date_added\"].apply(lambda x: x.lstrip().split(\" \")[0])\n",
        "\n",
        "month_order = [\"January\", \"February\", \"March\", \"April\", \"May\", \"June\", \"July\", \"August\", \"September\", \"October\", \"November\", \"December\"][::-1]\n",
        "df_copy = net_date.groupby(\"year\")[\"month\"].value_counts().unstack().fillna(0)[month_order].T\n"
      ],
      "metadata": {
        "colab": {
          "base_uri": "https://localhost:8080/"
        },
        "id": "PNIrxcQAYB4v",
        "outputId": "444553ea-75e7-4396-ef13-42bcf902c38a"
      },
      "execution_count": 58,
      "outputs": [
        {
          "output_type": "stream",
          "name": "stderr",
          "text": [
            "/usr/local/lib/python3.7/dist-packages/ipykernel_launcher.py:3: SettingWithCopyWarning:\n",
            "\n",
            "\n",
            "A value is trying to be set on a copy of a slice from a DataFrame.\n",
            "Try using .loc[row_indexer,col_indexer] = value instead\n",
            "\n",
            "See the caveats in the documentation: https://pandas.pydata.org/pandas-docs/stable/user_guide/indexing.html#returning-a-view-versus-a-copy\n",
            "\n",
            "/usr/local/lib/python3.7/dist-packages/ipykernel_launcher.py:4: SettingWithCopyWarning:\n",
            "\n",
            "\n",
            "A value is trying to be set on a copy of a slice from a DataFrame.\n",
            "Try using .loc[row_indexer,col_indexer] = value instead\n",
            "\n",
            "See the caveats in the documentation: https://pandas.pydata.org/pandas-docs/stable/user_guide/indexing.html#returning-a-view-versus-a-copy\n",
            "\n"
          ]
        }
      ]
    },
    {
      "cell_type": "code",
      "source": [
        "plt.figure(figsize=(10, 7), dpi=100)\n",
        "plt.pcolor(df_copy, cmap=\"BrBG\", edgecolors=\"white\", linewidths=2) # heatmap\n",
        "plt.xticks(np.arange(0.5, len(df_copy.columns), 1), df_copy.columns, fontsize=7, fontfamily=\"serif\")\n",
        "plt.yticks(np.arange(0.5, len(df_copy.index), 1), df_copy.index, fontsize=7, fontfamily=\"serif\")\n",
        "\n",
        "\n",
        "plt.title(\"Atualização do conteúdo da Netflix\", fontsize=12, fontfamily=\"calibri\", fontweight=\"bold\")\n",
        "cbar = plt.colorbar()\n",
        "cbar.solids.set_edgecolor(\"face\")\n",
        "\n",
        "cbar.ax.tick_params(labelsize=8)\n",
        "cbar.ax.minorticks_on()\n",
        "plt.show()\n"
      ],
      "metadata": {
        "id": "tiZZ9dh6wixX",
        "colab": {
          "base_uri": "https://localhost:8080/",
          "height": 628
        },
        "outputId": "7b87ca26-164b-40fc-efe5-875974ed7e32"
      },
      "execution_count": 59,
      "outputs": [
        {
          "output_type": "stream",
          "name": "stderr",
          "text": [
            "findfont: Font family ['calibri'] not found. Falling back to DejaVu Sans.\n"
          ]
        },
        {
          "output_type": "display_data",
          "data": {
            "image/png": "[encoded data removed]",
            "text/plain": [
              "<Figure size 1000x700 with 2 Axes>"
            ]
          },
          "metadata": {}
        }
      ]
    },
    {
      "cell_type": "code",
      "source": [
        "title = \"Los 5 paises principales em quanto a películas estrenadas\"\n",
        "countries = {}\n",
        "\n",
        "for country in df.country.dropna():\n",
        "  for sub_country in str(country).split(\",\"):\n",
        "    if sub_country not in countries:\n",
        "      countries[sub_country] = 1\n",
        "    else:\n",
        "      countries[sub_country] += 1\n",
        "\n",
        "df_countries = pd.DataFrame(list(countries.items()), columns = [\"country\", \"count\"]).sort_values(by = [\"count\"])\n",
        "_ = plt.subplots(figsize = (10, 8))\n",
        "_ = plt.xticks(rotation = 60)\n",
        "_ = plt.title(title, color=\"blue\", fontsize=20)\n",
        "plots = sns.barplot(data = df_countries.tail()[::-1], x = \"country\", y = \"count\")\n",
        "\n",
        "for bar in plots.patches:\n",
        "  _=plots.annotate(format(bar.get_height(), \".0f\"),\n",
        "                   (bar.get_x() + bar.get_width()/2,\n",
        "                    bar.get_height() - (bar.get_height() - 3.1)/2), ha = \"center\", va=\"center\",\n",
        "                    size=15, xytext=(0, 0), bbox=dict(boxstyle=\"round4, pad=0.6\", fc=\"w\", ec=\"black\", lw=2),\n",
        "                    textcoords=\"offset points\")\n",
        "_ = plt.savefig(title+ \".\" +img_fmt, format = img_fmt)                   \n",
        "        \n"
      ],
      "metadata": {
        "colab": {
          "base_uri": "https://localhost:8080/",
          "height": 806
        },
        "id": "YFTTWFnBW33e",
        "outputId": "a874e0c4-5bd5-49d4-a8d1-afa75069d32e"
      },
      "execution_count": 60,
      "outputs": [
        {
          "output_type": "error",
          "ename": "NameError",
          "evalue": "ignored",
          "traceback": [
            "\u001b[0;31m---------------------------------------------------------------------------\u001b[0m",
            "\u001b[0;31mNameError\u001b[0m                                 Traceback (most recent call last)",
            "\u001b[0;32m<ipython-input-60-1d160db4982a>\u001b[0m in \u001b[0;36m<module>\u001b[0;34m()\u001b[0m\n\u001b[1;32m     21\u001b[0m                     \u001b[0msize\u001b[0m\u001b[0;34m=\u001b[0m\u001b[0;36m15\u001b[0m\u001b[0;34m,\u001b[0m \u001b[0mxytext\u001b[0m\u001b[0;34m=\u001b[0m\u001b[0;34m(\u001b[0m\u001b[0;36m0\u001b[0m\u001b[0;34m,\u001b[0m \u001b[0;36m0\u001b[0m\u001b[0;34m)\u001b[0m\u001b[0;34m,\u001b[0m \u001b[0mbbox\u001b[0m\u001b[0;34m=\u001b[0m\u001b[0mdict\u001b[0m\u001b[0;34m(\u001b[0m\u001b[0mboxstyle\u001b[0m\u001b[0;34m=\u001b[0m\u001b[0;34m\"round4, pad=0.6\"\u001b[0m\u001b[0;34m,\u001b[0m \u001b[0mfc\u001b[0m\u001b[0;34m=\u001b[0m\u001b[0;34m\"w\"\u001b[0m\u001b[0;34m,\u001b[0m \u001b[0mec\u001b[0m\u001b[0;34m=\u001b[0m\u001b[0;34m\"black\"\u001b[0m\u001b[0;34m,\u001b[0m \u001b[0mlw\u001b[0m\u001b[0;34m=\u001b[0m\u001b[0;36m2\u001b[0m\u001b[0;34m)\u001b[0m\u001b[0;34m,\u001b[0m\u001b[0;34m\u001b[0m\u001b[0;34m\u001b[0m\u001b[0m\n\u001b[1;32m     22\u001b[0m                     textcoords=\"offset points\")\n\u001b[0;32m---> 23\u001b[0;31m \u001b[0m_\u001b[0m \u001b[0;34m=\u001b[0m \u001b[0mplt\u001b[0m\u001b[0;34m.\u001b[0m\u001b[0msavefig\u001b[0m\u001b[0;34m(\u001b[0m\u001b[0mtitle\u001b[0m\u001b[0;34m+\u001b[0m \u001b[0;34m\".\"\u001b[0m \u001b[0;34m+\u001b[0m\u001b[0mimg_fmt\u001b[0m\u001b[0;34m,\u001b[0m \u001b[0mformat\u001b[0m \u001b[0;34m=\u001b[0m \u001b[0mimg_fmt\u001b[0m\u001b[0;34m)\u001b[0m\u001b[0;34m\u001b[0m\u001b[0;34m\u001b[0m\u001b[0m\n\u001b[0m\u001b[1;32m     24\u001b[0m \u001b[0;34m\u001b[0m\u001b[0m\n",
            "\u001b[0;31mNameError\u001b[0m: name 'img_fmt' is not defined"
          ]
        },
        {
          "output_type": "display_data",
          "data": {
            "image/png": "[encoded data removed]",
            "text/plain": [
              "<Figure size 720x576 with 1 Axes>"
            ]
          },
          "metadata": {}
        }
      ]
    },
    {
      "cell_type": "code",
      "source": [
        "title = \"Diretores com mais crédito cinematográfico nos 6 melhores paises\"\n",
        "df_country = pd.DataFrame()\n",
        "fig, ax = plt.subplots(nrows=2. ncols=3, figsise=(30, 12), sharex=True)\n",
        "_=fig.suptitle(title, fontsize=35, color=\"blue\")\n",
        "i,j = 0.0\n",
        "n_countries = 6\n",
        "n_directors = 5\n",
        "\n",
        "for country in df_countries.tail(n_countries).country.values[::-1]:\n",
        "  t_df = df[df.country == country].groupby([\"director\", \"country\"], sort=False).count().sort_values(\"release_year\")[-n_directors:][::-1].reset_\n",
        "  plots = sns.barplot(data=t_df, y=\"director\", x=\"release_year\", ax = ax[i, j])\n",
        "\n",
        "  \n",
        "\n"
      ],
      "metadata": {
        "id": "0KzW-tDio5On"
      },
      "execution_count": null,
      "outputs": []
    },
    {
      "cell_type": "code",
      "source": [
        ""
      ],
      "metadata": {
        "id": "JbISAbWsr60V"
      },
      "execution_count": null,
      "outputs": []
    }
  ]
}